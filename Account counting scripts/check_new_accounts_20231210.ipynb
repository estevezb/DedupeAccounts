{
 "cells": [
  {
   "cell_type": "markdown",
   "metadata": {},
   "source": [
    "# Check if records are new, based on their presence in an input file of historical results"
   ]
  },
  {
   "cell_type": "markdown",
   "metadata": {},
   "source": [
    "### Setup: set file locations"
   ]
  },
  {
   "cell_type": "code",
   "execution_count": 3,
   "metadata": {},
   "outputs": [],
   "source": [
    "import pandas as pd\n",
    "import os\n",
    "import chardet\n",
    "import csv\n",
    "from datetime import datetime\n",
    "import plotly.express as px\n",
    "import pandas as pd\n",
    "from openpyxl import load_workbook\n",
    "\n",
    "#File locations\n",
    "\n",
    "#=================================== Historical account log book source file\n",
    "input1_base_path =r\"C:\\Users\\beste\\OneDrive - Qral Group\\01 Narcan\\08 Mastering\\00 Logbook\"\n",
    "\n",
    "raw_input1_file = os.path.join(input1_base_path, 'Customer Mastering LogBook v0.9.xlsx') # Set path containing the file with previously analyzed accounts\n",
    "\n",
    "# New subdirectory within input2_base_path\n",
    "subdirectory = \"Processed_inputs\" # saves your input file changes, e.g., with new column names\n",
    "\n",
    "\n",
    "#=================================== ExFactory and Specialty Distributor source files \n",
    "input2_base_path =r\"C:\\Users\\beste\\OneDrive - Qral Group\\01 Narcan\\12 Ops\\20231208 - postfix\\02 Internal Controls\"\n",
    "\n",
    "raw_input2_file = os.path.join(input2_base_path, 'Mastering Full Extract 20231208_163411.csv')\n",
    "\n",
    "# Function that automatically detects the character encoding needed to read file\n",
    "def detect_file_encoding(file_path):\n",
    "    with open(file_path, 'rb') as file:\n",
    "        result = chardet.detect(file.read())\n",
    "        return result['encoding']\n",
    "##==================================================================================================================\n",
    "\n",
    "#Read and process data\n",
    "encoding= detect_file_encoding(raw_input2_file)\n",
    "\n",
    "#Read in raw_input1_file file as a dataframe. This is the master account list against which we check the new accounts\n",
    "master_data= pd.read_excel(raw_input1_file, sheet_name='AccountMaster', header=3) # If needed use header parameter. e.g.,header = 4 , would mean that the data begins on row 5 in the input file\n",
    "\n",
    "# Read in the CSV file as a dataframe\n",
    "data = pd.read_csv(raw_input2_file, encoding=encoding)\n",
    "\n",
    "# Split the data into two datasets based on the 'Source' column\n",
    "new_ExFactory_data = data[data['Source'] == 'ExFactory']\n",
    "new_SpecDistr_data = data[data['Source'] != 'ExFactory']"
   ]
  },
  {
   "cell_type": "code",
   "execution_count": 5,
   "metadata": {},
   "outputs": [
    {
     "data": {
      "text/plain": [
       "(34141, 36)"
      ]
     },
     "execution_count": 5,
     "metadata": {},
     "output_type": "execute_result"
    }
   ],
   "source": [
    "master_data.shape"
   ]
  },
  {
   "cell_type": "code",
   "execution_count": 4,
   "metadata": {},
   "outputs": [
    {
     "data": {
      "text/html": [
       "<div>\n",
       "<style scoped>\n",
       "    .dataframe tbody tr th:only-of-type {\n",
       "        vertical-align: middle;\n",
       "    }\n",
       "\n",
       "    .dataframe tbody tr th {\n",
       "        vertical-align: top;\n",
       "    }\n",
       "\n",
       "    .dataframe thead th {\n",
       "        text-align: right;\n",
       "    }\n",
       "</style>\n",
       "<table border=\"1\" class=\"dataframe\">\n",
       "  <thead>\n",
       "    <tr style=\"text-align: right;\">\n",
       "      <th></th>\n",
       "      <th>Count of Records</th>\n",
       "      <th>Source</th>\n",
       "      <th>Transaction Bucket</th>\n",
       "      <th>Q_ID</th>\n",
       "      <th>MDM ID</th>\n",
       "      <th>Account | SFDC ID</th>\n",
       "      <th>Account | ND_Shipto_Number__c</th>\n",
       "      <th>Account | MDM_ID__c</th>\n",
       "      <th>ShipTo Code</th>\n",
       "      <th>ShipTo</th>\n",
       "      <th>...</th>\n",
       "      <th>Final - SubStatus</th>\n",
       "      <th>x.2</th>\n",
       "      <th>PIP Totals</th>\n",
       "      <th>SalesTrans Totals</th>\n",
       "      <th>x.3</th>\n",
       "      <th>x.4</th>\n",
       "      <th>x.5</th>\n",
       "      <th>x.6</th>\n",
       "      <th>x.7</th>\n",
       "      <th>x.8</th>\n",
       "    </tr>\n",
       "  </thead>\n",
       "  <tbody>\n",
       "    <tr>\n",
       "      <th>0</th>\n",
       "      <td>1</td>\n",
       "      <td>ExFactory</td>\n",
       "      <td>Direct to Customer</td>\n",
       "      <td>ExFactory | AXE22383</td>\n",
       "      <td>NaN</td>\n",
       "      <td>NaN</td>\n",
       "      <td>NaN</td>\n",
       "      <td>NaN</td>\n",
       "      <td>AXE22383</td>\n",
       "      <td>Bexar County Sheriffs Office</td>\n",
       "      <td>...</td>\n",
       "      <td>Verify - ND ShipTo_Number</td>\n",
       "      <td>x</td>\n",
       "      <td>24</td>\n",
       "      <td>0</td>\n",
       "      <td>False</td>\n",
       "      <td>NaN</td>\n",
       "      <td>NaN</td>\n",
       "      <td>NaN</td>\n",
       "      <td>NaN</td>\n",
       "      <td>NaN</td>\n",
       "    </tr>\n",
       "    <tr>\n",
       "      <th>1</th>\n",
       "      <td>2</td>\n",
       "      <td>ExFactory</td>\n",
       "      <td>Sales to Wholesaler</td>\n",
       "      <td>ExFactory | AX16395</td>\n",
       "      <td>NaN</td>\n",
       "      <td>NaN</td>\n",
       "      <td>NaN</td>\n",
       "      <td>NaN</td>\n",
       "      <td>AX16395</td>\n",
       "      <td>BAART MARKET</td>\n",
       "      <td>...</td>\n",
       "      <td>Reliable Match</td>\n",
       "      <td>x</td>\n",
       "      <td>0</td>\n",
       "      <td>0</td>\n",
       "      <td>True</td>\n",
       "      <td>NaN</td>\n",
       "      <td>NaN</td>\n",
       "      <td>NaN</td>\n",
       "      <td>NaN</td>\n",
       "      <td>NaN</td>\n",
       "    </tr>\n",
       "    <tr>\n",
       "      <th>2</th>\n",
       "      <td>1</td>\n",
       "      <td>ExFactory</td>\n",
       "      <td>Direct to Customer</td>\n",
       "      <td>ExFactory | AXE26282</td>\n",
       "      <td>NaN</td>\n",
       "      <td>0014x00001xEqptAAC</td>\n",
       "      <td>AXE26282</td>\n",
       "      <td>NaN</td>\n",
       "      <td>AXE26282</td>\n",
       "      <td>Texas Against Fentanyl</td>\n",
       "      <td>...</td>\n",
       "      <td>Found via ND ShipToNum</td>\n",
       "      <td>x</td>\n",
       "      <td>24</td>\n",
       "      <td>0</td>\n",
       "      <td>False</td>\n",
       "      <td>NaN</td>\n",
       "      <td>NaN</td>\n",
       "      <td>NaN</td>\n",
       "      <td>NaN</td>\n",
       "      <td>NaN</td>\n",
       "    </tr>\n",
       "    <tr>\n",
       "      <th>3</th>\n",
       "      <td>1</td>\n",
       "      <td>ExFactory</td>\n",
       "      <td>Direct to Customer</td>\n",
       "      <td>ExFactory | AXE01868</td>\n",
       "      <td>NaN</td>\n",
       "      <td>0014x00000EBzX9AAL</td>\n",
       "      <td>AXE01868</td>\n",
       "      <td>NaN</td>\n",
       "      <td>AXE01868</td>\n",
       "      <td>SIOUX COUNTY SHERRIFFS OFFICE</td>\n",
       "      <td>...</td>\n",
       "      <td>Found via ND ShipToNum</td>\n",
       "      <td>x</td>\n",
       "      <td>0</td>\n",
       "      <td>0</td>\n",
       "      <td>True</td>\n",
       "      <td>NaN</td>\n",
       "      <td>NaN</td>\n",
       "      <td>NaN</td>\n",
       "      <td>NaN</td>\n",
       "      <td>NaN</td>\n",
       "    </tr>\n",
       "    <tr>\n",
       "      <th>4</th>\n",
       "      <td>4</td>\n",
       "      <td>ExFactory</td>\n",
       "      <td>Sales to Wholesaler</td>\n",
       "      <td>ExFactory | AX3127</td>\n",
       "      <td>NaN</td>\n",
       "      <td>NaN</td>\n",
       "      <td>NaN</td>\n",
       "      <td>NaN</td>\n",
       "      <td>AX3127</td>\n",
       "      <td>MCKESSON ROBBINSVILLE</td>\n",
       "      <td>...</td>\n",
       "      <td>Not Found</td>\n",
       "      <td>x</td>\n",
       "      <td>0</td>\n",
       "      <td>0</td>\n",
       "      <td>True</td>\n",
       "      <td>NaN</td>\n",
       "      <td>NaN</td>\n",
       "      <td>NaN</td>\n",
       "      <td>NaN</td>\n",
       "      <td>NaN</td>\n",
       "    </tr>\n",
       "  </tbody>\n",
       "</table>\n",
       "<p>5 rows × 36 columns</p>\n",
       "</div>"
      ],
      "text/plain": [
       "   Count of Records     Source   Transaction Bucket                  Q_ID  \\\n",
       "0                 1  ExFactory   Direct to Customer  ExFactory | AXE22383   \n",
       "1                 2  ExFactory  Sales to Wholesaler   ExFactory | AX16395   \n",
       "2                 1  ExFactory   Direct to Customer  ExFactory | AXE26282   \n",
       "3                 1  ExFactory   Direct to Customer  ExFactory | AXE01868   \n",
       "4                 4  ExFactory  Sales to Wholesaler    ExFactory | AX3127   \n",
       "\n",
       "   MDM ID   Account | SFDC ID Account | ND_Shipto_Number__c  \\\n",
       "0     NaN                 NaN                           NaN   \n",
       "1     NaN                 NaN                           NaN   \n",
       "2     NaN  0014x00001xEqptAAC                      AXE26282   \n",
       "3     NaN  0014x00000EBzX9AAL                      AXE01868   \n",
       "4     NaN                 NaN                           NaN   \n",
       "\n",
       "   Account | MDM_ID__c ShipTo Code                         ShipTo  ...  \\\n",
       "0                  NaN    AXE22383   Bexar County Sheriffs Office  ...   \n",
       "1                  NaN     AX16395                   BAART MARKET  ...   \n",
       "2                  NaN    AXE26282         Texas Against Fentanyl  ...   \n",
       "3                  NaN    AXE01868  SIOUX COUNTY SHERRIFFS OFFICE  ...   \n",
       "4                  NaN      AX3127          MCKESSON ROBBINSVILLE  ...   \n",
       "\n",
       "           Final - SubStatus x.2 PIP Totals  SalesTrans Totals    x.3  x.4  \\\n",
       "0  Verify - ND ShipTo_Number   x         24                  0  False  NaN   \n",
       "1             Reliable Match   x          0                  0   True  NaN   \n",
       "2     Found via ND ShipToNum   x         24                  0  False  NaN   \n",
       "3     Found via ND ShipToNum   x          0                  0   True  NaN   \n",
       "4                  Not Found   x          0                  0   True  NaN   \n",
       "\n",
       "  x.5 x.6  x.7  x.8  \n",
       "0 NaN NaN  NaN  NaN  \n",
       "1 NaN NaN  NaN  NaN  \n",
       "2 NaN NaN  NaN  NaN  \n",
       "3 NaN NaN  NaN  NaN  \n",
       "4 NaN NaN  NaN  NaN  \n",
       "\n",
       "[5 rows x 36 columns]"
      ]
     },
     "execution_count": 4,
     "metadata": {},
     "output_type": "execute_result"
    }
   ],
   "source": [
    "master_data.head()"
   ]
  },
  {
   "cell_type": "code",
   "execution_count": 28,
   "metadata": {},
   "outputs": [
    {
     "data": {
      "text/html": [
       "<div>\n",
       "<style scoped>\n",
       "    .dataframe tbody tr th:only-of-type {\n",
       "        vertical-align: middle;\n",
       "    }\n",
       "\n",
       "    .dataframe tbody tr th {\n",
       "        vertical-align: top;\n",
       "    }\n",
       "\n",
       "    .dataframe thead th {\n",
       "        text-align: right;\n",
       "    }\n",
       "</style>\n",
       "<table border=\"1\" class=\"dataframe\">\n",
       "  <thead>\n",
       "    <tr style=\"text-align: right;\">\n",
       "      <th></th>\n",
       "      <th>Count of Records</th>\n",
       "      <th>Source</th>\n",
       "      <th>Transaction Bucket</th>\n",
       "      <th>Q_ID</th>\n",
       "      <th>MDM ID</th>\n",
       "      <th>Account | SFDC ID</th>\n",
       "      <th>Account | ND_Shipto_Number__c</th>\n",
       "      <th>Account | MDM_ID__c</th>\n",
       "      <th>ShipTo Code</th>\n",
       "      <th>ShipTo</th>\n",
       "      <th>Address</th>\n",
       "      <th>City</th>\n",
       "      <th>State</th>\n",
       "      <th>Zip</th>\n",
       "      <th>Max of Date</th>\n",
       "      <th>Sum of Quantity</th>\n",
       "    </tr>\n",
       "  </thead>\n",
       "  <tbody>\n",
       "    <tr>\n",
       "      <th>0</th>\n",
       "      <td>2</td>\n",
       "      <td>ExFactory</td>\n",
       "      <td>Direct to Customer</td>\n",
       "      <td>ExFactory | AXE16288</td>\n",
       "      <td>NaN</td>\n",
       "      <td>0014x000019wB1qAAE</td>\n",
       "      <td>AXE16288</td>\n",
       "      <td>NaN</td>\n",
       "      <td>AXE16288</td>\n",
       "      <td>Montclair Ambulance Unit</td>\n",
       "      <td>95 Walnut Street</td>\n",
       "      <td>Montclair</td>\n",
       "      <td>NJ</td>\n",
       "      <td>07042</td>\n",
       "      <td>4/19/2023 12:00:00 AM</td>\n",
       "      <td>36</td>\n",
       "    </tr>\n",
       "    <tr>\n",
       "      <th>1</th>\n",
       "      <td>65</td>\n",
       "      <td>ExFactory</td>\n",
       "      <td>Direct to Customer</td>\n",
       "      <td>ExFactory | AX9491</td>\n",
       "      <td>NaN</td>\n",
       "      <td>0014x00001rS9q7AAC</td>\n",
       "      <td>AX9491</td>\n",
       "      <td>NaN</td>\n",
       "      <td>AX9491</td>\n",
       "      <td>WHITE EARTH AMBULANCE</td>\n",
       "      <td>26246 CRANE RD</td>\n",
       "      <td>WHITE EARTH</td>\n",
       "      <td>MN</td>\n",
       "      <td>56591</td>\n",
       "      <td>10/24/2023 12:00:00 AM</td>\n",
       "      <td>11100</td>\n",
       "    </tr>\n",
       "    <tr>\n",
       "      <th>2</th>\n",
       "      <td>1</td>\n",
       "      <td>ExFactory</td>\n",
       "      <td>Direct to Customer</td>\n",
       "      <td>ExFactory | AXE22624</td>\n",
       "      <td>NaN</td>\n",
       "      <td>0014x00001ppJcpAAE</td>\n",
       "      <td>AXE22624</td>\n",
       "      <td>NaN</td>\n",
       "      <td>AXE22624</td>\n",
       "      <td>COMC - Pulaski county vending machine</td>\n",
       "      <td>304 W Washington Ave</td>\n",
       "      <td>Richland</td>\n",
       "      <td>MO</td>\n",
       "      <td>65556</td>\n",
       "      <td>2/16/2023 12:00:00 AM</td>\n",
       "      <td>120</td>\n",
       "    </tr>\n",
       "    <tr>\n",
       "      <th>3</th>\n",
       "      <td>3</td>\n",
       "      <td>ExFactory</td>\n",
       "      <td>Direct to Customer</td>\n",
       "      <td>ExFactory | AXE06189</td>\n",
       "      <td>NaN</td>\n",
       "      <td>0014x00000EByomAAD</td>\n",
       "      <td>AXE06189</td>\n",
       "      <td>NaN</td>\n",
       "      <td>AXE06189</td>\n",
       "      <td>Chippewa County Sheriffs Office</td>\n",
       "      <td>325 Court St</td>\n",
       "      <td>Sault Ste Marie</td>\n",
       "      <td>MI</td>\n",
       "      <td>49783</td>\n",
       "      <td>4/5/2023 12:00:00 AM</td>\n",
       "      <td>480</td>\n",
       "    </tr>\n",
       "    <tr>\n",
       "      <th>4</th>\n",
       "      <td>1</td>\n",
       "      <td>ExFactory</td>\n",
       "      <td>Direct to Customer</td>\n",
       "      <td>ExFactory | AXE06512</td>\n",
       "      <td>NaN</td>\n",
       "      <td>0014x00000EC2JsAAL</td>\n",
       "      <td>AXE06512</td>\n",
       "      <td>NaN</td>\n",
       "      <td>AXE06512</td>\n",
       "      <td>Life Balance Recovery</td>\n",
       "      <td>1291 expressway lane</td>\n",
       "      <td>Spanish fork</td>\n",
       "      <td>UT</td>\n",
       "      <td>84660</td>\n",
       "      <td>4/14/2020 12:00:00 AM</td>\n",
       "      <td>60</td>\n",
       "    </tr>\n",
       "  </tbody>\n",
       "</table>\n",
       "</div>"
      ],
      "text/plain": [
       "   Count of Records     Source  Transaction Bucket                  Q_ID  \\\n",
       "0                 2  ExFactory  Direct to Customer  ExFactory | AXE16288   \n",
       "1                65  ExFactory  Direct to Customer    ExFactory | AX9491   \n",
       "2                 1  ExFactory  Direct to Customer  ExFactory | AXE22624   \n",
       "3                 3  ExFactory  Direct to Customer  ExFactory | AXE06189   \n",
       "4                 1  ExFactory  Direct to Customer  ExFactory | AXE06512   \n",
       "\n",
       "   MDM ID   Account | SFDC ID Account | ND_Shipto_Number__c  \\\n",
       "0     NaN  0014x000019wB1qAAE                      AXE16288   \n",
       "1     NaN  0014x00001rS9q7AAC                        AX9491   \n",
       "2     NaN  0014x00001ppJcpAAE                      AXE22624   \n",
       "3     NaN  0014x00000EByomAAD                      AXE06189   \n",
       "4     NaN  0014x00000EC2JsAAL                      AXE06512   \n",
       "\n",
       "   Account | MDM_ID__c ShipTo Code                                 ShipTo  \\\n",
       "0                  NaN    AXE16288               Montclair Ambulance Unit   \n",
       "1                  NaN      AX9491                  WHITE EARTH AMBULANCE   \n",
       "2                  NaN    AXE22624  COMC - Pulaski county vending machine   \n",
       "3                  NaN    AXE06189        Chippewa County Sheriffs Office   \n",
       "4                  NaN    AXE06512                  Life Balance Recovery   \n",
       "\n",
       "                Address             City State    Zip             Max of Date  \\\n",
       "0      95 Walnut Street        Montclair    NJ  07042   4/19/2023 12:00:00 AM   \n",
       "1        26246 CRANE RD      WHITE EARTH    MN  56591  10/24/2023 12:00:00 AM   \n",
       "2  304 W Washington Ave         Richland    MO  65556   2/16/2023 12:00:00 AM   \n",
       "3          325 Court St  Sault Ste Marie    MI  49783    4/5/2023 12:00:00 AM   \n",
       "4  1291 expressway lane     Spanish fork    UT  84660   4/14/2020 12:00:00 AM   \n",
       "\n",
       "   Sum of Quantity  \n",
       "0               36  \n",
       "1            11100  \n",
       "2              120  \n",
       "3              480  \n",
       "4               60  "
      ]
     },
     "execution_count": 28,
     "metadata": {},
     "output_type": "execute_result"
    }
   ],
   "source": [
    "new_ExFactory_data.head()"
   ]
  },
  {
   "cell_type": "code",
   "execution_count": 29,
   "metadata": {},
   "outputs": [
    {
     "data": {
      "text/html": [
       "<div>\n",
       "<style scoped>\n",
       "    .dataframe tbody tr th:only-of-type {\n",
       "        vertical-align: middle;\n",
       "    }\n",
       "\n",
       "    .dataframe tbody tr th {\n",
       "        vertical-align: top;\n",
       "    }\n",
       "\n",
       "    .dataframe thead th {\n",
       "        text-align: right;\n",
       "    }\n",
       "</style>\n",
       "<table border=\"1\" class=\"dataframe\">\n",
       "  <thead>\n",
       "    <tr style=\"text-align: right;\">\n",
       "      <th></th>\n",
       "      <th>Count of Records</th>\n",
       "      <th>Source</th>\n",
       "      <th>Transaction Bucket</th>\n",
       "      <th>Q_ID</th>\n",
       "      <th>MDM ID</th>\n",
       "      <th>Account | SFDC ID</th>\n",
       "      <th>Account | ND_Shipto_Number__c</th>\n",
       "      <th>Account | MDM_ID__c</th>\n",
       "      <th>ShipTo Code</th>\n",
       "      <th>ShipTo</th>\n",
       "      <th>Address</th>\n",
       "      <th>City</th>\n",
       "      <th>State</th>\n",
       "      <th>Zip</th>\n",
       "      <th>Max of Date</th>\n",
       "      <th>Sum of Quantity</th>\n",
       "    </tr>\n",
       "  </thead>\n",
       "  <tbody>\n",
       "    <tr>\n",
       "      <th>23221</th>\n",
       "      <td>1</td>\n",
       "      <td>Diamond</td>\n",
       "      <td>Specialty Distributor</td>\n",
       "      <td>Diamond | RPCH | PYRAMID HEALTHCARE - CHAMBERS...</td>\n",
       "      <td>NaN</td>\n",
       "      <td>NaN</td>\n",
       "      <td>NaN</td>\n",
       "      <td>NaN</td>\n",
       "      <td>RPCH</td>\n",
       "      <td>PYRAMID HEALTHCARE - CHAMBERSBURG OUTPATIENT</td>\n",
       "      <td>455 PHOENIX DRIVE</td>\n",
       "      <td>CHAMBERSBURG</td>\n",
       "      <td>PA</td>\n",
       "      <td>17201</td>\n",
       "      <td>1/2/2018 12:00:00 AM</td>\n",
       "      <td>2</td>\n",
       "    </tr>\n",
       "    <tr>\n",
       "      <th>23222</th>\n",
       "      <td>3</td>\n",
       "      <td>Chargeback</td>\n",
       "      <td>Specialty Distributor</td>\n",
       "      <td>Chargeback |  | ARIZONA WESTERN COLLEGE POLICE...</td>\n",
       "      <td>NaN</td>\n",
       "      <td>NaN</td>\n",
       "      <td>NaN</td>\n",
       "      <td>NaN</td>\n",
       "      <td>NaN</td>\n",
       "      <td>ARIZONA WESTERN COLLEGE POLICE</td>\n",
       "      <td>2020 S AVE 8 E, PO BOX 929</td>\n",
       "      <td>YUMA</td>\n",
       "      <td>AZ</td>\n",
       "      <td>85365</td>\n",
       "      <td>4/7/2023 12:00:00 AM</td>\n",
       "      <td>204</td>\n",
       "    </tr>\n",
       "    <tr>\n",
       "      <th>23223</th>\n",
       "      <td>1</td>\n",
       "      <td>Truax</td>\n",
       "      <td>Specialty Distributor</td>\n",
       "      <td>Truax |  | SEWARD COUNTY,SHERIFF OFFI | 261 S ...</td>\n",
       "      <td>NaN</td>\n",
       "      <td>NaN</td>\n",
       "      <td>NaN</td>\n",
       "      <td>NaN</td>\n",
       "      <td>NaN</td>\n",
       "      <td>SEWARD COUNTY,SHERIFF OFFI</td>\n",
       "      <td>261 S 8TH STREET</td>\n",
       "      <td>SEWARD</td>\n",
       "      <td>NE</td>\n",
       "      <td>68434</td>\n",
       "      <td>7/15/2021 11:26:00 AM</td>\n",
       "      <td>48</td>\n",
       "    </tr>\n",
       "    <tr>\n",
       "      <th>23224</th>\n",
       "      <td>1</td>\n",
       "      <td>Chargeback</td>\n",
       "      <td>Specialty Distributor</td>\n",
       "      <td>Chargeback |  | ARIZONA DEPT OF HEALTH SERVICE...</td>\n",
       "      <td>NaN</td>\n",
       "      <td>NaN</td>\n",
       "      <td>NaN</td>\n",
       "      <td>NaN</td>\n",
       "      <td>NaN</td>\n",
       "      <td>ARIZONA DEPT OF HEALTH SERVICES</td>\n",
       "      <td>262 E BROWN ROAD</td>\n",
       "      <td>MESA</td>\n",
       "      <td>AZ</td>\n",
       "      <td>85201</td>\n",
       "      <td>9/11/2023 12:00:00 AM</td>\n",
       "      <td>50</td>\n",
       "    </tr>\n",
       "    <tr>\n",
       "      <th>23225</th>\n",
       "      <td>7</td>\n",
       "      <td>Chargeback</td>\n",
       "      <td>Specialty Distributor</td>\n",
       "      <td>Chargeback |  | THE STUDENT HEALTH CENTER AT A...</td>\n",
       "      <td>NaN</td>\n",
       "      <td>NaN</td>\n",
       "      <td>NaN</td>\n",
       "      <td>NaN</td>\n",
       "      <td>NaN</td>\n",
       "      <td>THE STUDENT HEALTH CENTER AT AURARIA</td>\n",
       "      <td>955 LAWRENCE WAY, MSU DENVER A/P</td>\n",
       "      <td>DENVER</td>\n",
       "      <td>CO</td>\n",
       "      <td>80217</td>\n",
       "      <td>5/1/2020 12:00:00 AM</td>\n",
       "      <td>31</td>\n",
       "    </tr>\n",
       "  </tbody>\n",
       "</table>\n",
       "</div>"
      ],
      "text/plain": [
       "       Count of Records      Source     Transaction Bucket  \\\n",
       "23221                 1     Diamond  Specialty Distributor   \n",
       "23222                 3  Chargeback  Specialty Distributor   \n",
       "23223                 1       Truax  Specialty Distributor   \n",
       "23224                 1  Chargeback  Specialty Distributor   \n",
       "23225                 7  Chargeback  Specialty Distributor   \n",
       "\n",
       "                                                    Q_ID  MDM ID  \\\n",
       "23221  Diamond | RPCH | PYRAMID HEALTHCARE - CHAMBERS...     NaN   \n",
       "23222  Chargeback |  | ARIZONA WESTERN COLLEGE POLICE...     NaN   \n",
       "23223  Truax |  | SEWARD COUNTY,SHERIFF OFFI | 261 S ...     NaN   \n",
       "23224  Chargeback |  | ARIZONA DEPT OF HEALTH SERVICE...     NaN   \n",
       "23225  Chargeback |  | THE STUDENT HEALTH CENTER AT A...     NaN   \n",
       "\n",
       "      Account | SFDC ID Account | ND_Shipto_Number__c  Account | MDM_ID__c  \\\n",
       "23221               NaN                           NaN                  NaN   \n",
       "23222               NaN                           NaN                  NaN   \n",
       "23223               NaN                           NaN                  NaN   \n",
       "23224               NaN                           NaN                  NaN   \n",
       "23225               NaN                           NaN                  NaN   \n",
       "\n",
       "      ShipTo Code                                        ShipTo  \\\n",
       "23221        RPCH  PYRAMID HEALTHCARE - CHAMBERSBURG OUTPATIENT   \n",
       "23222         NaN                ARIZONA WESTERN COLLEGE POLICE   \n",
       "23223         NaN                    SEWARD COUNTY,SHERIFF OFFI   \n",
       "23224         NaN               ARIZONA DEPT OF HEALTH SERVICES   \n",
       "23225         NaN          THE STUDENT HEALTH CENTER AT AURARIA   \n",
       "\n",
       "                                Address          City State    Zip  \\\n",
       "23221                 455 PHOENIX DRIVE  CHAMBERSBURG    PA  17201   \n",
       "23222        2020 S AVE 8 E, PO BOX 929          YUMA    AZ  85365   \n",
       "23223                  261 S 8TH STREET        SEWARD    NE  68434   \n",
       "23224                  262 E BROWN ROAD          MESA    AZ  85201   \n",
       "23225  955 LAWRENCE WAY, MSU DENVER A/P        DENVER    CO  80217   \n",
       "\n",
       "                 Max of Date  Sum of Quantity  \n",
       "23221   1/2/2018 12:00:00 AM                2  \n",
       "23222   4/7/2023 12:00:00 AM              204  \n",
       "23223  7/15/2021 11:26:00 AM               48  \n",
       "23224  9/11/2023 12:00:00 AM               50  \n",
       "23225   5/1/2020 12:00:00 AM               31  "
      ]
     },
     "execution_count": 29,
     "metadata": {},
     "output_type": "execute_result"
    }
   ],
   "source": [
    "new_SpecDistr_data.head()"
   ]
  },
  {
   "cell_type": "code",
   "execution_count": 30,
   "metadata": {},
   "outputs": [
    {
     "data": {
      "text/plain": [
       "(6125, 16)"
      ]
     },
     "execution_count": 30,
     "metadata": {},
     "output_type": "execute_result"
    }
   ],
   "source": [
    "new_SpecDistr_data.shape"
   ]
  },
  {
   "cell_type": "code",
   "execution_count": 31,
   "metadata": {},
   "outputs": [
    {
     "data": {
      "text/plain": [
       "(30467, 16)"
      ]
     },
     "execution_count": 31,
     "metadata": {},
     "output_type": "execute_result"
    }
   ],
   "source": [
    "new_ExFactory_data.shape"
   ]
  },
  {
   "cell_type": "markdown",
   "metadata": {},
   "source": [
    "### Summary counts for master data set"
   ]
  },
  {
   "cell_type": "code",
   "execution_count": 66,
   "metadata": {},
   "outputs": [
    {
     "data": {
      "text/plain": [
       "(34154, 18)"
      ]
     },
     "execution_count": 66,
     "metadata": {},
     "output_type": "execute_result"
    }
   ],
   "source": [
    "master_data.shape"
   ]
  },
  {
   "cell_type": "code",
   "execution_count": 67,
   "metadata": {},
   "outputs": [
    {
     "name": "stdout",
     "output_type": "stream",
     "text": [
      "<class 'pandas.core.frame.DataFrame'>\n",
      "RangeIndex: 34154 entries, 0 to 34153\n",
      "Data columns (total 18 columns):\n",
      " #   Column                            Non-Null Count  Dtype         \n",
      "---  ------                            --------------  -----         \n",
      " 0   Source                            34154 non-null  object        \n",
      " 1   Q_ID                              34154 non-null  object        \n",
      " 2   Trim Q_ID                         34154 non-null  object        \n",
      " 3   x                                 28011 non-null  object        \n",
      " 4   ShipTo Number                     29537 non-null  object        \n",
      " 5   Name                              34149 non-null  object        \n",
      " 6   Address                           30797 non-null  object        \n",
      " 7   City                              34150 non-null  object        \n",
      " 8   State                             34153 non-null  object        \n",
      " 9   Zip                               30858 non-null  object        \n",
      " 10  ChargeTo Number                   0 non-null      float64       \n",
      " 11  MDM ID                            34154 non-null  object        \n",
      " 12  Week Received                     34154 non-null  datetime64[ns]\n",
      " 13  Status                            34154 non-null  object        \n",
      " 14  Sub-Status                        34154 non-null  object        \n",
      " 15  SF ID                             34154 non-null  object        \n",
      " 16  Comment                           0 non-null      float64       \n",
      " 17  count if in list of new accounts  34154 non-null  int64         \n",
      "dtypes: datetime64[ns](1), float64(2), int64(1), object(14)\n",
      "memory usage: 4.7+ MB\n"
     ]
    }
   ],
   "source": [
    "master_data.info()"
   ]
  },
  {
   "cell_type": "code",
   "execution_count": 5,
   "metadata": {},
   "outputs": [
    {
     "data": {
      "text/html": [
       "<div>\n",
       "<style scoped>\n",
       "    .dataframe tbody tr th:only-of-type {\n",
       "        vertical-align: middle;\n",
       "    }\n",
       "\n",
       "    .dataframe tbody tr th {\n",
       "        vertical-align: top;\n",
       "    }\n",
       "\n",
       "    .dataframe thead th {\n",
       "        text-align: right;\n",
       "    }\n",
       "</style>\n",
       "<table border=\"1\" class=\"dataframe\">\n",
       "  <thead>\n",
       "    <tr style=\"text-align: right;\">\n",
       "      <th></th>\n",
       "      <th>ChargeTo Number</th>\n",
       "      <th>MCM ID</th>\n",
       "      <th>Week Received</th>\n",
       "      <th>Comment</th>\n",
       "    </tr>\n",
       "  </thead>\n",
       "  <tbody>\n",
       "    <tr>\n",
       "      <th>count</th>\n",
       "      <td>0.0</td>\n",
       "      <td>0.0</td>\n",
       "      <td>34118</td>\n",
       "      <td>0.0</td>\n",
       "    </tr>\n",
       "    <tr>\n",
       "      <th>mean</th>\n",
       "      <td>NaN</td>\n",
       "      <td>NaN</td>\n",
       "      <td>2023-11-28 00:00:00</td>\n",
       "      <td>NaN</td>\n",
       "    </tr>\n",
       "    <tr>\n",
       "      <th>min</th>\n",
       "      <td>NaN</td>\n",
       "      <td>NaN</td>\n",
       "      <td>2023-11-28 00:00:00</td>\n",
       "      <td>NaN</td>\n",
       "    </tr>\n",
       "    <tr>\n",
       "      <th>25%</th>\n",
       "      <td>NaN</td>\n",
       "      <td>NaN</td>\n",
       "      <td>2023-11-28 00:00:00</td>\n",
       "      <td>NaN</td>\n",
       "    </tr>\n",
       "    <tr>\n",
       "      <th>50%</th>\n",
       "      <td>NaN</td>\n",
       "      <td>NaN</td>\n",
       "      <td>2023-11-28 00:00:00</td>\n",
       "      <td>NaN</td>\n",
       "    </tr>\n",
       "    <tr>\n",
       "      <th>75%</th>\n",
       "      <td>NaN</td>\n",
       "      <td>NaN</td>\n",
       "      <td>2023-11-28 00:00:00</td>\n",
       "      <td>NaN</td>\n",
       "    </tr>\n",
       "    <tr>\n",
       "      <th>max</th>\n",
       "      <td>NaN</td>\n",
       "      <td>NaN</td>\n",
       "      <td>2023-11-28 00:00:00</td>\n",
       "      <td>NaN</td>\n",
       "    </tr>\n",
       "    <tr>\n",
       "      <th>std</th>\n",
       "      <td>NaN</td>\n",
       "      <td>NaN</td>\n",
       "      <td>NaN</td>\n",
       "      <td>NaN</td>\n",
       "    </tr>\n",
       "  </tbody>\n",
       "</table>\n",
       "</div>"
      ],
      "text/plain": [
       "       ChargeTo Number  MCM ID        Week Received  Comment\n",
       "count              0.0     0.0                34118      0.0\n",
       "mean               NaN     NaN  2023-11-28 00:00:00      NaN\n",
       "min                NaN     NaN  2023-11-28 00:00:00      NaN\n",
       "25%                NaN     NaN  2023-11-28 00:00:00      NaN\n",
       "50%                NaN     NaN  2023-11-28 00:00:00      NaN\n",
       "75%                NaN     NaN  2023-11-28 00:00:00      NaN\n",
       "max                NaN     NaN  2023-11-28 00:00:00      NaN\n",
       "std                NaN     NaN                  NaN      NaN"
      ]
     },
     "execution_count": 5,
     "metadata": {},
     "output_type": "execute_result"
    }
   ],
   "source": [
    "master_data.describe()"
   ]
  },
  {
   "cell_type": "markdown",
   "metadata": {},
   "source": [
    "### Clean data: drop blank columns"
   ]
  },
  {
   "cell_type": "code",
   "execution_count": 5,
   "metadata": {},
   "outputs": [],
   "source": [
    "#Drop any columns where all values are blank\n",
    "\n",
    "master_data.dropna(axis=1, how='all', inplace=True)"
   ]
  },
  {
   "cell_type": "code",
   "execution_count": 8,
   "metadata": {},
   "outputs": [
    {
     "data": {
      "text/plain": [
       "(34118, 16)"
      ]
     },
     "execution_count": 8,
     "metadata": {},
     "output_type": "execute_result"
    }
   ],
   "source": [
    "master_data.shape"
   ]
  },
  {
   "cell_type": "code",
   "execution_count": 5,
   "metadata": {},
   "outputs": [
    {
     "name": "stdout",
     "output_type": "stream",
     "text": [
      "<class 'pandas.core.frame.DataFrame'>\n",
      "RangeIndex: 34118 entries, 0 to 34117\n",
      "Data columns (total 16 columns):\n",
      " #   Column           Non-Null Count  Dtype         \n",
      "---  ------           --------------  -----         \n",
      " 0   Source           34118 non-null  object        \n",
      " 1   Q_ID             34118 non-null  object        \n",
      " 2   x                34118 non-null  object        \n",
      " 3   ShipTo Number    28016 non-null  object        \n",
      " 4   Name             34113 non-null  object        \n",
      " 5   Address          30767 non-null  object        \n",
      " 6   City             34115 non-null  object        \n",
      " 7   State            34117 non-null  object        \n",
      " 8   Zip              30828 non-null  object        \n",
      " 9   ChargeTo Number  0 non-null      float64       \n",
      " 10  MCM ID           0 non-null      float64       \n",
      " 11  Week Received    34118 non-null  datetime64[ns]\n",
      " 12  Status           34118 non-null  object        \n",
      " 13  Sub-Status       34118 non-null  object        \n",
      " 14  SF ID            34118 non-null  object        \n",
      " 15  Comment          0 non-null      float64       \n",
      "dtypes: datetime64[ns](1), float64(3), object(12)\n",
      "memory usage: 4.2+ MB\n"
     ]
    }
   ],
   "source": [
    "master_data.info()"
   ]
  },
  {
   "cell_type": "markdown",
   "metadata": {},
   "source": [
    "### Filter data by columns to focus analysis and count unique historical accounts"
   ]
  },
  {
   "cell_type": "code",
   "execution_count": 51,
   "metadata": {},
   "outputs": [
    {
     "name": "stdout",
     "output_type": "stream",
     "text": [
      "Unique Q_ID count in master data: 34151\n",
      "Unique ShipTo Codes in master data: 29116\n",
      "Unique Q_ID and ShipTo Code combination count in master data: 29534\n"
     ]
    }
   ],
   "source": [
    "#filter columns AG and AL from master data\n",
    "master_data_filtered = master_data[['Q_ID', 'SF ID', 'ShipTo Number']] # note that this approach is column filtering, master_data[['name of your columns']], which means you only take those columns for downstream analysis\n",
    "\n",
    "# count number of unique records by Q_ID, ShipTo Code , or both\n",
    "\n",
    "unique_Q_ID_count_master = master_data_filtered['Q_ID'].nunique()\n",
    "unique_Q_ID_ShipTo_combination_count_master = master_data_filtered.groupby(['Q_ID', 'ShipTo Number']).ngroups\n",
    "unique_Q_ID_ShipTo_master = master_data_filtered['ShipTo Number'].nunique()\n",
    "\n",
    "# Print the results\n",
    "print(f\"Unique Q_ID count in master data: {unique_Q_ID_count_master}\")\n",
    "print(f\"Unique ShipTo Codes in master data: {unique_Q_ID_ShipTo_master}\")\n",
    "print(f\"Unique Q_ID and ShipTo Code combination count in master data: {unique_Q_ID_ShipTo_combination_count_master}\")\n"
   ]
  },
  {
   "cell_type": "markdown",
   "metadata": {},
   "source": [
    "### Filter by Q_ID to focus analysis on New Account with Q_ID not in Customer logbook"
   ]
  },
  {
   "cell_type": "code",
   "execution_count": 7,
   "metadata": {},
   "outputs": [
    {
     "name": "stdout",
     "output_type": "stream",
     "text": [
      "Unique Q_ID count in master historical data for 'ExFactory' source: 27664\n"
     ]
    }
   ],
   "source": [
    "# Create the 'short_Q_ID' column by concatenating 'Source' and 'ShipTo Code'\n",
    "#master_data['short_Q_ID'] = master_data['Source'] + ' | ' + master_data['ShipTo Number']\n",
    "\n",
    "# Format 'short_Q_ID' column (as a string, with leading/trailing spaces removed, convert to uppercase)\n",
    "#master_data['short_Q_ID'] = master_data['short_Q_ID'].astype(str).str.strip().str.upper()\n",
    "\n",
    "# Format 'Q_ID' column (as a string, with leading/trailing spaces removed, convert to uppercase)\n",
    "master_data['Q_ID'] = master_data['Q_ID'].astype(str).str.strip().str.upper()\n",
    "\n",
    "# Filter columns from master data\n",
    "master_data_filtered = master_data[['Source', 'Q_ID']]\n",
    "\n",
    "# Count number of unique records by 'short_Q_ID' for 'ExFactory' source\n",
    "unique_Q_ID_count_master = master_data_filtered[master_data_filtered['Source'] == 'ExFactory']['Q_ID'].nunique()\n",
    "\n",
    "# Print the results\n",
    "print(f\"Unique Q_ID count in master historical data for 'ExFactory' source: {unique_Q_ID_count_master}\")"
   ]
  },
  {
   "cell_type": "code",
   "execution_count": 8,
   "metadata": {},
   "outputs": [
    {
     "data": {
      "text/html": [
       "<div>\n",
       "<style scoped>\n",
       "    .dataframe tbody tr th:only-of-type {\n",
       "        vertical-align: middle;\n",
       "    }\n",
       "\n",
       "    .dataframe tbody tr th {\n",
       "        vertical-align: top;\n",
       "    }\n",
       "\n",
       "    .dataframe thead th {\n",
       "        text-align: right;\n",
       "    }\n",
       "</style>\n",
       "<table border=\"1\" class=\"dataframe\">\n",
       "  <thead>\n",
       "    <tr style=\"text-align: right;\">\n",
       "      <th></th>\n",
       "      <th>Source</th>\n",
       "      <th>Q_ID</th>\n",
       "    </tr>\n",
       "  </thead>\n",
       "  <tbody>\n",
       "    <tr>\n",
       "      <th>0</th>\n",
       "      <td>ExFactory</td>\n",
       "      <td>EXFACTORY | AXE22383</td>\n",
       "    </tr>\n",
       "    <tr>\n",
       "      <th>1</th>\n",
       "      <td>ExFactory</td>\n",
       "      <td>EXFACTORY | AX16395</td>\n",
       "    </tr>\n",
       "    <tr>\n",
       "      <th>2</th>\n",
       "      <td>ExFactory</td>\n",
       "      <td>EXFACTORY | AXE26282</td>\n",
       "    </tr>\n",
       "    <tr>\n",
       "      <th>3</th>\n",
       "      <td>ExFactory</td>\n",
       "      <td>EXFACTORY | AXE01868</td>\n",
       "    </tr>\n",
       "    <tr>\n",
       "      <th>4</th>\n",
       "      <td>ExFactory</td>\n",
       "      <td>EXFACTORY | AX3127</td>\n",
       "    </tr>\n",
       "    <tr>\n",
       "      <th>...</th>\n",
       "      <td>...</td>\n",
       "      <td>...</td>\n",
       "    </tr>\n",
       "    <tr>\n",
       "      <th>34136</th>\n",
       "      <td>ExFactory</td>\n",
       "      <td>EXFACTORY | AXE18961</td>\n",
       "    </tr>\n",
       "    <tr>\n",
       "      <th>34137</th>\n",
       "      <td>ExFactory</td>\n",
       "      <td>EXFACTORY | AX17583</td>\n",
       "    </tr>\n",
       "    <tr>\n",
       "      <th>34138</th>\n",
       "      <td>ExFactory</td>\n",
       "      <td>EXFACTORY | AXE28996</td>\n",
       "    </tr>\n",
       "    <tr>\n",
       "      <th>34139</th>\n",
       "      <td>ExFactory</td>\n",
       "      <td>EXFACTORY | AXE03714</td>\n",
       "    </tr>\n",
       "    <tr>\n",
       "      <th>34140</th>\n",
       "      <td>ExFactory</td>\n",
       "      <td>EXFACTORY | AX11016</td>\n",
       "    </tr>\n",
       "  </tbody>\n",
       "</table>\n",
       "<p>34141 rows × 2 columns</p>\n",
       "</div>"
      ],
      "text/plain": [
       "          Source                  Q_ID\n",
       "0      ExFactory  EXFACTORY | AXE22383\n",
       "1      ExFactory   EXFACTORY | AX16395\n",
       "2      ExFactory  EXFACTORY | AXE26282\n",
       "3      ExFactory  EXFACTORY | AXE01868\n",
       "4      ExFactory    EXFACTORY | AX3127\n",
       "...          ...                   ...\n",
       "34136  ExFactory  EXFACTORY | AXE18961\n",
       "34137  ExFactory   EXFACTORY | AX17583\n",
       "34138  ExFactory  EXFACTORY | AXE28996\n",
       "34139  ExFactory  EXFACTORY | AXE03714\n",
       "34140  ExFactory   EXFACTORY | AX11016\n",
       "\n",
       "[34141 rows x 2 columns]"
      ]
     },
     "execution_count": 8,
     "metadata": {},
     "output_type": "execute_result"
    }
   ],
   "source": [
    "master_data_filtered"
   ]
  },
  {
   "cell_type": "code",
   "execution_count": 53,
   "metadata": {},
   "outputs": [
    {
     "data": {
      "text/plain": [
       "(30467, 16)"
      ]
     },
     "execution_count": 53,
     "metadata": {},
     "output_type": "execute_result"
    }
   ],
   "source": [
    "new_ExFactory_data.shape"
   ]
  },
  {
   "cell_type": "code",
   "execution_count": 74,
   "metadata": {},
   "outputs": [
    {
     "data": {
      "text/html": [
       "<div>\n",
       "<style scoped>\n",
       "    .dataframe tbody tr th:only-of-type {\n",
       "        vertical-align: middle;\n",
       "    }\n",
       "\n",
       "    .dataframe tbody tr th {\n",
       "        vertical-align: top;\n",
       "    }\n",
       "\n",
       "    .dataframe thead th {\n",
       "        text-align: right;\n",
       "    }\n",
       "</style>\n",
       "<table border=\"1\" class=\"dataframe\">\n",
       "  <thead>\n",
       "    <tr style=\"text-align: right;\">\n",
       "      <th></th>\n",
       "      <th>Count of Records</th>\n",
       "      <th>Source</th>\n",
       "      <th>Transaction Bucket</th>\n",
       "      <th>Q_ID</th>\n",
       "      <th>MDM ID</th>\n",
       "      <th>Account | SFDC ID</th>\n",
       "      <th>Account | ND_Shipto_Number__c</th>\n",
       "      <th>Account | MDM_ID__c</th>\n",
       "      <th>ShipTo Code</th>\n",
       "      <th>ShipTo</th>\n",
       "      <th>Address</th>\n",
       "      <th>City</th>\n",
       "      <th>State</th>\n",
       "      <th>Zip</th>\n",
       "      <th>Max of Date</th>\n",
       "      <th>Sum of Quantity</th>\n",
       "    </tr>\n",
       "  </thead>\n",
       "  <tbody>\n",
       "    <tr>\n",
       "      <th>0</th>\n",
       "      <td>2</td>\n",
       "      <td>ExFactory</td>\n",
       "      <td>Direct to Customer</td>\n",
       "      <td>ExFactory | AXE16288</td>\n",
       "      <td>NaN</td>\n",
       "      <td>0014x000019wB1qAAE</td>\n",
       "      <td>AXE16288</td>\n",
       "      <td>NaN</td>\n",
       "      <td>AXE16288</td>\n",
       "      <td>Montclair Ambulance Unit</td>\n",
       "      <td>95 Walnut Street</td>\n",
       "      <td>Montclair</td>\n",
       "      <td>NJ</td>\n",
       "      <td>07042</td>\n",
       "      <td>4/19/2023 12:00:00 AM</td>\n",
       "      <td>36</td>\n",
       "    </tr>\n",
       "    <tr>\n",
       "      <th>1</th>\n",
       "      <td>65</td>\n",
       "      <td>ExFactory</td>\n",
       "      <td>Direct to Customer</td>\n",
       "      <td>ExFactory | AX9491</td>\n",
       "      <td>NaN</td>\n",
       "      <td>0014x00001rS9q7AAC</td>\n",
       "      <td>AX9491</td>\n",
       "      <td>NaN</td>\n",
       "      <td>AX9491</td>\n",
       "      <td>WHITE EARTH AMBULANCE</td>\n",
       "      <td>26246 CRANE RD</td>\n",
       "      <td>WHITE EARTH</td>\n",
       "      <td>MN</td>\n",
       "      <td>56591</td>\n",
       "      <td>10/24/2023 12:00:00 AM</td>\n",
       "      <td>11100</td>\n",
       "    </tr>\n",
       "    <tr>\n",
       "      <th>2</th>\n",
       "      <td>1</td>\n",
       "      <td>ExFactory</td>\n",
       "      <td>Direct to Customer</td>\n",
       "      <td>ExFactory | AXE22624</td>\n",
       "      <td>NaN</td>\n",
       "      <td>0014x00001ppJcpAAE</td>\n",
       "      <td>AXE22624</td>\n",
       "      <td>NaN</td>\n",
       "      <td>AXE22624</td>\n",
       "      <td>COMC - Pulaski county vending machine</td>\n",
       "      <td>304 W Washington Ave</td>\n",
       "      <td>Richland</td>\n",
       "      <td>MO</td>\n",
       "      <td>65556</td>\n",
       "      <td>2/16/2023 12:00:00 AM</td>\n",
       "      <td>120</td>\n",
       "    </tr>\n",
       "    <tr>\n",
       "      <th>3</th>\n",
       "      <td>3</td>\n",
       "      <td>ExFactory</td>\n",
       "      <td>Direct to Customer</td>\n",
       "      <td>ExFactory | AXE06189</td>\n",
       "      <td>NaN</td>\n",
       "      <td>0014x00000EByomAAD</td>\n",
       "      <td>AXE06189</td>\n",
       "      <td>NaN</td>\n",
       "      <td>AXE06189</td>\n",
       "      <td>Chippewa County Sheriffs Office</td>\n",
       "      <td>325 Court St</td>\n",
       "      <td>Sault Ste Marie</td>\n",
       "      <td>MI</td>\n",
       "      <td>49783</td>\n",
       "      <td>4/5/2023 12:00:00 AM</td>\n",
       "      <td>480</td>\n",
       "    </tr>\n",
       "    <tr>\n",
       "      <th>4</th>\n",
       "      <td>1</td>\n",
       "      <td>ExFactory</td>\n",
       "      <td>Direct to Customer</td>\n",
       "      <td>ExFactory | AXE06512</td>\n",
       "      <td>NaN</td>\n",
       "      <td>0014x00000EC2JsAAL</td>\n",
       "      <td>AXE06512</td>\n",
       "      <td>NaN</td>\n",
       "      <td>AXE06512</td>\n",
       "      <td>Life Balance Recovery</td>\n",
       "      <td>1291 expressway lane</td>\n",
       "      <td>Spanish fork</td>\n",
       "      <td>UT</td>\n",
       "      <td>84660</td>\n",
       "      <td>4/14/2020 12:00:00 AM</td>\n",
       "      <td>60</td>\n",
       "    </tr>\n",
       "  </tbody>\n",
       "</table>\n",
       "</div>"
      ],
      "text/plain": [
       "   Count of Records     Source  Transaction Bucket                  Q_ID  \\\n",
       "0                 2  ExFactory  Direct to Customer  ExFactory | AXE16288   \n",
       "1                65  ExFactory  Direct to Customer    ExFactory | AX9491   \n",
       "2                 1  ExFactory  Direct to Customer  ExFactory | AXE22624   \n",
       "3                 3  ExFactory  Direct to Customer  ExFactory | AXE06189   \n",
       "4                 1  ExFactory  Direct to Customer  ExFactory | AXE06512   \n",
       "\n",
       "   MDM ID   Account | SFDC ID Account | ND_Shipto_Number__c  \\\n",
       "0     NaN  0014x000019wB1qAAE                      AXE16288   \n",
       "1     NaN  0014x00001rS9q7AAC                        AX9491   \n",
       "2     NaN  0014x00001ppJcpAAE                      AXE22624   \n",
       "3     NaN  0014x00000EByomAAD                      AXE06189   \n",
       "4     NaN  0014x00000EC2JsAAL                      AXE06512   \n",
       "\n",
       "   Account | MDM_ID__c ShipTo Code                                 ShipTo  \\\n",
       "0                  NaN    AXE16288               Montclair Ambulance Unit   \n",
       "1                  NaN      AX9491                  WHITE EARTH AMBULANCE   \n",
       "2                  NaN    AXE22624  COMC - Pulaski county vending machine   \n",
       "3                  NaN    AXE06189        Chippewa County Sheriffs Office   \n",
       "4                  NaN    AXE06512                  Life Balance Recovery   \n",
       "\n",
       "                Address             City State    Zip             Max of Date  \\\n",
       "0      95 Walnut Street        Montclair    NJ  07042   4/19/2023 12:00:00 AM   \n",
       "1        26246 CRANE RD      WHITE EARTH    MN  56591  10/24/2023 12:00:00 AM   \n",
       "2  304 W Washington Ave         Richland    MO  65556   2/16/2023 12:00:00 AM   \n",
       "3          325 Court St  Sault Ste Marie    MI  49783    4/5/2023 12:00:00 AM   \n",
       "4  1291 expressway lane     Spanish fork    UT  84660   4/14/2020 12:00:00 AM   \n",
       "\n",
       "   Sum of Quantity  \n",
       "0               36  \n",
       "1            11100  \n",
       "2              120  \n",
       "3              480  \n",
       "4               60  "
      ]
     },
     "execution_count": 74,
     "metadata": {},
     "output_type": "execute_result"
    }
   ],
   "source": [
    "new_ExFactory_data.head()"
   ]
  },
  {
   "cell_type": "markdown",
   "metadata": {},
   "source": [
    "#### Refresh memory of variable names using %Who and %info magic"
   ]
  },
  {
   "cell_type": "code",
   "execution_count": 21,
   "metadata": {},
   "outputs": [
    {
     "name": "stdout",
     "output_type": "stream",
     "text": [
      "chardet\t csv\t datetime\t detect_file_encoding\t encoding\t fig\t input1_base_path\t input2_base_path\t master_data\t \n",
      "master_data_filtered\t new_ExFactory_data\t new_SpecDistr_data\t new_accounts\t new_data\t not_found_accounts\t os\t pd\t px\t \n",
      "raw_input1_file\t raw_input2_file\t raw_input3_file\t subdirectory\t unique_Q_ID_ShipTo_Combo_count_new\t unique_Q_ID_ShipTo_combination_count_master\t unique_Q_ID_ShipTo_master\t unique_Q_ID_count_master\t unique_Q_ID_count_new\t \n",
      "\n"
     ]
    }
   ],
   "source": [
    "%who"
   ]
  },
  {
   "cell_type": "code",
   "execution_count": 14,
   "metadata": {},
   "outputs": [
    {
     "name": "stdout",
     "output_type": "stream",
     "text": [
      "\u001b[1;31mType:\u001b[0m        str\n",
      "\u001b[1;31mString form:\u001b[0m Processed_inputs\n",
      "\u001b[1;31mLength:\u001b[0m      16\n",
      "\u001b[1;31mDocstring:\u001b[0m  \n",
      "str(object='') -> str\n",
      "str(bytes_or_buffer[, encoding[, errors]]) -> str\n",
      "\n",
      "Create a new string object from the given object. If encoding or\n",
      "errors is specified, then the object must expose a data buffer\n",
      "that will be decoded using the given encoding and error handler.\n",
      "Otherwise, returns the result of object.__str__() (if defined)\n",
      "or repr(object).\n",
      "encoding defaults to sys.getdefaultencoding().\n",
      "errors defaults to 'strict'."
     ]
    }
   ],
   "source": [
    "%pinfo subdirectory"
   ]
  },
  {
   "cell_type": "markdown",
   "metadata": {},
   "source": [
    "### Identify new accounts / rows of data not in historical dataset"
   ]
  },
  {
   "cell_type": "code",
   "execution_count": 3,
   "metadata": {},
   "outputs": [
    {
     "name": "stdout",
     "output_type": "stream",
     "text": [
      "Unique Q_ID count in new ExFactory accounts: 10328\n",
      "Unique Q_ID and ShipTo Code combination count in new ExFactory accounts: 10328\n",
      "Unique Q_ID count in new Specialty Distributor accounts: 6125\n",
      "Unique Q_ID and ShipTo Code combination count in new Specialty Distributor accounts: 1508\n"
     ]
    }
   ],
   "source": [
    "# Identify new 'Q_ID' rows in new_data that are not present in the master_data\n",
    "new_ExFactory_accounts= new_ExFactory_data[~new_ExFactory_data['Q_ID'].isin(master_data_filtered['Q_ID'])]\n",
    "\n",
    "\n",
    "# Identify 'Q_ID' rows in new_data that are present in master_data but have 'SF_ID' as 'Not Found'\n",
    "not_found_ExFactory_accounts = new_ExFactory_data[new_ExFactory_data['Q_ID'].isin (master_data_filtered[master_data_filtered['SF ID']== 'Not Found']['Q_ID'])]\n",
    "\n",
    "# Count unique rows in new data\n",
    "\n",
    "unique_Q_ID_count_new = new_ExFactory_data['Q_ID'].nunique()\n",
    "unique_Q_ID_ShipTo_Combo_count_new = new_ExFactory_data.groupby(['Q_ID', 'ShipTo Code']).ngroups # nunique cannot count across multiple columns. Need to consider both columns to count unique combos, use groupby . # ngroups returns the number of unique groups, counts unique combos of Q_ID and Shipt\n",
    "\n",
    "print(f\"Unique Q_ID count in new ExFactory accounts: {unique_Q_ID_count_new}\")\n",
    "print(f\"Unique Q_ID and ShipTo Code combination count in new ExFactory accounts: {unique_Q_ID_ShipTo_Combo_count_new}\")\n",
    "\n",
    "\n",
    "# Identify new 'Q_ID' rows in new_data that are not present in the master_data\n",
    "new_SpecDistr_accounts= new_SpecDistr_data[~new_SpecDistr_data['Q_ID'].isin(master_data_filtered['Q_ID'])]\n",
    "\n",
    "\n",
    "# Identify 'Q_ID' rows in new_data that are present in master_data but have 'SF_ID' as 'Not Found'\n",
    "not_found_SpecDistr_accounts = new_SpecDistr_data[new_SpecDistr_data['Q_ID'].isin (master_data_filtered[master_data_filtered['SF ID']== 'Not Found']['Q_ID'])]\n",
    "\n",
    "# Count unique rows in new data\n",
    "\n",
    "unique_Q_ID_count_new = new_SpecDistr_data['Q_ID'].nunique()\n",
    "unique_Q_ID_ShipTo_Combo_count_new = new_SpecDistr_data.groupby(['Q_ID', 'ShipTo Code']).ngroups # nunique cannot count across multiple columns. Need to consider both columns to count unique combos, use groupby . # ngroups returns the number of unique groups, counts unique combos of Q_ID and Shipt\n",
    "\n",
    "print(f\"Unique Q_ID count in new Specialty Distributor accounts: {unique_Q_ID_count_new}\")\n",
    "print(f\"Unique Q_ID and ShipTo Code combination count in new Specialty Distributor accounts: {unique_Q_ID_ShipTo_Combo_count_new}\")"
   ]
  },
  {
   "cell_type": "markdown",
   "metadata": {},
   "source": [
    "### Identify Q_ID for New Account not in historical data"
   ]
  },
  {
   "cell_type": "code",
   "execution_count": 9,
   "metadata": {},
   "outputs": [
    {
     "name": "stdout",
     "output_type": "stream",
     "text": [
      "Unique Q_ID count in new Specialty Distributor accounts: 0\n"
     ]
    },
    {
     "name": "stderr",
     "output_type": "stream",
     "text": [
      "C:\\Users\\beste\\AppData\\Local\\Temp\\ipykernel_5912\\2439337092.py:2: SettingWithCopyWarning: \n",
      "A value is trying to be set on a copy of a slice from a DataFrame.\n",
      "Try using .loc[row_indexer,col_indexer] = value instead\n",
      "\n",
      "See the caveats in the documentation: https://pandas.pydata.org/pandas-docs/stable/user_guide/indexing.html#returning-a-view-versus-a-copy\n",
      "  new_SpecDistr_data['Q_ID'] = new_SpecDistr_data['Q_ID'].astype(str).str.strip().str.upper()\n"
     ]
    }
   ],
   "source": [
    "# Format Q_ID column ( as a string, with leading/trailing spaced removed, convert to uppercase) in new data and filter columns from new data to only include 'Q_ID' column\n",
    "new_SpecDistr_data['Q_ID'] = new_SpecDistr_data['Q_ID'].astype(str).str.strip().str.upper()\n",
    "new_SpecDistr_accounts= new_SpecDistr_data[~new_SpecDistr_data['Q_ID'].isin(master_data_filtered['Q_ID'])]\n",
    "\n",
    "\n",
    "unique_SpecDistr_Q_ID_count_new = new_SpecDistr_accounts['Q_ID'].nunique()\n",
    "print(f\"Unique Q_ID count in new Specialty Distributor accounts: {unique_SpecDistr_Q_ID_count_new}\")\n"
   ]
  },
  {
   "cell_type": "code",
   "execution_count": 10,
   "metadata": {},
   "outputs": [
    {
     "data": {
      "text/plain": [
       "Series([], Name: Q_ID, dtype: object)"
      ]
     },
     "execution_count": 10,
     "metadata": {},
     "output_type": "execute_result"
    }
   ],
   "source": [
    "new_SpecDistr_accounts['Q_ID']"
   ]
  },
  {
   "cell_type": "code",
   "execution_count": 11,
   "metadata": {},
   "outputs": [
    {
     "name": "stdout",
     "output_type": "stream",
     "text": [
      "<class 'pandas.core.frame.DataFrame'>\n",
      "Index: 0 entries\n",
      "Data columns (total 16 columns):\n",
      " #   Column                         Non-Null Count  Dtype  \n",
      "---  ------                         --------------  -----  \n",
      " 0   Count of Records               0 non-null      int64  \n",
      " 1   Source                         0 non-null      object \n",
      " 2   Transaction Bucket             0 non-null      object \n",
      " 3   Q_ID                           0 non-null      object \n",
      " 4   MDM ID                         0 non-null      float64\n",
      " 5   Account | SFDC ID              0 non-null      object \n",
      " 6   Account | ND_Shipto_Number__c  0 non-null      object \n",
      " 7   Account | MDM_ID__c            0 non-null      float64\n",
      " 8   ShipTo Code                    0 non-null      object \n",
      " 9   ShipTo                         0 non-null      object \n",
      " 10  Address                        0 non-null      object \n",
      " 11  City                           0 non-null      object \n",
      " 12  State                          0 non-null      object \n",
      " 13  Zip                            0 non-null      object \n",
      " 14  Max of Date                    0 non-null      object \n",
      " 15  Sum of Quantity                0 non-null      int64  \n",
      "dtypes: float64(2), int64(2), object(12)\n",
      "memory usage: 0.0+ bytes\n"
     ]
    }
   ],
   "source": [
    "new_SpecDistr_accounts.info()"
   ]
  },
  {
   "cell_type": "code",
   "execution_count": 12,
   "metadata": {},
   "outputs": [
    {
     "name": "stdout",
     "output_type": "stream",
     "text": [
      "Unique Q_ID count in new ExFactory accounts: 29536\n",
      "Unique Q_ID count in new ExFactory accounts: 1872\n"
     ]
    },
    {
     "name": "stderr",
     "output_type": "stream",
     "text": [
      "C:\\Users\\beste\\AppData\\Local\\Temp\\ipykernel_5912\\1702673027.py:2: SettingWithCopyWarning: \n",
      "A value is trying to be set on a copy of a slice from a DataFrame.\n",
      "Try using .loc[row_indexer,col_indexer] = value instead\n",
      "\n",
      "See the caveats in the documentation: https://pandas.pydata.org/pandas-docs/stable/user_guide/indexing.html#returning-a-view-versus-a-copy\n",
      "  new_ExFactory_data['Q_ID'] = new_ExFactory_data['Q_ID'].astype(str).str.strip().str.upper()\n"
     ]
    }
   ],
   "source": [
    "# Format Q_ID column ( as a string, with leading/trailing spaced removed, convert to uppercase) in new data and filter columns from new data to only include 'Q_ID' column\n",
    "new_ExFactory_data['Q_ID'] = new_ExFactory_data['Q_ID'].astype(str).str.strip().str.upper()\n",
    "new_ExFactory_accounts = new_ExFactory_data[~new_ExFactory_data['Q_ID'].isin(master_data_filtered['Q_ID'])]\n",
    "\n",
    "\n",
    "unique_ExFactory_Q_ID_count_total = new_ExFactory_data['Q_ID'].nunique()\n",
    "print(f\"Unique Q_ID count in new ExFactory accounts: {unique_ExFactory_Q_ID_count_total}\")\n",
    "\n",
    "unique_ExFactory_Q_ID_count_new = new_ExFactory_accounts['Q_ID'].nunique()\n",
    "print(f\"Unique Q_ID count in new ExFactory accounts: {unique_ExFactory_Q_ID_count_new}\")"
   ]
  },
  {
   "cell_type": "code",
   "execution_count": 13,
   "metadata": {},
   "outputs": [
    {
     "data": {
      "text/plain": [
       "27       EXFACTORY | AXE31452\n",
       "98        EXFACTORY | AX18820\n",
       "130      EXFACTORY | AXE32951\n",
       "133      EXFACTORY | AXE33064\n",
       "149      EXFACTORY | AXE31223\n",
       "                 ...         \n",
       "36547    EXFACTORY | AXE33040\n",
       "36573    EXFACTORY | AXE31154\n",
       "36587    EXFACTORY | AXE30711\n",
       "36589    EXFACTORY | AXE33660\n",
       "36590    EXFACTORY | AXE26784\n",
       "Name: Q_ID, Length: 1900, dtype: object"
      ]
     },
     "execution_count": 13,
     "metadata": {},
     "output_type": "execute_result"
    }
   ],
   "source": [
    "new_ExFactory_accounts['Q_ID']"
   ]
  },
  {
   "cell_type": "code",
   "execution_count": 14,
   "metadata": {},
   "outputs": [
    {
     "data": {
      "text/html": [
       "<div>\n",
       "<style scoped>\n",
       "    .dataframe tbody tr th:only-of-type {\n",
       "        vertical-align: middle;\n",
       "    }\n",
       "\n",
       "    .dataframe tbody tr th {\n",
       "        vertical-align: top;\n",
       "    }\n",
       "\n",
       "    .dataframe thead th {\n",
       "        text-align: right;\n",
       "    }\n",
       "</style>\n",
       "<table border=\"1\" class=\"dataframe\">\n",
       "  <thead>\n",
       "    <tr style=\"text-align: right;\">\n",
       "      <th></th>\n",
       "      <th>Count of Records</th>\n",
       "      <th>Source</th>\n",
       "      <th>Transaction Bucket</th>\n",
       "      <th>Q_ID</th>\n",
       "      <th>MDM ID</th>\n",
       "      <th>Account | SFDC ID</th>\n",
       "      <th>Account | ND_Shipto_Number__c</th>\n",
       "      <th>Account | MDM_ID__c</th>\n",
       "      <th>ShipTo Code</th>\n",
       "      <th>ShipTo</th>\n",
       "      <th>Address</th>\n",
       "      <th>City</th>\n",
       "      <th>State</th>\n",
       "      <th>Zip</th>\n",
       "      <th>Max of Date</th>\n",
       "      <th>Sum of Quantity</th>\n",
       "    </tr>\n",
       "  </thead>\n",
       "  <tbody>\n",
       "    <tr>\n",
       "      <th>27</th>\n",
       "      <td>1</td>\n",
       "      <td>ExFactory</td>\n",
       "      <td>Direct to Customer</td>\n",
       "      <td>EXFACTORY | AXE31452</td>\n",
       "      <td>NaN</td>\n",
       "      <td>NaN</td>\n",
       "      <td>NaN</td>\n",
       "      <td>NaN</td>\n",
       "      <td>AXE31452</td>\n",
       "      <td>Community Speaks Out</td>\n",
       "      <td>95 Corey Rd</td>\n",
       "      <td>Groton</td>\n",
       "      <td>CT</td>\n",
       "      <td>06340</td>\n",
       "      <td>11/27/2023 12:00:00 AM</td>\n",
       "      <td>96</td>\n",
       "    </tr>\n",
       "    <tr>\n",
       "      <th>98</th>\n",
       "      <td>1</td>\n",
       "      <td>ExFactory</td>\n",
       "      <td>Direct to Customer</td>\n",
       "      <td>EXFACTORY | AX18820</td>\n",
       "      <td>NaN</td>\n",
       "      <td>NaN</td>\n",
       "      <td>NaN</td>\n",
       "      <td>NaN</td>\n",
       "      <td>AX18820</td>\n",
       "      <td>SARANAC CENTRAL SCHOOL DISTRICT</td>\n",
       "      <td>18 PICKETTS CORNERS RD</td>\n",
       "      <td>SARANAC</td>\n",
       "      <td>NY</td>\n",
       "      <td>12981</td>\n",
       "      <td>11/28/2023 12:00:00 AM</td>\n",
       "      <td>12</td>\n",
       "    </tr>\n",
       "    <tr>\n",
       "      <th>130</th>\n",
       "      <td>1</td>\n",
       "      <td>ExFactory</td>\n",
       "      <td>Direct to Customer</td>\n",
       "      <td>EXFACTORY | AXE32951</td>\n",
       "      <td>NaN</td>\n",
       "      <td>NaN</td>\n",
       "      <td>NaN</td>\n",
       "      <td>NaN</td>\n",
       "      <td>AXE32951</td>\n",
       "      <td>Galveston County Health District</td>\n",
       "      <td>9850 Emmett F Lowry Expy, Suite B105</td>\n",
       "      <td>Texas City</td>\n",
       "      <td>TX</td>\n",
       "      <td>77591</td>\n",
       "      <td>11/13/2023 12:00:00 AM</td>\n",
       "      <td>48</td>\n",
       "    </tr>\n",
       "    <tr>\n",
       "      <th>133</th>\n",
       "      <td>1</td>\n",
       "      <td>ExFactory</td>\n",
       "      <td>Direct to Customer</td>\n",
       "      <td>EXFACTORY | AXE33064</td>\n",
       "      <td>NaN</td>\n",
       "      <td>NaN</td>\n",
       "      <td>NaN</td>\n",
       "      <td>NaN</td>\n",
       "      <td>AXE33064</td>\n",
       "      <td>Texas Department of State Health Service</td>\n",
       "      <td>1700 Merlin Street</td>\n",
       "      <td>Bay City</td>\n",
       "      <td>TX</td>\n",
       "      <td>77414</td>\n",
       "      <td>11/14/2023 12:00:00 AM</td>\n",
       "      <td>48</td>\n",
       "    </tr>\n",
       "    <tr>\n",
       "      <th>149</th>\n",
       "      <td>1</td>\n",
       "      <td>ExFactory</td>\n",
       "      <td>Sales to Wholesaler</td>\n",
       "      <td>EXFACTORY | AXE31223</td>\n",
       "      <td>NaN</td>\n",
       "      <td>NaN</td>\n",
       "      <td>NaN</td>\n",
       "      <td>NaN</td>\n",
       "      <td>AXE31223</td>\n",
       "      <td>Coastal Horizons Center</td>\n",
       "      <td>615 Shipyard Blvd</td>\n",
       "      <td>Wilmington</td>\n",
       "      <td>NC</td>\n",
       "      <td>28412</td>\n",
       "      <td>9/26/2023 12:00:00 AM</td>\n",
       "      <td>240</td>\n",
       "    </tr>\n",
       "  </tbody>\n",
       "</table>\n",
       "</div>"
      ],
      "text/plain": [
       "     Count of Records     Source   Transaction Bucket                  Q_ID  \\\n",
       "27                  1  ExFactory   Direct to Customer  EXFACTORY | AXE31452   \n",
       "98                  1  ExFactory   Direct to Customer   EXFACTORY | AX18820   \n",
       "130                 1  ExFactory   Direct to Customer  EXFACTORY | AXE32951   \n",
       "133                 1  ExFactory   Direct to Customer  EXFACTORY | AXE33064   \n",
       "149                 1  ExFactory  Sales to Wholesaler  EXFACTORY | AXE31223   \n",
       "\n",
       "     MDM ID Account | SFDC ID Account | ND_Shipto_Number__c  \\\n",
       "27      NaN               NaN                           NaN   \n",
       "98      NaN               NaN                           NaN   \n",
       "130     NaN               NaN                           NaN   \n",
       "133     NaN               NaN                           NaN   \n",
       "149     NaN               NaN                           NaN   \n",
       "\n",
       "     Account | MDM_ID__c ShipTo Code  \\\n",
       "27                   NaN    AXE31452   \n",
       "98                   NaN     AX18820   \n",
       "130                  NaN    AXE32951   \n",
       "133                  NaN    AXE33064   \n",
       "149                  NaN    AXE31223   \n",
       "\n",
       "                                       ShipTo  \\\n",
       "27                       Community Speaks Out   \n",
       "98            SARANAC CENTRAL SCHOOL DISTRICT   \n",
       "130          Galveston County Health District   \n",
       "133  Texas Department of State Health Service   \n",
       "149                   Coastal Horizons Center   \n",
       "\n",
       "                                  Address        City State    Zip  \\\n",
       "27                            95 Corey Rd      Groton    CT  06340   \n",
       "98                 18 PICKETTS CORNERS RD     SARANAC    NY  12981   \n",
       "130  9850 Emmett F Lowry Expy, Suite B105  Texas City    TX  77591   \n",
       "133                    1700 Merlin Street    Bay City    TX  77414   \n",
       "149                     615 Shipyard Blvd  Wilmington    NC  28412   \n",
       "\n",
       "                Max of Date  Sum of Quantity  \n",
       "27   11/27/2023 12:00:00 AM               96  \n",
       "98   11/28/2023 12:00:00 AM               12  \n",
       "130  11/13/2023 12:00:00 AM               48  \n",
       "133  11/14/2023 12:00:00 AM               48  \n",
       "149   9/26/2023 12:00:00 AM              240  "
      ]
     },
     "execution_count": 14,
     "metadata": {},
     "output_type": "execute_result"
    }
   ],
   "source": [
    "new_ExFactory_accounts.head()"
   ]
  },
  {
   "cell_type": "code",
   "execution_count": 15,
   "metadata": {},
   "outputs": [
    {
     "name": "stdout",
     "output_type": "stream",
     "text": [
      "<class 'pandas.core.frame.DataFrame'>\n",
      "Index: 1900 entries, 27 to 36590\n",
      "Data columns (total 16 columns):\n",
      " #   Column                         Non-Null Count  Dtype  \n",
      "---  ------                         --------------  -----  \n",
      " 0   Count of Records               1900 non-null   int64  \n",
      " 1   Source                         1900 non-null   object \n",
      " 2   Transaction Bucket             1900 non-null   object \n",
      " 3   Q_ID                           1900 non-null   object \n",
      " 4   MDM ID                         0 non-null      float64\n",
      " 5   Account | SFDC ID              890 non-null    object \n",
      " 6   Account | ND_Shipto_Number__c  890 non-null    object \n",
      " 7   Account | MDM_ID__c            0 non-null      float64\n",
      " 8   ShipTo Code                    1900 non-null   object \n",
      " 9   ShipTo                         1900 non-null   object \n",
      " 10  Address                        1897 non-null   object \n",
      " 11  City                           1900 non-null   object \n",
      " 12  State                          1900 non-null   object \n",
      " 13  Zip                            1897 non-null   object \n",
      " 14  Max of Date                    1900 non-null   object \n",
      " 15  Sum of Quantity                1900 non-null   int64  \n",
      "dtypes: float64(2), int64(2), object(12)\n",
      "memory usage: 252.3+ KB\n"
     ]
    }
   ],
   "source": [
    "new_ExFactory_accounts.info()"
   ]
  },
  {
   "cell_type": "markdown",
   "metadata": {},
   "source": [
    "### Combine new accounts from different sources into one dataset"
   ]
  },
  {
   "cell_type": "code",
   "execution_count": 82,
   "metadata": {},
   "outputs": [],
   "source": [
    "combined_new_accounts = pd.concat([new_ExFactory_accounts, new_SpecDistr_accounts], ignore_index=True) # ignore index means you want to create new labels for the rows that start at 0 and increase continuosly. If false, you keep the labels of the original two datasets, which causes duplicate row labels in the combined data.\n",
    "\n",
    "#combined_not_found_accounts = pd.concat([not_found_ExFactory_accounts, not_found_SpecDistr_accounts], ignore_index=True)"
   ]
  },
  {
   "cell_type": "code",
   "execution_count": 83,
   "metadata": {},
   "outputs": [
    {
     "data": {
      "text/html": [
       "<div>\n",
       "<style scoped>\n",
       "    .dataframe tbody tr th:only-of-type {\n",
       "        vertical-align: middle;\n",
       "    }\n",
       "\n",
       "    .dataframe tbody tr th {\n",
       "        vertical-align: top;\n",
       "    }\n",
       "\n",
       "    .dataframe thead th {\n",
       "        text-align: right;\n",
       "    }\n",
       "</style>\n",
       "<table border=\"1\" class=\"dataframe\">\n",
       "  <thead>\n",
       "    <tr style=\"text-align: right;\">\n",
       "      <th></th>\n",
       "      <th>Count of Records</th>\n",
       "      <th>Source</th>\n",
       "      <th>Transaction Bucket</th>\n",
       "      <th>Q_ID</th>\n",
       "      <th>MDM ID</th>\n",
       "      <th>Account | SFDC ID</th>\n",
       "      <th>Account | ND_Shipto_Number__c</th>\n",
       "      <th>Account | MDM_ID__c</th>\n",
       "      <th>ShipTo Code</th>\n",
       "      <th>ShipTo</th>\n",
       "      <th>Address</th>\n",
       "      <th>City</th>\n",
       "      <th>State</th>\n",
       "      <th>Zip</th>\n",
       "      <th>Max of Date</th>\n",
       "      <th>Sum of Quantity</th>\n",
       "    </tr>\n",
       "  </thead>\n",
       "  <tbody>\n",
       "    <tr>\n",
       "      <th>0</th>\n",
       "      <td>1</td>\n",
       "      <td>ExFactory</td>\n",
       "      <td>Direct to Customer</td>\n",
       "      <td>EXFACTORY | AXE31452</td>\n",
       "      <td>NaN</td>\n",
       "      <td>NaN</td>\n",
       "      <td>NaN</td>\n",
       "      <td>NaN</td>\n",
       "      <td>AXE31452</td>\n",
       "      <td>Community Speaks Out</td>\n",
       "      <td>95 Corey Rd</td>\n",
       "      <td>Groton</td>\n",
       "      <td>CT</td>\n",
       "      <td>06340</td>\n",
       "      <td>11/27/2023 12:00:00 AM</td>\n",
       "      <td>96</td>\n",
       "    </tr>\n",
       "    <tr>\n",
       "      <th>1</th>\n",
       "      <td>1</td>\n",
       "      <td>ExFactory</td>\n",
       "      <td>Direct to Customer</td>\n",
       "      <td>EXFACTORY | AX18820</td>\n",
       "      <td>NaN</td>\n",
       "      <td>NaN</td>\n",
       "      <td>NaN</td>\n",
       "      <td>NaN</td>\n",
       "      <td>AX18820</td>\n",
       "      <td>SARANAC CENTRAL SCHOOL DISTRICT</td>\n",
       "      <td>18 PICKETTS CORNERS RD</td>\n",
       "      <td>SARANAC</td>\n",
       "      <td>NY</td>\n",
       "      <td>12981</td>\n",
       "      <td>11/28/2023 12:00:00 AM</td>\n",
       "      <td>12</td>\n",
       "    </tr>\n",
       "    <tr>\n",
       "      <th>2</th>\n",
       "      <td>1</td>\n",
       "      <td>ExFactory</td>\n",
       "      <td>Direct to Customer</td>\n",
       "      <td>EXFACTORY | AXE32951</td>\n",
       "      <td>NaN</td>\n",
       "      <td>NaN</td>\n",
       "      <td>NaN</td>\n",
       "      <td>NaN</td>\n",
       "      <td>AXE32951</td>\n",
       "      <td>Galveston County Health District</td>\n",
       "      <td>9850 Emmett F Lowry Expy, Suite B105</td>\n",
       "      <td>Texas City</td>\n",
       "      <td>TX</td>\n",
       "      <td>77591</td>\n",
       "      <td>11/13/2023 12:00:00 AM</td>\n",
       "      <td>48</td>\n",
       "    </tr>\n",
       "    <tr>\n",
       "      <th>3</th>\n",
       "      <td>1</td>\n",
       "      <td>ExFactory</td>\n",
       "      <td>Direct to Customer</td>\n",
       "      <td>EXFACTORY | AXE33064</td>\n",
       "      <td>NaN</td>\n",
       "      <td>NaN</td>\n",
       "      <td>NaN</td>\n",
       "      <td>NaN</td>\n",
       "      <td>AXE33064</td>\n",
       "      <td>Texas Department of State Health Service</td>\n",
       "      <td>1700 Merlin Street</td>\n",
       "      <td>Bay City</td>\n",
       "      <td>TX</td>\n",
       "      <td>77414</td>\n",
       "      <td>11/14/2023 12:00:00 AM</td>\n",
       "      <td>48</td>\n",
       "    </tr>\n",
       "    <tr>\n",
       "      <th>4</th>\n",
       "      <td>1</td>\n",
       "      <td>ExFactory</td>\n",
       "      <td>Sales to Wholesaler</td>\n",
       "      <td>EXFACTORY | AXE31223</td>\n",
       "      <td>NaN</td>\n",
       "      <td>NaN</td>\n",
       "      <td>NaN</td>\n",
       "      <td>NaN</td>\n",
       "      <td>AXE31223</td>\n",
       "      <td>Coastal Horizons Center</td>\n",
       "      <td>615 Shipyard Blvd</td>\n",
       "      <td>Wilmington</td>\n",
       "      <td>NC</td>\n",
       "      <td>28412</td>\n",
       "      <td>9/26/2023 12:00:00 AM</td>\n",
       "      <td>240</td>\n",
       "    </tr>\n",
       "    <tr>\n",
       "      <th>...</th>\n",
       "      <td>...</td>\n",
       "      <td>...</td>\n",
       "      <td>...</td>\n",
       "      <td>...</td>\n",
       "      <td>...</td>\n",
       "      <td>...</td>\n",
       "      <td>...</td>\n",
       "      <td>...</td>\n",
       "      <td>...</td>\n",
       "      <td>...</td>\n",
       "      <td>...</td>\n",
       "      <td>...</td>\n",
       "      <td>...</td>\n",
       "      <td>...</td>\n",
       "      <td>...</td>\n",
       "      <td>...</td>\n",
       "    </tr>\n",
       "    <tr>\n",
       "      <th>1895</th>\n",
       "      <td>1</td>\n",
       "      <td>ExFactory</td>\n",
       "      <td>Direct to Customer</td>\n",
       "      <td>EXFACTORY | AXE33040</td>\n",
       "      <td>NaN</td>\n",
       "      <td>NaN</td>\n",
       "      <td>NaN</td>\n",
       "      <td>NaN</td>\n",
       "      <td>AXE33040</td>\n",
       "      <td>G Co TF Eagle</td>\n",
       "      <td>571 Monarck Path</td>\n",
       "      <td>Eagle Pass</td>\n",
       "      <td>TX</td>\n",
       "      <td>78852</td>\n",
       "      <td>11/14/2023 12:00:00 AM</td>\n",
       "      <td>48</td>\n",
       "    </tr>\n",
       "    <tr>\n",
       "      <th>1896</th>\n",
       "      <td>1</td>\n",
       "      <td>ExFactory</td>\n",
       "      <td>Sales to Wholesaler</td>\n",
       "      <td>EXFACTORY | AXE31154</td>\n",
       "      <td>NaN</td>\n",
       "      <td>0014x000029KFOWAA4</td>\n",
       "      <td>AXE31154</td>\n",
       "      <td>NaN</td>\n",
       "      <td>AXE31154</td>\n",
       "      <td>Juel Fairbanks</td>\n",
       "      <td>806 Albert Street North</td>\n",
       "      <td>St Paul</td>\n",
       "      <td>MN</td>\n",
       "      <td>55104</td>\n",
       "      <td>9/27/2023 12:00:00 AM</td>\n",
       "      <td>12</td>\n",
       "    </tr>\n",
       "    <tr>\n",
       "      <th>1897</th>\n",
       "      <td>1</td>\n",
       "      <td>ExFactory</td>\n",
       "      <td>Sales to Wholesaler</td>\n",
       "      <td>EXFACTORY | AXE30711</td>\n",
       "      <td>NaN</td>\n",
       "      <td>0014x000029KPmGAAW</td>\n",
       "      <td>AXE30711</td>\n",
       "      <td>NaN</td>\n",
       "      <td>AXE30711</td>\n",
       "      <td>Groveton ISD</td>\n",
       "      <td>421 N Magee Ave</td>\n",
       "      <td>Groveton</td>\n",
       "      <td>TX</td>\n",
       "      <td>75845</td>\n",
       "      <td>9/28/2023 12:00:00 AM</td>\n",
       "      <td>12</td>\n",
       "    </tr>\n",
       "    <tr>\n",
       "      <th>1898</th>\n",
       "      <td>1</td>\n",
       "      <td>ExFactory</td>\n",
       "      <td>Direct to Customer</td>\n",
       "      <td>EXFACTORY | AXE33660</td>\n",
       "      <td>NaN</td>\n",
       "      <td>NaN</td>\n",
       "      <td>NaN</td>\n",
       "      <td>NaN</td>\n",
       "      <td>AXE33660</td>\n",
       "      <td>Curis Functional Health Blue Springs</td>\n",
       "      <td>3650 US-40</td>\n",
       "      <td>Blue Springs</td>\n",
       "      <td>MO</td>\n",
       "      <td>64015</td>\n",
       "      <td>11/29/2023 12:00:00 AM</td>\n",
       "      <td>120</td>\n",
       "    </tr>\n",
       "    <tr>\n",
       "      <th>1899</th>\n",
       "      <td>1</td>\n",
       "      <td>ExFactory</td>\n",
       "      <td>Sales to Wholesaler</td>\n",
       "      <td>EXFACTORY | AXE26784</td>\n",
       "      <td>NaN</td>\n",
       "      <td>0014x000029JqjvAAC</td>\n",
       "      <td>AXE26784</td>\n",
       "      <td>NaN</td>\n",
       "      <td>AXE26784</td>\n",
       "      <td>Jesus House</td>\n",
       "      <td>1335 W Sheridan Ave.</td>\n",
       "      <td>Oklahoma City</td>\n",
       "      <td>OK</td>\n",
       "      <td>74106</td>\n",
       "      <td>9/29/2023 12:00:00 AM</td>\n",
       "      <td>24</td>\n",
       "    </tr>\n",
       "  </tbody>\n",
       "</table>\n",
       "<p>1900 rows × 16 columns</p>\n",
       "</div>"
      ],
      "text/plain": [
       "      Count of Records     Source   Transaction Bucket                  Q_ID  \\\n",
       "0                    1  ExFactory   Direct to Customer  EXFACTORY | AXE31452   \n",
       "1                    1  ExFactory   Direct to Customer   EXFACTORY | AX18820   \n",
       "2                    1  ExFactory   Direct to Customer  EXFACTORY | AXE32951   \n",
       "3                    1  ExFactory   Direct to Customer  EXFACTORY | AXE33064   \n",
       "4                    1  ExFactory  Sales to Wholesaler  EXFACTORY | AXE31223   \n",
       "...                ...        ...                  ...                   ...   \n",
       "1895                 1  ExFactory   Direct to Customer  EXFACTORY | AXE33040   \n",
       "1896                 1  ExFactory  Sales to Wholesaler  EXFACTORY | AXE31154   \n",
       "1897                 1  ExFactory  Sales to Wholesaler  EXFACTORY | AXE30711   \n",
       "1898                 1  ExFactory   Direct to Customer  EXFACTORY | AXE33660   \n",
       "1899                 1  ExFactory  Sales to Wholesaler  EXFACTORY | AXE26784   \n",
       "\n",
       "      MDM ID   Account | SFDC ID Account | ND_Shipto_Number__c  \\\n",
       "0        NaN                 NaN                           NaN   \n",
       "1        NaN                 NaN                           NaN   \n",
       "2        NaN                 NaN                           NaN   \n",
       "3        NaN                 NaN                           NaN   \n",
       "4        NaN                 NaN                           NaN   \n",
       "...      ...                 ...                           ...   \n",
       "1895     NaN                 NaN                           NaN   \n",
       "1896     NaN  0014x000029KFOWAA4                      AXE31154   \n",
       "1897     NaN  0014x000029KPmGAAW                      AXE30711   \n",
       "1898     NaN                 NaN                           NaN   \n",
       "1899     NaN  0014x000029JqjvAAC                      AXE26784   \n",
       "\n",
       "      Account | MDM_ID__c ShipTo Code  \\\n",
       "0                     NaN    AXE31452   \n",
       "1                     NaN     AX18820   \n",
       "2                     NaN    AXE32951   \n",
       "3                     NaN    AXE33064   \n",
       "4                     NaN    AXE31223   \n",
       "...                   ...         ...   \n",
       "1895                  NaN    AXE33040   \n",
       "1896                  NaN    AXE31154   \n",
       "1897                  NaN    AXE30711   \n",
       "1898                  NaN    AXE33660   \n",
       "1899                  NaN    AXE26784   \n",
       "\n",
       "                                        ShipTo  \\\n",
       "0                         Community Speaks Out   \n",
       "1              SARANAC CENTRAL SCHOOL DISTRICT   \n",
       "2             Galveston County Health District   \n",
       "3     Texas Department of State Health Service   \n",
       "4                      Coastal Horizons Center   \n",
       "...                                        ...   \n",
       "1895                             G Co TF Eagle   \n",
       "1896                            Juel Fairbanks   \n",
       "1897                              Groveton ISD   \n",
       "1898      Curis Functional Health Blue Springs   \n",
       "1899                               Jesus House   \n",
       "\n",
       "                                   Address           City State    Zip  \\\n",
       "0                              95 Corey Rd         Groton    CT  06340   \n",
       "1                   18 PICKETTS CORNERS RD        SARANAC    NY  12981   \n",
       "2     9850 Emmett F Lowry Expy, Suite B105     Texas City    TX  77591   \n",
       "3                       1700 Merlin Street       Bay City    TX  77414   \n",
       "4                        615 Shipyard Blvd     Wilmington    NC  28412   \n",
       "...                                    ...            ...   ...    ...   \n",
       "1895                      571 Monarck Path     Eagle Pass    TX  78852   \n",
       "1896               806 Albert Street North        St Paul    MN  55104   \n",
       "1897                       421 N Magee Ave       Groveton    TX  75845   \n",
       "1898                            3650 US-40   Blue Springs    MO  64015   \n",
       "1899                  1335 W Sheridan Ave.  Oklahoma City    OK  74106   \n",
       "\n",
       "                 Max of Date  Sum of Quantity  \n",
       "0     11/27/2023 12:00:00 AM               96  \n",
       "1     11/28/2023 12:00:00 AM               12  \n",
       "2     11/13/2023 12:00:00 AM               48  \n",
       "3     11/14/2023 12:00:00 AM               48  \n",
       "4      9/26/2023 12:00:00 AM              240  \n",
       "...                      ...              ...  \n",
       "1895  11/14/2023 12:00:00 AM               48  \n",
       "1896   9/27/2023 12:00:00 AM               12  \n",
       "1897   9/28/2023 12:00:00 AM               12  \n",
       "1898  11/29/2023 12:00:00 AM              120  \n",
       "1899   9/29/2023 12:00:00 AM               24  \n",
       "\n",
       "[1900 rows x 16 columns]"
      ]
     },
     "execution_count": 83,
     "metadata": {},
     "output_type": "execute_result"
    }
   ],
   "source": [
    "combined_new_accounts"
   ]
  },
  {
   "cell_type": "markdown",
   "metadata": {},
   "source": [
    "### Explore new account data"
   ]
  },
  {
   "cell_type": "code",
   "execution_count": 84,
   "metadata": {},
   "outputs": [
    {
     "name": "stdout",
     "output_type": "stream",
     "text": [
      "1872\n"
     ]
    }
   ],
   "source": [
    "# Group by source and count unique Q_ID\n",
    "number_new_accounts= combined_new_accounts.groupby('Source')['Q_ID'].nunique().sum()\n",
    "\n",
    "new_unique_accounts = combined_new_accounts.groupby('Source')['Q_ID'].nunique().reset_index()\n",
    "\n",
    "print(number_new_accounts)"
   ]
  },
  {
   "cell_type": "code",
   "execution_count": 85,
   "metadata": {},
   "outputs": [
    {
     "data": {
      "text/html": [
       "<div>\n",
       "<style scoped>\n",
       "    .dataframe tbody tr th:only-of-type {\n",
       "        vertical-align: middle;\n",
       "    }\n",
       "\n",
       "    .dataframe tbody tr th {\n",
       "        vertical-align: top;\n",
       "    }\n",
       "\n",
       "    .dataframe thead th {\n",
       "        text-align: right;\n",
       "    }\n",
       "</style>\n",
       "<table border=\"1\" class=\"dataframe\">\n",
       "  <thead>\n",
       "    <tr style=\"text-align: right;\">\n",
       "      <th></th>\n",
       "      <th>Source</th>\n",
       "      <th>Q_ID</th>\n",
       "    </tr>\n",
       "  </thead>\n",
       "  <tbody>\n",
       "    <tr>\n",
       "      <th>0</th>\n",
       "      <td>ExFactory</td>\n",
       "      <td>1872</td>\n",
       "    </tr>\n",
       "  </tbody>\n",
       "</table>\n",
       "</div>"
      ],
      "text/plain": [
       "      Source  Q_ID\n",
       "0  ExFactory  1872"
      ]
     },
     "execution_count": 85,
     "metadata": {},
     "output_type": "execute_result"
    }
   ],
   "source": [
    "new_unique_accounts"
   ]
  },
  {
   "cell_type": "code",
   "execution_count": 96,
   "metadata": {},
   "outputs": [],
   "source": [
    "# Group by source and count unique Q_ID\n",
    "number_new_accounts= combined_new_accounts.groupby('Source').nunique().sum()"
   ]
  },
  {
   "cell_type": "markdown",
   "metadata": {},
   "source": [
    "### Plot the grouped data"
   ]
  },
  {
   "cell_type": "code",
   "execution_count": 86,
   "metadata": {},
   "outputs": [
    {
     "data": {
      "application/vnd.plotly.v1+json": {
       "config": {
        "plotlyServerURL": "https://plot.ly"
       },
       "data": [
        {
         "alignmentgroup": "True",
         "hovertemplate": "Source=%{x}<br>Number of Unique Q_ID=%{y}<extra></extra>",
         "legendgroup": "ExFactory",
         "marker": {
          "color": "#636efa",
          "pattern": {
           "shape": ""
          }
         },
         "name": "ExFactory",
         "offsetgroup": "ExFactory",
         "orientation": "v",
         "showlegend": true,
         "textposition": "auto",
         "type": "bar",
         "x": [
          "ExFactory"
         ],
         "xaxis": "x",
         "y": [
          1872
         ],
         "yaxis": "y"
        }
       ],
       "layout": {
        "barmode": "relative",
        "legend": {
         "title": {
          "text": "Source"
         },
         "tracegroupgap": 0
        },
        "margin": {
         "t": 60
        },
        "template": {
         "data": {
          "bar": [
           {
            "error_x": {
             "color": "#2a3f5f"
            },
            "error_y": {
             "color": "#2a3f5f"
            },
            "marker": {
             "line": {
              "color": "#E5ECF6",
              "width": 0.5
             },
             "pattern": {
              "fillmode": "overlay",
              "size": 10,
              "solidity": 0.2
             }
            },
            "type": "bar"
           }
          ],
          "barpolar": [
           {
            "marker": {
             "line": {
              "color": "#E5ECF6",
              "width": 0.5
             },
             "pattern": {
              "fillmode": "overlay",
              "size": 10,
              "solidity": 0.2
             }
            },
            "type": "barpolar"
           }
          ],
          "carpet": [
           {
            "aaxis": {
             "endlinecolor": "#2a3f5f",
             "gridcolor": "white",
             "linecolor": "white",
             "minorgridcolor": "white",
             "startlinecolor": "#2a3f5f"
            },
            "baxis": {
             "endlinecolor": "#2a3f5f",
             "gridcolor": "white",
             "linecolor": "white",
             "minorgridcolor": "white",
             "startlinecolor": "#2a3f5f"
            },
            "type": "carpet"
           }
          ],
          "choropleth": [
           {
            "colorbar": {
             "outlinewidth": 0,
             "ticks": ""
            },
            "type": "choropleth"
           }
          ],
          "contour": [
           {
            "colorbar": {
             "outlinewidth": 0,
             "ticks": ""
            },
            "colorscale": [
             [
              0,
              "#0d0887"
             ],
             [
              0.1111111111111111,
              "#46039f"
             ],
             [
              0.2222222222222222,
              "#7201a8"
             ],
             [
              0.3333333333333333,
              "#9c179e"
             ],
             [
              0.4444444444444444,
              "#bd3786"
             ],
             [
              0.5555555555555556,
              "#d8576b"
             ],
             [
              0.6666666666666666,
              "#ed7953"
             ],
             [
              0.7777777777777778,
              "#fb9f3a"
             ],
             [
              0.8888888888888888,
              "#fdca26"
             ],
             [
              1,
              "#f0f921"
             ]
            ],
            "type": "contour"
           }
          ],
          "contourcarpet": [
           {
            "colorbar": {
             "outlinewidth": 0,
             "ticks": ""
            },
            "type": "contourcarpet"
           }
          ],
          "heatmap": [
           {
            "colorbar": {
             "outlinewidth": 0,
             "ticks": ""
            },
            "colorscale": [
             [
              0,
              "#0d0887"
             ],
             [
              0.1111111111111111,
              "#46039f"
             ],
             [
              0.2222222222222222,
              "#7201a8"
             ],
             [
              0.3333333333333333,
              "#9c179e"
             ],
             [
              0.4444444444444444,
              "#bd3786"
             ],
             [
              0.5555555555555556,
              "#d8576b"
             ],
             [
              0.6666666666666666,
              "#ed7953"
             ],
             [
              0.7777777777777778,
              "#fb9f3a"
             ],
             [
              0.8888888888888888,
              "#fdca26"
             ],
             [
              1,
              "#f0f921"
             ]
            ],
            "type": "heatmap"
           }
          ],
          "heatmapgl": [
           {
            "colorbar": {
             "outlinewidth": 0,
             "ticks": ""
            },
            "colorscale": [
             [
              0,
              "#0d0887"
             ],
             [
              0.1111111111111111,
              "#46039f"
             ],
             [
              0.2222222222222222,
              "#7201a8"
             ],
             [
              0.3333333333333333,
              "#9c179e"
             ],
             [
              0.4444444444444444,
              "#bd3786"
             ],
             [
              0.5555555555555556,
              "#d8576b"
             ],
             [
              0.6666666666666666,
              "#ed7953"
             ],
             [
              0.7777777777777778,
              "#fb9f3a"
             ],
             [
              0.8888888888888888,
              "#fdca26"
             ],
             [
              1,
              "#f0f921"
             ]
            ],
            "type": "heatmapgl"
           }
          ],
          "histogram": [
           {
            "marker": {
             "pattern": {
              "fillmode": "overlay",
              "size": 10,
              "solidity": 0.2
             }
            },
            "type": "histogram"
           }
          ],
          "histogram2d": [
           {
            "colorbar": {
             "outlinewidth": 0,
             "ticks": ""
            },
            "colorscale": [
             [
              0,
              "#0d0887"
             ],
             [
              0.1111111111111111,
              "#46039f"
             ],
             [
              0.2222222222222222,
              "#7201a8"
             ],
             [
              0.3333333333333333,
              "#9c179e"
             ],
             [
              0.4444444444444444,
              "#bd3786"
             ],
             [
              0.5555555555555556,
              "#d8576b"
             ],
             [
              0.6666666666666666,
              "#ed7953"
             ],
             [
              0.7777777777777778,
              "#fb9f3a"
             ],
             [
              0.8888888888888888,
              "#fdca26"
             ],
             [
              1,
              "#f0f921"
             ]
            ],
            "type": "histogram2d"
           }
          ],
          "histogram2dcontour": [
           {
            "colorbar": {
             "outlinewidth": 0,
             "ticks": ""
            },
            "colorscale": [
             [
              0,
              "#0d0887"
             ],
             [
              0.1111111111111111,
              "#46039f"
             ],
             [
              0.2222222222222222,
              "#7201a8"
             ],
             [
              0.3333333333333333,
              "#9c179e"
             ],
             [
              0.4444444444444444,
              "#bd3786"
             ],
             [
              0.5555555555555556,
              "#d8576b"
             ],
             [
              0.6666666666666666,
              "#ed7953"
             ],
             [
              0.7777777777777778,
              "#fb9f3a"
             ],
             [
              0.8888888888888888,
              "#fdca26"
             ],
             [
              1,
              "#f0f921"
             ]
            ],
            "type": "histogram2dcontour"
           }
          ],
          "mesh3d": [
           {
            "colorbar": {
             "outlinewidth": 0,
             "ticks": ""
            },
            "type": "mesh3d"
           }
          ],
          "parcoords": [
           {
            "line": {
             "colorbar": {
              "outlinewidth": 0,
              "ticks": ""
             }
            },
            "type": "parcoords"
           }
          ],
          "pie": [
           {
            "automargin": true,
            "type": "pie"
           }
          ],
          "scatter": [
           {
            "fillpattern": {
             "fillmode": "overlay",
             "size": 10,
             "solidity": 0.2
            },
            "type": "scatter"
           }
          ],
          "scatter3d": [
           {
            "line": {
             "colorbar": {
              "outlinewidth": 0,
              "ticks": ""
             }
            },
            "marker": {
             "colorbar": {
              "outlinewidth": 0,
              "ticks": ""
             }
            },
            "type": "scatter3d"
           }
          ],
          "scattercarpet": [
           {
            "marker": {
             "colorbar": {
              "outlinewidth": 0,
              "ticks": ""
             }
            },
            "type": "scattercarpet"
           }
          ],
          "scattergeo": [
           {
            "marker": {
             "colorbar": {
              "outlinewidth": 0,
              "ticks": ""
             }
            },
            "type": "scattergeo"
           }
          ],
          "scattergl": [
           {
            "marker": {
             "colorbar": {
              "outlinewidth": 0,
              "ticks": ""
             }
            },
            "type": "scattergl"
           }
          ],
          "scattermapbox": [
           {
            "marker": {
             "colorbar": {
              "outlinewidth": 0,
              "ticks": ""
             }
            },
            "type": "scattermapbox"
           }
          ],
          "scatterpolar": [
           {
            "marker": {
             "colorbar": {
              "outlinewidth": 0,
              "ticks": ""
             }
            },
            "type": "scatterpolar"
           }
          ],
          "scatterpolargl": [
           {
            "marker": {
             "colorbar": {
              "outlinewidth": 0,
              "ticks": ""
             }
            },
            "type": "scatterpolargl"
           }
          ],
          "scatterternary": [
           {
            "marker": {
             "colorbar": {
              "outlinewidth": 0,
              "ticks": ""
             }
            },
            "type": "scatterternary"
           }
          ],
          "surface": [
           {
            "colorbar": {
             "outlinewidth": 0,
             "ticks": ""
            },
            "colorscale": [
             [
              0,
              "#0d0887"
             ],
             [
              0.1111111111111111,
              "#46039f"
             ],
             [
              0.2222222222222222,
              "#7201a8"
             ],
             [
              0.3333333333333333,
              "#9c179e"
             ],
             [
              0.4444444444444444,
              "#bd3786"
             ],
             [
              0.5555555555555556,
              "#d8576b"
             ],
             [
              0.6666666666666666,
              "#ed7953"
             ],
             [
              0.7777777777777778,
              "#fb9f3a"
             ],
             [
              0.8888888888888888,
              "#fdca26"
             ],
             [
              1,
              "#f0f921"
             ]
            ],
            "type": "surface"
           }
          ],
          "table": [
           {
            "cells": {
             "fill": {
              "color": "#EBF0F8"
             },
             "line": {
              "color": "white"
             }
            },
            "header": {
             "fill": {
              "color": "#C8D4E3"
             },
             "line": {
              "color": "white"
             }
            },
            "type": "table"
           }
          ]
         },
         "layout": {
          "annotationdefaults": {
           "arrowcolor": "#2a3f5f",
           "arrowhead": 0,
           "arrowwidth": 1
          },
          "autotypenumbers": "strict",
          "coloraxis": {
           "colorbar": {
            "outlinewidth": 0,
            "ticks": ""
           }
          },
          "colorscale": {
           "diverging": [
            [
             0,
             "#8e0152"
            ],
            [
             0.1,
             "#c51b7d"
            ],
            [
             0.2,
             "#de77ae"
            ],
            [
             0.3,
             "#f1b6da"
            ],
            [
             0.4,
             "#fde0ef"
            ],
            [
             0.5,
             "#f7f7f7"
            ],
            [
             0.6,
             "#e6f5d0"
            ],
            [
             0.7,
             "#b8e186"
            ],
            [
             0.8,
             "#7fbc41"
            ],
            [
             0.9,
             "#4d9221"
            ],
            [
             1,
             "#276419"
            ]
           ],
           "sequential": [
            [
             0,
             "#0d0887"
            ],
            [
             0.1111111111111111,
             "#46039f"
            ],
            [
             0.2222222222222222,
             "#7201a8"
            ],
            [
             0.3333333333333333,
             "#9c179e"
            ],
            [
             0.4444444444444444,
             "#bd3786"
            ],
            [
             0.5555555555555556,
             "#d8576b"
            ],
            [
             0.6666666666666666,
             "#ed7953"
            ],
            [
             0.7777777777777778,
             "#fb9f3a"
            ],
            [
             0.8888888888888888,
             "#fdca26"
            ],
            [
             1,
             "#f0f921"
            ]
           ],
           "sequentialminus": [
            [
             0,
             "#0d0887"
            ],
            [
             0.1111111111111111,
             "#46039f"
            ],
            [
             0.2222222222222222,
             "#7201a8"
            ],
            [
             0.3333333333333333,
             "#9c179e"
            ],
            [
             0.4444444444444444,
             "#bd3786"
            ],
            [
             0.5555555555555556,
             "#d8576b"
            ],
            [
             0.6666666666666666,
             "#ed7953"
            ],
            [
             0.7777777777777778,
             "#fb9f3a"
            ],
            [
             0.8888888888888888,
             "#fdca26"
            ],
            [
             1,
             "#f0f921"
            ]
           ]
          },
          "colorway": [
           "#636efa",
           "#EF553B",
           "#00cc96",
           "#ab63fa",
           "#FFA15A",
           "#19d3f3",
           "#FF6692",
           "#B6E880",
           "#FF97FF",
           "#FECB52"
          ],
          "font": {
           "color": "#2a3f5f"
          },
          "geo": {
           "bgcolor": "white",
           "lakecolor": "white",
           "landcolor": "#E5ECF6",
           "showlakes": true,
           "showland": true,
           "subunitcolor": "white"
          },
          "hoverlabel": {
           "align": "left"
          },
          "hovermode": "closest",
          "mapbox": {
           "style": "light"
          },
          "paper_bgcolor": "white",
          "plot_bgcolor": "#E5ECF6",
          "polar": {
           "angularaxis": {
            "gridcolor": "white",
            "linecolor": "white",
            "ticks": ""
           },
           "bgcolor": "#E5ECF6",
           "radialaxis": {
            "gridcolor": "white",
            "linecolor": "white",
            "ticks": ""
           }
          },
          "scene": {
           "xaxis": {
            "backgroundcolor": "#E5ECF6",
            "gridcolor": "white",
            "gridwidth": 2,
            "linecolor": "white",
            "showbackground": true,
            "ticks": "",
            "zerolinecolor": "white"
           },
           "yaxis": {
            "backgroundcolor": "#E5ECF6",
            "gridcolor": "white",
            "gridwidth": 2,
            "linecolor": "white",
            "showbackground": true,
            "ticks": "",
            "zerolinecolor": "white"
           },
           "zaxis": {
            "backgroundcolor": "#E5ECF6",
            "gridcolor": "white",
            "gridwidth": 2,
            "linecolor": "white",
            "showbackground": true,
            "ticks": "",
            "zerolinecolor": "white"
           }
          },
          "shapedefaults": {
           "line": {
            "color": "#2a3f5f"
           }
          },
          "ternary": {
           "aaxis": {
            "gridcolor": "white",
            "linecolor": "white",
            "ticks": ""
           },
           "baxis": {
            "gridcolor": "white",
            "linecolor": "white",
            "ticks": ""
           },
           "bgcolor": "#E5ECF6",
           "caxis": {
            "gridcolor": "white",
            "linecolor": "white",
            "ticks": ""
           }
          },
          "title": {
           "x": 0.05
          },
          "xaxis": {
           "automargin": true,
           "gridcolor": "white",
           "linecolor": "white",
           "ticks": "",
           "title": {
            "standoff": 15
           },
           "zerolinecolor": "white",
           "zerolinewidth": 2
          },
          "yaxis": {
           "automargin": true,
           "gridcolor": "white",
           "linecolor": "white",
           "ticks": "",
           "title": {
            "standoff": 15
           },
           "zerolinecolor": "white",
           "zerolinewidth": 2
          }
         }
        },
        "title": {
         "text": "Number of new accounts"
        },
        "xaxis": {
         "anchor": "y",
         "categoryarray": [
          "ExFactory"
         ],
         "categoryorder": "array",
         "domain": [
          0,
          1
         ],
         "title": {
          "text": "Source"
         }
        },
        "yaxis": {
         "anchor": "x",
         "domain": [
          0,
          1
         ],
         "title": {
          "text": "Accounts"
         }
        }
       }
      }
     },
     "metadata": {},
     "output_type": "display_data"
    }
   ],
   "source": [
    "# Create the box plot using plotly express , test test\n",
    "fig = px.bar(new_unique_accounts,\n",
    "             x='Source',\n",
    "             y='Q_ID',\n",
    "             color='Source',  # Differentiate boxes by year using color\n",
    "             hover_data=['Q_ID', 'Source'],\n",
    "             labels={'Q_ID': 'Number of Unique Q_ID'}, # Custom labels for axes\n",
    "             #points= 'all'\n",
    "             )  # Custom labels for axes\n",
    "\n",
    "# Update layout for a clearer title and axis labels\n",
    "fig.update_layout(\n",
    "    title='Number of new accounts',\n",
    "    xaxis_title='Source',\n",
    "    yaxis_title='Accounts',\n",
    ")\n",
    "\n",
    "# Add jitter to the data points for better visibility\n",
    "#fig.update_traces(jitter=0.3, pointpos=0)\n",
    "\n",
    "# Show the figure\n",
    "fig.show()"
   ]
  },
  {
   "cell_type": "markdown",
   "metadata": {},
   "source": [
    "### Modify the creation of the groups to retain all column data"
   ]
  },
  {
   "cell_type": "code",
   "execution_count": 87,
   "metadata": {},
   "outputs": [
    {
     "data": {
      "text/html": [
       "<div>\n",
       "<style scoped>\n",
       "    .dataframe tbody tr th:only-of-type {\n",
       "        vertical-align: middle;\n",
       "    }\n",
       "\n",
       "    .dataframe tbody tr th {\n",
       "        vertical-align: top;\n",
       "    }\n",
       "\n",
       "    .dataframe thead th {\n",
       "        text-align: right;\n",
       "    }\n",
       "</style>\n",
       "<table border=\"1\" class=\"dataframe\">\n",
       "  <thead>\n",
       "    <tr style=\"text-align: right;\">\n",
       "      <th></th>\n",
       "      <th>Count of Records</th>\n",
       "      <th>Source</th>\n",
       "      <th>Transaction Bucket</th>\n",
       "      <th>Q_ID</th>\n",
       "      <th>MDM ID</th>\n",
       "      <th>Account | SFDC ID</th>\n",
       "      <th>Account | ND_Shipto_Number__c</th>\n",
       "      <th>Account | MDM_ID__c</th>\n",
       "      <th>ShipTo Code</th>\n",
       "      <th>ShipTo</th>\n",
       "      <th>Address</th>\n",
       "      <th>City</th>\n",
       "      <th>State</th>\n",
       "      <th>Zip</th>\n",
       "      <th>Max of Date</th>\n",
       "      <th>Sum of Quantity</th>\n",
       "    </tr>\n",
       "  </thead>\n",
       "  <tbody>\n",
       "    <tr>\n",
       "      <th>0</th>\n",
       "      <td>1</td>\n",
       "      <td>ExFactory</td>\n",
       "      <td>Direct to Customer</td>\n",
       "      <td>EXFACTORY | AXE31452</td>\n",
       "      <td>NaN</td>\n",
       "      <td>NaN</td>\n",
       "      <td>NaN</td>\n",
       "      <td>NaN</td>\n",
       "      <td>AXE31452</td>\n",
       "      <td>Community Speaks Out</td>\n",
       "      <td>95 Corey Rd</td>\n",
       "      <td>Groton</td>\n",
       "      <td>CT</td>\n",
       "      <td>06340</td>\n",
       "      <td>11/27/2023 12:00:00 AM</td>\n",
       "      <td>96</td>\n",
       "    </tr>\n",
       "    <tr>\n",
       "      <th>1</th>\n",
       "      <td>1</td>\n",
       "      <td>ExFactory</td>\n",
       "      <td>Direct to Customer</td>\n",
       "      <td>EXFACTORY | AX18820</td>\n",
       "      <td>NaN</td>\n",
       "      <td>NaN</td>\n",
       "      <td>NaN</td>\n",
       "      <td>NaN</td>\n",
       "      <td>AX18820</td>\n",
       "      <td>SARANAC CENTRAL SCHOOL DISTRICT</td>\n",
       "      <td>18 PICKETTS CORNERS RD</td>\n",
       "      <td>SARANAC</td>\n",
       "      <td>NY</td>\n",
       "      <td>12981</td>\n",
       "      <td>11/28/2023 12:00:00 AM</td>\n",
       "      <td>12</td>\n",
       "    </tr>\n",
       "    <tr>\n",
       "      <th>2</th>\n",
       "      <td>1</td>\n",
       "      <td>ExFactory</td>\n",
       "      <td>Direct to Customer</td>\n",
       "      <td>EXFACTORY | AXE32951</td>\n",
       "      <td>NaN</td>\n",
       "      <td>NaN</td>\n",
       "      <td>NaN</td>\n",
       "      <td>NaN</td>\n",
       "      <td>AXE32951</td>\n",
       "      <td>Galveston County Health District</td>\n",
       "      <td>9850 Emmett F Lowry Expy, Suite B105</td>\n",
       "      <td>Texas City</td>\n",
       "      <td>TX</td>\n",
       "      <td>77591</td>\n",
       "      <td>11/13/2023 12:00:00 AM</td>\n",
       "      <td>48</td>\n",
       "    </tr>\n",
       "    <tr>\n",
       "      <th>3</th>\n",
       "      <td>1</td>\n",
       "      <td>ExFactory</td>\n",
       "      <td>Direct to Customer</td>\n",
       "      <td>EXFACTORY | AXE33064</td>\n",
       "      <td>NaN</td>\n",
       "      <td>NaN</td>\n",
       "      <td>NaN</td>\n",
       "      <td>NaN</td>\n",
       "      <td>AXE33064</td>\n",
       "      <td>Texas Department of State Health Service</td>\n",
       "      <td>1700 Merlin Street</td>\n",
       "      <td>Bay City</td>\n",
       "      <td>TX</td>\n",
       "      <td>77414</td>\n",
       "      <td>11/14/2023 12:00:00 AM</td>\n",
       "      <td>48</td>\n",
       "    </tr>\n",
       "    <tr>\n",
       "      <th>4</th>\n",
       "      <td>1</td>\n",
       "      <td>ExFactory</td>\n",
       "      <td>Sales to Wholesaler</td>\n",
       "      <td>EXFACTORY | AXE31223</td>\n",
       "      <td>NaN</td>\n",
       "      <td>NaN</td>\n",
       "      <td>NaN</td>\n",
       "      <td>NaN</td>\n",
       "      <td>AXE31223</td>\n",
       "      <td>Coastal Horizons Center</td>\n",
       "      <td>615 Shipyard Blvd</td>\n",
       "      <td>Wilmington</td>\n",
       "      <td>NC</td>\n",
       "      <td>28412</td>\n",
       "      <td>9/26/2023 12:00:00 AM</td>\n",
       "      <td>240</td>\n",
       "    </tr>\n",
       "  </tbody>\n",
       "</table>\n",
       "</div>"
      ],
      "text/plain": [
       "   Count of Records     Source   Transaction Bucket                  Q_ID  \\\n",
       "0                 1  ExFactory   Direct to Customer  EXFACTORY | AXE31452   \n",
       "1                 1  ExFactory   Direct to Customer   EXFACTORY | AX18820   \n",
       "2                 1  ExFactory   Direct to Customer  EXFACTORY | AXE32951   \n",
       "3                 1  ExFactory   Direct to Customer  EXFACTORY | AXE33064   \n",
       "4                 1  ExFactory  Sales to Wholesaler  EXFACTORY | AXE31223   \n",
       "\n",
       "   MDM ID Account | SFDC ID Account | ND_Shipto_Number__c  \\\n",
       "0     NaN               NaN                           NaN   \n",
       "1     NaN               NaN                           NaN   \n",
       "2     NaN               NaN                           NaN   \n",
       "3     NaN               NaN                           NaN   \n",
       "4     NaN               NaN                           NaN   \n",
       "\n",
       "   Account | MDM_ID__c ShipTo Code                                    ShipTo  \\\n",
       "0                  NaN    AXE31452                      Community Speaks Out   \n",
       "1                  NaN     AX18820           SARANAC CENTRAL SCHOOL DISTRICT   \n",
       "2                  NaN    AXE32951          Galveston County Health District   \n",
       "3                  NaN    AXE33064  Texas Department of State Health Service   \n",
       "4                  NaN    AXE31223                   Coastal Horizons Center   \n",
       "\n",
       "                                Address        City State    Zip  \\\n",
       "0                           95 Corey Rd      Groton    CT  06340   \n",
       "1                18 PICKETTS CORNERS RD     SARANAC    NY  12981   \n",
       "2  9850 Emmett F Lowry Expy, Suite B105  Texas City    TX  77591   \n",
       "3                    1700 Merlin Street    Bay City    TX  77414   \n",
       "4                     615 Shipyard Blvd  Wilmington    NC  28412   \n",
       "\n",
       "              Max of Date  Sum of Quantity  \n",
       "0  11/27/2023 12:00:00 AM               96  \n",
       "1  11/28/2023 12:00:00 AM               12  \n",
       "2  11/13/2023 12:00:00 AM               48  \n",
       "3  11/14/2023 12:00:00 AM               48  \n",
       "4   9/26/2023 12:00:00 AM              240  "
      ]
     },
     "execution_count": 87,
     "metadata": {},
     "output_type": "execute_result"
    }
   ],
   "source": [
    "combined_new_accounts.head()"
   ]
  },
  {
   "cell_type": "code",
   "execution_count": 88,
   "metadata": {},
   "outputs": [
    {
     "data": {
      "application/vnd.plotly.v1+json": {
       "config": {
        "plotlyServerURL": "https://plot.ly"
       },
       "data": [
        {
         "alignmentgroup": "True",
         "bingroup": "x",
         "hovertemplate": "Source=ExFactory<br>Q_ID=%{x}<br>count=%{y}<extra></extra>",
         "legendgroup": "ExFactory",
         "marker": {
          "color": "#636efa",
          "opacity": 0.5,
          "pattern": {
           "shape": ""
          }
         },
         "name": "ExFactory",
         "offsetgroup": "ExFactory",
         "orientation": "v",
         "showlegend": true,
         "type": "histogram",
         "x": [
          "EXFACTORY | AXE31452",
          "EXFACTORY | AX18820",
          "EXFACTORY | AXE32951",
          "EXFACTORY | AXE33064",
          "EXFACTORY | AXE31223",
          "EXFACTORY | AXE33011",
          "EXFACTORY | AXE30947",
          "EXFACTORY | AXE30951",
          "EXFACTORY | AX18757",
          "EXFACTORY | AXE32995",
          "EXFACTORY | AXE32416",
          "EXFACTORY | AXE32480",
          "EXFACTORY | AXE33368",
          "EXFACTORY | AXE33168",
          "EXFACTORY | AXE30928",
          "EXFACTORY | AXE32752",
          "EXFACTORY | AXE31135",
          "EXFACTORY | AXE31442",
          "EXFACTORY | AXE33461",
          "EXFACTORY | AXE24099",
          "EXFACTORY | AXE32383",
          "EXFACTORY | AXE31826",
          "EXFACTORY | AX18758",
          "EXFACTORY | AXE32102",
          "EXFACTORY | AXE31248",
          "EXFACTORY | AXE31132",
          "EXFACTORY | AXE30805",
          "EXFACTORY | AX18770",
          "EXFACTORY | AXE33295",
          "EXFACTORY | AXE31384",
          "EXFACTORY | AXE33581",
          "EXFACTORY | AXE33051",
          "EXFACTORY | AXE31412",
          "EXFACTORY | AXE31777",
          "EXFACTORY | AXE33665",
          "EXFACTORY | AXE29832",
          "EXFACTORY | AXE31441",
          "EXFACTORY | AXE32976",
          "EXFACTORY | AXE33053",
          "EXFACTORY | AXE31231",
          "EXFACTORY | AXE33046",
          "EXFACTORY | AXE31169",
          "EXFACTORY | AXE30963",
          "EXFACTORY | AXE31611",
          "EXFACTORY | AXE32623",
          "EXFACTORY | AXE31642",
          "EXFACTORY | AXE33397",
          "EXFACTORY | AXE32325",
          "EXFACTORY | AXE31852",
          "EXFACTORY | AXE32435",
          "EXFACTORY | AXE31629",
          "EXFACTORY | AXE31648",
          "EXFACTORY | AXE31023",
          "EXFACTORY | AXE13662",
          "EXFACTORY | AXE31713",
          "EXFACTORY | AXE31595",
          "EXFACTORY | AXE28433",
          "EXFACTORY | AXE33054",
          "EXFACTORY | AXE31129",
          "EXFACTORY | AXE32802",
          "EXFACTORY | AXE32544",
          "EXFACTORY | AXE31148",
          "EXFACTORY | AXE33304",
          "EXFACTORY | AXE32239",
          "EXFACTORY | AXE31243",
          "EXFACTORY | AXE32553",
          "EXFACTORY | AXE32363",
          "EXFACTORY | AXE31110",
          "EXFACTORY | AXE31683",
          "EXFACTORY | AXE33643",
          "EXFACTORY | AXE31390",
          "EXFACTORY | AXE30769",
          "EXFACTORY | AXE33667",
          "EXFACTORY | AXE32006",
          "EXFACTORY | AXE30911",
          "EXFACTORY | AXE33439",
          "EXFACTORY | AXE28589",
          "EXFACTORY | AXE32862",
          "EXFACTORY | AXE33081",
          "EXFACTORY | AXE32967",
          "EXFACTORY | AXE31770",
          "EXFACTORY | AXE33354",
          "EXFACTORY | AXE32342",
          "EXFACTORY | AXE30741",
          "EXFACTORY | AXE32107",
          "EXFACTORY | AXE31906",
          "EXFACTORY | AXE31843",
          "EXFACTORY | AXE31509",
          "EXFACTORY | AXE28582",
          "EXFACTORY | AXE31385",
          "EXFACTORY | AXE31949",
          "EXFACTORY | AXE30784",
          "EXFACTORY | AXE32824",
          "EXFACTORY | AXE33362",
          "EXFACTORY | AXE32674",
          "EXFACTORY | AXE32945",
          "EXFACTORY | AXE09998",
          "EXFACTORY | AXE33340",
          "EXFACTORY | AXE31163",
          "EXFACTORY | AXE32470",
          "EXFACTORY | AXE32264",
          "EXFACTORY | AXE31358",
          "EXFACTORY | AXE32160",
          "EXFACTORY | AXE31394",
          "EXFACTORY | AXE32054",
          "EXFACTORY | AXE33443",
          "EXFACTORY | AXE32461",
          "EXFACTORY | AXE32621",
          "EXFACTORY | AXE33286",
          "EXFACTORY | AXE31206",
          "EXFACTORY | AXE31479",
          "EXFACTORY | AXE33006",
          "EXFACTORY | AXE32963",
          "EXFACTORY | AXE32479",
          "EXFACTORY | AXE31609",
          "EXFACTORY | AX18798",
          "EXFACTORY | AXE33434",
          "EXFACTORY | AXE32155",
          "EXFACTORY | AXE31137",
          "EXFACTORY | AXE33024",
          "EXFACTORY | AXE31028",
          "EXFACTORY | AXE33378",
          "EXFACTORY | AXE33004",
          "EXFACTORY | AXE32023",
          "EXFACTORY | AXE33371",
          "EXFACTORY | AXE30775",
          "EXFACTORY | AXE32422",
          "EXFACTORY | AXE32987",
          "EXFACTORY | AXE33387",
          "EXFACTORY | AXE30936",
          "EXFACTORY | AXE32249",
          "EXFACTORY | AXE32340",
          "EXFACTORY | AXE31720",
          "EXFACTORY | AXE31252",
          "EXFACTORY | AX18764",
          "EXFACTORY | AXE29488",
          "EXFACTORY | AXE31597",
          "EXFACTORY | AXE32992",
          "EXFACTORY | AXE33586",
          "EXFACTORY | AXE32326",
          "EXFACTORY | AXE32385",
          "EXFACTORY | AXE32561",
          "EXFACTORY | AXE32398",
          "EXFACTORY | AXE32084",
          "EXFACTORY | AXE30858",
          "EXFACTORY | AXE30906",
          "EXFACTORY | AXE33001",
          "EXFACTORY | AXE30861",
          "EXFACTORY | AXE32848",
          "EXFACTORY | AXE30903",
          "EXFACTORY | AXE33369",
          "EXFACTORY | AXE31954",
          "EXFACTORY | AXE30888",
          "EXFACTORY | AXE32439",
          "EXFACTORY | AXE32569",
          "EXFACTORY | AXE30869",
          "EXFACTORY | AXE32989",
          "EXFACTORY | AXE33389",
          "EXFACTORY | AXE32737",
          "EXFACTORY | AXE32805",
          "EXFACTORY | AXE32035",
          "EXFACTORY | AXE32727",
          "EXFACTORY | AXE31604",
          "EXFACTORY | AXE33281",
          "EXFACTORY | AXE31618",
          "EXFACTORY | AXE32820",
          "EXFACTORY | AXE31593",
          "EXFACTORY | AXE31356",
          "EXFACTORY | AXE31994",
          "EXFACTORY | AXE33447",
          "EXFACTORY | AXE30745",
          "EXFACTORY | AXE33279",
          "EXFACTORY | AX18789",
          "EXFACTORY | AXE30934",
          "EXFACTORY | AXE31306",
          "EXFACTORY | AXE33285",
          "EXFACTORY | AXE33548",
          "EXFACTORY | AXE30810",
          "EXFACTORY | AXE32627",
          "EXFACTORY | AXE33067",
          "EXFACTORY | AXE33460",
          "EXFACTORY | AXE33540",
          "EXFACTORY | AXE32586",
          "EXFACTORY | AXE32944",
          "EXFACTORY | AXE32399",
          "EXFACTORY | AXE33421",
          "EXFACTORY | AXE30772",
          "EXFACTORY | AXE24428",
          "EXFACTORY | AXE30707",
          "EXFACTORY | AXE33019",
          "EXFACTORY | AXE31109",
          "EXFACTORY | AXE30736",
          "EXFACTORY | AXE31418",
          "EXFACTORY | AXE31149",
          "EXFACTORY | AXE31962",
          "EXFACTORY | AXE32799",
          "EXFACTORY | AXE30847",
          "EXFACTORY | AXE31288",
          "EXFACTORY | AXE30989",
          "EXFACTORY | AXE33147",
          "EXFACTORY | AXE32186",
          "EXFACTORY | AXE30780",
          "EXFACTORY | AXE32258",
          "EXFACTORY | AXE33120",
          "EXFACTORY | AXE32625",
          "EXFACTORY | AXE32815",
          "EXFACTORY | AXE31983",
          "EXFACTORY | AXE33171",
          "EXFACTORY | AXE32825",
          "EXFACTORY | AXE31510",
          "EXFACTORY | AXE33553",
          "EXFACTORY | AXE32961",
          "EXFACTORY | AXE32878",
          "EXFACTORY | AXE32040",
          "EXFACTORY | AXE32671",
          "EXFACTORY | AXE32560",
          "EXFACTORY | AXE32743",
          "EXFACTORY | AXE31260",
          "EXFACTORY | AXE32074",
          "EXFACTORY | AXE32804",
          "EXFACTORY | AXE32863",
          "EXFACTORY | AXE30738",
          "EXFACTORY | AXE31222",
          "EXFACTORY | AXE32050",
          "EXFACTORY | AXE31294",
          "EXFACTORY | AXE33452",
          "EXFACTORY | AXE31207",
          "EXFACTORY | AXE31108",
          "EXFACTORY | AXE32643",
          "EXFACTORY | AXE15651",
          "EXFACTORY | AXE23777",
          "EXFACTORY | AX18767",
          "EXFACTORY | AXE31164",
          "EXFACTORY | AXE31791",
          "EXFACTORY | AXE32132",
          "EXFACTORY | AXE33226",
          "EXFACTORY | AXE30950",
          "EXFACTORY | AXE33028",
          "EXFACTORY | AXE32152",
          "EXFACTORY | AXE31980",
          "EXFACTORY | AXE31682",
          "EXFACTORY | AXE31617",
          "EXFACTORY | AXE31017",
          "EXFACTORY | AXE30957",
          "EXFACTORY | AXE31086",
          "EXFACTORY | AXE30914",
          "EXFACTORY | AXE31379",
          "EXFACTORY | AXE31685",
          "EXFACTORY | AXE32241",
          "EXFACTORY | AXE32867",
          "EXFACTORY | AXE30802",
          "EXFACTORY | AXE31175",
          "EXFACTORY | AXE32648",
          "EXFACTORY | AXE33007",
          "EXFACTORY | AXE31300",
          "EXFACTORY | AXE32953",
          "EXFACTORY | AXE32048",
          "EXFACTORY | AXE31848",
          "EXFACTORY | AXE31619",
          "EXFACTORY | AXE31284",
          "EXFACTORY | AXE19599",
          "EXFACTORY | AXE31089",
          "EXFACTORY | AXE31552",
          "EXFACTORY | AXE32108",
          "EXFACTORY | AXE31131",
          "EXFACTORY | AXE32086",
          "EXFACTORY | AXE31143",
          "EXFACTORY | AXE30827",
          "EXFACTORY | AXE30850",
          "EXFACTORY | AXE31399",
          "EXFACTORY | AXE30838",
          "EXFACTORY | AX9327",
          "EXFACTORY | AXE09920",
          "EXFACTORY | AXE33043",
          "EXFACTORY | AXE33000",
          "EXFACTORY | AXE33057",
          "EXFACTORY | AXE32606",
          "EXFACTORY | AXE30773",
          "EXFACTORY | AXE28431",
          "EXFACTORY | AXE32581",
          "EXFACTORY | AXE31221",
          "EXFACTORY | AXE11609",
          "EXFACTORY | AXE33457",
          "EXFACTORY | AXE31774",
          "EXFACTORY | AXE30718",
          "EXFACTORY | AXE33137",
          "EXFACTORY | AXE32180",
          "EXFACTORY | AXE31625",
          "EXFACTORY | AXE32323",
          "EXFACTORY | AXE30730",
          "EXFACTORY | AXE32046",
          "EXFACTORY | AXE32812",
          "EXFACTORY | AXE31526",
          "EXFACTORY | AXE30799",
          "EXFACTORY | AXE31404",
          "EXFACTORY | AXE31197",
          "EXFACTORY | AXE30951",
          "EXFACTORY | AXE33298",
          "EXFACTORY | AXE33284",
          "EXFACTORY | AXE32813",
          "EXFACTORY | AXE31107",
          "EXFACTORY | AXE32965",
          "EXFACTORY | AXE33017",
          "EXFACTORY | AXE32440",
          "EXFACTORY | AXE31557",
          "EXFACTORY | AXE28524",
          "EXFACTORY | AXE31730",
          "EXFACTORY | AXE31304",
          "EXFACTORY | AXE30829",
          "EXFACTORY | AXE33114",
          "EXFACTORY | AXE31860",
          "EXFACTORY | AXE32077",
          "EXFACTORY | AXE30746",
          "EXFACTORY | AXE32844",
          "EXFACTORY | AXE33098",
          "EXFACTORY | AXE32742",
          "EXFACTORY | AXE33406",
          "EXFACTORY | AXE30729",
          "EXFACTORY | AXE31090",
          "EXFACTORY | AXE32263",
          "EXFACTORY | AXE30995",
          "EXFACTORY | AXE32568",
          "EXFACTORY | AXE31247",
          "EXFACTORY | AXE33123",
          "EXFACTORY | AXE33052",
          "EXFACTORY | AXE31212",
          "EXFACTORY | AXE31612",
          "EXFACTORY | AXE32064",
          "EXFACTORY | AXE31824",
          "EXFACTORY | AXE33559",
          "EXFACTORY | AXE31136",
          "EXFACTORY | AXE33122",
          "EXFACTORY | AXE32849",
          "EXFACTORY | AXE28516",
          "EXFACTORY | AXE31346",
          "EXFACTORY | AXE33049",
          "EXFACTORY | AXE32426",
          "EXFACTORY | AXE31145",
          "EXFACTORY | AXE32018",
          "EXFACTORY | AXE30808",
          "EXFACTORY | AXE33435",
          "EXFACTORY | AXE32405",
          "EXFACTORY | AXE31624",
          "EXFACTORY | AXE33594",
          "EXFACTORY | AXE32646",
          "EXFACTORY | AXE32624",
          "EXFACTORY | AXE31610",
          "EXFACTORY | AXE31885",
          "EXFACTORY | AXE31027",
          "EXFACTORY | AXE31211",
          "EXFACTORY | AXE33169",
          "EXFACTORY | AXE31345",
          "EXFACTORY | AXE33106",
          "EXFACTORY | AX18803",
          "EXFACTORY | AXE30706",
          "EXFACTORY | AXE32091",
          "EXFACTORY | AXE29639",
          "EXFACTORY | AXE33487",
          "EXFACTORY | AXE31477",
          "EXFACTORY | AXE32090",
          "EXFACTORY | AXE32466",
          "EXFACTORY | AXE31313",
          "EXFACTORY | AXE31741",
          "EXFACTORY | AXE32701",
          "EXFACTORY | AXE32005",
          "EXFACTORY | AXE32073",
          "EXFACTORY | AXE31024",
          "EXFACTORY | AXE32361",
          "EXFACTORY | AX18785",
          "EXFACTORY | AXE31165",
          "EXFACTORY | AXE33300",
          "EXFACTORY | AXE33008",
          "EXFACTORY | AXE33441",
          "EXFACTORY | AXE33379",
          "EXFACTORY | AXE31796",
          "EXFACTORY | AXE32732",
          "EXFACTORY | AXE32044",
          "EXFACTORY | AXE32045",
          "EXFACTORY | AXE31890",
          "EXFACTORY | AXE32761",
          "EXFACTORY | AXE30954",
          "EXFACTORY | AXE31106",
          "EXFACTORY | AXE27683",
          "EXFACTORY | AXE33343",
          "EXFACTORY | AXE33041",
          "EXFACTORY | AXE31591",
          "EXFACTORY | AXE31550",
          "EXFACTORY | AXE31590",
          "EXFACTORY | AXE31823",
          "EXFACTORY | AXE28434",
          "EXFACTORY | AXE32376",
          "EXFACTORY | AXE32642",
          "EXFACTORY | AXE30804",
          "EXFACTORY | AXE33646",
          "EXFACTORY | AXE33071",
          "EXFACTORY | AXE32071",
          "EXFACTORY | AXE32843",
          "EXFACTORY | AXE31601",
          "EXFACTORY | AXE33224",
          "EXFACTORY | AXE32049",
          "EXFACTORY | AXE32994",
          "EXFACTORY | AXE32460",
          "EXFACTORY | AXE32829",
          "EXFACTORY | AXE32043",
          "EXFACTORY | AXE29923",
          "EXFACTORY | AXE32931",
          "EXFACTORY | AXE32738",
          "EXFACTORY | AXE32731",
          "EXFACTORY | AXE32647",
          "EXFACTORY | AXE32036",
          "EXFACTORY | AXE31150",
          "EXFACTORY | AXE31849",
          "EXFACTORY | AXE30870",
          "EXFACTORY | AXE32297",
          "EXFACTORY | AXE30899",
          "EXFACTORY | AXE31525",
          "EXFACTORY | AXE33294",
          "EXFACTORY | AXE31037",
          "EXFACTORY | AXE30923",
          "EXFACTORY | AXE33185",
          "EXFACTORY | AXE33380",
          "EXFACTORY | AXE31613",
          "EXFACTORY | AXE31957",
          "EXFACTORY | AXE31508",
          "EXFACTORY | AXE32676",
          "EXFACTORY | AXE32421",
          "EXFACTORY | AXE28588",
          "EXFACTORY | AXE32333",
          "EXFACTORY | AXE33297",
          "EXFACTORY | AXE32839",
          "EXFACTORY | AX18778",
          "EXFACTORY | AXE33140",
          "EXFACTORY | AXE32638",
          "EXFACTORY | AXE32971",
          "EXFACTORY | AXE31387",
          "EXFACTORY | AXE32649",
          "EXFACTORY | AXE32972",
          "EXFACTORY | AXE33060",
          "EXFACTORY | AXE31355",
          "EXFACTORY | AXE32850",
          "EXFACTORY | AXE32969",
          "EXFACTORY | AXE32996",
          "EXFACTORY | AXE32424",
          "EXFACTORY | AXE32784",
          "EXFACTORY | AXE32303",
          "EXFACTORY | AX18797",
          "EXFACTORY | AXE30853",
          "EXFACTORY | AXE31899",
          "EXFACTORY | AXE33454",
          "EXFACTORY | AXE33585",
          "EXFACTORY | AXE30986",
          "EXFACTORY | AXE33029",
          "EXFACTORY | AXE31512",
          "EXFACTORY | AXE31850",
          "EXFACTORY | AX18808",
          "EXFACTORY | AXE31951",
          "EXFACTORY | AXE33411",
          "EXFACTORY | AXE32999",
          "EXFACTORY | AXE33148",
          "EXFACTORY | AXE32365",
          "EXFACTORY | AXE32459",
          "EXFACTORY | AXE31623",
          "EXFACTORY | AXE31183",
          "EXFACTORY | AX18815",
          "EXFACTORY | AXE32374",
          "EXFACTORY | AXE32501",
          "EXFACTORY | AXE31213",
          "EXFACTORY | AXE31684",
          "EXFACTORY | AXE31598",
          "EXFACTORY | AXE33652",
          "EXFACTORY | AXE33085",
          "EXFACTORY | AXE31038",
          "EXFACTORY | AXE31463",
          "EXFACTORY | AXE31889",
          "EXFACTORY | AXE29175",
          "EXFACTORY | AXE30900",
          "EXFACTORY | AXE32065",
          "EXFACTORY | AXE32124",
          "EXFACTORY | AXE31725",
          "EXFACTORY | AXE32521",
          "EXFACTORY | AXE32008",
          "EXFACTORY | AX18809",
          "EXFACTORY | AXE30916",
          "EXFACTORY | AXE33042",
          "EXFACTORY | AXE31118",
          "EXFACTORY | AXE31402",
          "EXFACTORY | AXE31767",
          "EXFACTORY | AXE33105",
          "EXFACTORY | AXE30737",
          "EXFACTORY | AX18771",
          "EXFACTORY | AXE20892",
          "EXFACTORY | AXE32140",
          "EXFACTORY | AXE33384",
          "EXFACTORY | AXE32973",
          "EXFACTORY | AXE32599",
          "EXFACTORY | AXE32057",
          "EXFACTORY | AXE31820",
          "EXFACTORY | AXE32281",
          "EXFACTORY | AXE33587",
          "EXFACTORY | AXE29336",
          "EXFACTORY | AXE31475",
          "EXFACTORY | AXE32626",
          "EXFACTORY | AXE33073",
          "EXFACTORY | AXE31710",
          "EXFACTORY | AXE32806",
          "EXFACTORY | AXE31455",
          "EXFACTORY | AXE32126",
          "EXFACTORY | AXE30759",
          "EXFACTORY | AXE33353",
          "EXFACTORY | AXE33437",
          "EXFACTORY | AXE32783",
          "EXFACTORY | AXE31348",
          "EXFACTORY | AXE33390",
          "EXFACTORY | AXE31015",
          "EXFACTORY | AXE32637",
          "EXFACTORY | AXE31421",
          "EXFACTORY | AXE32875",
          "EXFACTORY | AXE32404",
          "EXFACTORY | AXE30819",
          "EXFACTORY | AXE30943",
          "EXFACTORY | AXE31290",
          "EXFACTORY | AXE30771",
          "EXFACTORY | AXE32605",
          "EXFACTORY | AXE31688",
          "EXFACTORY | AXE31458",
          "EXFACTORY | AXE31097",
          "EXFACTORY | AXE31420",
          "EXFACTORY | AXE32968",
          "EXFACTORY | AXE31691",
          "EXFACTORY | AXE32083",
          "EXFACTORY | AXE31359",
          "EXFACTORY | AXE33562",
          "EXFACTORY | AXE31527",
          "EXFACTORY | AXE30813",
          "EXFACTORY | AXE32147",
          "EXFACTORY | AXE30903",
          "EXFACTORY | AXE31530",
          "EXFACTORY | AXE32425",
          "EXFACTORY | AXE25261",
          "EXFACTORY | AXE31761",
          "EXFACTORY | AXE33524",
          "EXFACTORY | AXE31316",
          "EXFACTORY | AXE30913",
          "EXFACTORY | AXE32382",
          "EXFACTORY | AXE32919",
          "EXFACTORY | AXE32807",
          "EXFACTORY | AXE32559",
          "EXFACTORY | AX18776",
          "EXFACTORY | AXE32158",
          "EXFACTORY | AXE31958",
          "EXFACTORY | AXE31357",
          "EXFACTORY | AXE33158",
          "EXFACTORY | AXE32423",
          "EXFACTORY | AXE20045",
          "EXFACTORY | AXE33127",
          "EXFACTORY | AXE31891",
          "EXFACTORY | AX18775",
          "EXFACTORY | AXE32762",
          "EXFACTORY | AXE32304",
          "EXFACTORY | AXE32298",
          "EXFACTORY | AXE32075",
          "EXFACTORY | AXE32337",
          "EXFACTORY | AXE31116",
          "EXFACTORY | AXE31403",
          "EXFACTORY | AXE30709",
          "EXFACTORY | AXE32188",
          "EXFACTORY | AXE31466",
          "EXFACTORY | AXE33078",
          "EXFACTORY | AXE33463",
          "EXFACTORY | AXE32801",
          "EXFACTORY | AXE33370",
          "EXFACTORY | AXE30646",
          "EXFACTORY | AXE30902",
          "EXFACTORY | AXE33583",
          "EXFACTORY | AXE32628",
          "EXFACTORY | AXE31444",
          "EXFACTORY | AXE32375",
          "EXFACTORY | AXE32603",
          "EXFACTORY | AXE32816",
          "EXFACTORY | AXE31219",
          "EXFACTORY | AXE31286",
          "EXFACTORY | AXE33003",
          "EXFACTORY | AXE33095",
          "EXFACTORY | AXE31886",
          "EXFACTORY | AXE32122",
          "EXFACTORY | AXE33086",
          "EXFACTORY | AXE32583",
          "EXFACTORY | AXE32305",
          "EXFACTORY | AXE32412",
          "EXFACTORY | AXE31589",
          "EXFACTORY | AXE33163",
          "EXFACTORY | AXE33126",
          "EXFACTORY | AXE31157",
          "EXFACTORY | AXE31351",
          "EXFACTORY | AXE31357",
          "EXFACTORY | AXE32950",
          "EXFACTORY | AXE31799",
          "EXFACTORY | AXE32142",
          "EXFACTORY | AXE33375",
          "EXFACTORY | AXE33094",
          "EXFACTORY | AXE33352",
          "EXFACTORY | AXE33033",
          "EXFACTORY | AXE32429",
          "EXFACTORY | AXE32490",
          "EXFACTORY | AXE31361",
          "EXFACTORY | AXE33483",
          "EXFACTORY | AXE30846",
          "EXFACTORY | AXE33449",
          "EXFACTORY | AXE32952",
          "EXFACTORY | AXE30908",
          "EXFACTORY | AXE30441",
          "EXFACTORY | AXE29437",
          "EXFACTORY | AXE32962",
          "EXFACTORY | AXE32485",
          "EXFACTORY | AXE33648",
          "EXFACTORY | AXE31125",
          "EXFACTORY | AXE31955",
          "EXFACTORY | AXE30774",
          "EXFACTORY | AXE32144",
          "EXFACTORY | AXE32986",
          "EXFACTORY | AXE30874",
          "EXFACTORY | AXE30907",
          "EXFACTORY | AXE31280",
          "EXFACTORY | AXE32339",
          "EXFACTORY | AXE31729",
          "EXFACTORY | AXE32739",
          "EXFACTORY | AXE32958",
          "EXFACTORY | AXE33302",
          "EXFACTORY | AXE32756",
          "EXFACTORY | AXE32092",
          "EXFACTORY | AXE32088",
          "EXFACTORY | AXE32394",
          "EXFACTORY | AXE31347",
          "EXFACTORY | AX18819",
          "EXFACTORY | AXE31794",
          "EXFACTORY | AXE31453",
          "EXFACTORY | AXE31956",
          "EXFACTORY | AXE33374",
          "EXFACTORY | AXE30873",
          "EXFACTORY | AXE31728",
          "EXFACTORY | AXE33009",
          "EXFACTORY | AXE31689",
          "EXFACTORY | AXE31996",
          "EXFACTORY | AXE33034",
          "EXFACTORY | AXE32087",
          "EXFACTORY | AXE32926",
          "EXFACTORY | AXE28166",
          "EXFACTORY | AXE33153",
          "EXFACTORY | AXE31786",
          "EXFACTORY | AXE30728",
          "EXFACTORY | AXE31953",
          "EXFACTORY | AXE31323",
          "EXFACTORY | AXE32000",
          "EXFACTORY | AXE32063",
          "EXFACTORY | AXE33593",
          "EXFACTORY | AXE32370",
          "EXFACTORY | AXE33184",
          "EXFACTORY | AXE33427",
          "EXFACTORY | AXE33165",
          "EXFACTORY | AXE30966",
          "EXFACTORY | AXE31560",
          "EXFACTORY | AXE32067",
          "EXFACTORY | AXE31454",
          "EXFACTORY | AX9438",
          "EXFACTORY | AXE33642",
          "EXFACTORY | AXE32588",
          "EXFACTORY | AXE31787",
          "EXFACTORY | AXE30765",
          "EXFACTORY | AXE32156",
          "EXFACTORY | AXE31249",
          "EXFACTORY | AXE31205",
          "EXFACTORY | AXE32434",
          "EXFACTORY | AXE31115",
          "EXFACTORY | AXE31159",
          "EXFACTORY | AXE32004",
          "EXFACTORY | AXE30743",
          "EXFACTORY | AXE32015",
          "EXFACTORY | AXE31177",
          "EXFACTORY | AXE33084",
          "EXFACTORY | AXE32759",
          "EXFACTORY | AXE31971",
          "EXFACTORY | AXE32182",
          "EXFACTORY | AXE32659",
          "EXFACTORY | AXE31788",
          "EXFACTORY | AXE33649",
          "EXFACTORY | AXE22973",
          "EXFACTORY | AXE31945",
          "EXFACTORY | AX18756",
          "EXFACTORY | AXE30999",
          "EXFACTORY | AXE30920",
          "EXFACTORY | AXE31312",
          "EXFACTORY | AXE32866",
          "EXFACTORY | AXE30835",
          "EXFACTORY | AXE32809",
          "EXFACTORY | AXE32764",
          "EXFACTORY | AXE33425",
          "EXFACTORY | AXE32120",
          "EXFACTORY | AXE31985",
          "EXFACTORY | AXE30785",
          "EXFACTORY | AXE30993",
          "EXFACTORY | AXE30816",
          "EXFACTORY | AXE30930",
          "EXFACTORY | AXE30828",
          "EXFACTORY | AXE30782",
          "EXFACTORY | AXE31198",
          "EXFACTORY | AXE31128",
          "EXFACTORY | AXE31793",
          "EXFACTORY | AXE31583",
          "EXFACTORY | AXE30938",
          "EXFACTORY | AXE31558",
          "EXFACTORY | AXE31967",
          "EXFACTORY | AXE32723",
          "EXFACTORY | AXE30900",
          "EXFACTORY | AXE30812",
          "EXFACTORY | AXE29833",
          "EXFACTORY | AXE30834",
          "EXFACTORY | AXE31104",
          "EXFACTORY | AXE31034",
          "EXFACTORY | AXE32846",
          "EXFACTORY | AXE32290",
          "EXFACTORY | AXE31016",
          "EXFACTORY | AXE22032",
          "EXFACTORY | AXE33076",
          "EXFACTORY | AXE33396",
          "EXFACTORY | AXE31948",
          "EXFACTORY | AXE32293",
          "EXFACTORY | AXE31620",
          "EXFACTORY | AXE31445",
          "EXFACTORY | AXE30856",
          "EXFACTORY | AXE31961",
          "EXFACTORY | AXE32755",
          "EXFACTORY | AXE33438",
          "EXFACTORY | AXE32373",
          "EXFACTORY | AXE32474",
          "EXFACTORY | AXE31085",
          "EXFACTORY | AXE33070",
          "EXFACTORY | AXE32677",
          "EXFACTORY | AXE30734",
          "EXFACTORY | AXE30912",
          "EXFACTORY | AXE31117",
          "EXFACTORY | AXE33408",
          "EXFACTORY | AXE31190",
          "EXFACTORY | AXE33555",
          "EXFACTORY | AXE31144",
          "EXFACTORY | AXE33039",
          "EXFACTORY | AXE31462",
          "EXFACTORY | AXE32386",
          "EXFACTORY | AXE33116",
          "EXFACTORY | AXE33129",
          "EXFACTORY | AXE32554",
          "EXFACTORY | AXE33451",
          "EXFACTORY | AXE33150",
          "EXFACTORY | AXE31507",
          "EXFACTORY | AXE32600",
          "EXFACTORY | AXE31308",
          "EXFACTORY | AXE32336",
          "EXFACTORY | AXE32473",
          "EXFACTORY | AXE30998",
          "EXFACTORY | AXE30944",
          "EXFACTORY | AXE32154",
          "EXFACTORY | AXE31139",
          "EXFACTORY | AXE32149",
          "EXFACTORY | AXE33121",
          "EXFACTORY | AXE33135",
          "EXFACTORY | AXE30845",
          "EXFACTORY | AXE31153",
          "EXFACTORY | AXE31413",
          "EXFACTORY | AXE33420",
          "EXFACTORY | AXE31907",
          "EXFACTORY | AXE32136",
          "EXFACTORY | AXE31103",
          "EXFACTORY | AXE31781",
          "EXFACTORY | AXE31944",
          "EXFACTORY | AXE33093",
          "EXFACTORY | AXE33149",
          "EXFACTORY | AXE32463",
          "EXFACTORY | AXE33021",
          "EXFACTORY | AXE32748",
          "EXFACTORY | AXE33561",
          "EXFACTORY | AXE31769",
          "EXFACTORY | AXE24382",
          "EXFACTORY | AXE33382",
          "EXFACTORY | AXE31093",
          "EXFACTORY | AXE32413",
          "EXFACTORY | AXE32244",
          "EXFACTORY | AXE31896",
          "EXFACTORY | AXE32607",
          "EXFACTORY | AXE33366",
          "EXFACTORY | AXE32328",
          "EXFACTORY | AXE32567",
          "EXFACTORY | AXE32735",
          "EXFACTORY | AXE33377",
          "EXFACTORY | AXE33296",
          "EXFACTORY | AXE33128",
          "EXFACTORY | AXE31559",
          "EXFACTORY | AXE33096",
          "EXFACTORY | AXE33348",
          "EXFACTORY | AXE32070",
          "EXFACTORY | AXE31320",
          "EXFACTORY | AXE31020",
          "EXFACTORY | AXE31602",
          "EXFACTORY | AXE32387",
          "EXFACTORY | AXE33134",
          "EXFACTORY | AXE23669",
          "EXFACTORY | AXE32832",
          "EXFACTORY | AXE13460",
          "EXFACTORY | AXE33429",
          "EXFACTORY | AXE31649",
          "EXFACTORY | AXE33373",
          "EXFACTORY | AXE31311",
          "EXFACTORY | AXE30714",
          "EXFACTORY | AXE31362",
          "EXFACTORY | AXE28165",
          "EXFACTORY | AXE31173",
          "EXFACTORY | AXE28544",
          "EXFACTORY | AXE30767",
          "EXFACTORY | AXE31363",
          "EXFACTORY | AXE33101",
          "EXFACTORY | AXE13686",
          "EXFACTORY | AXE31092",
          "EXFACTORY | AXE32864",
          "EXFACTORY | AXE31295",
          "EXFACTORY | AXE33100",
          "EXFACTORY | AXE31281",
          "EXFACTORY | AXE31779",
          "EXFACTORY | AXE32402",
          "EXFACTORY | AXE33595",
          "EXFACTORY | AXE30803",
          "EXFACTORY | AXE11881",
          "EXFACTORY | AXE30872",
          "EXFACTORY | AXE33156",
          "EXFACTORY | AXE31701",
          "EXFACTORY | AXE33092",
          "EXFACTORY | AXE30860",
          "EXFACTORY | AXE33445",
          "EXFACTORY | AXE32329",
          "EXFACTORY | AXE32245",
          "EXFACTORY | AXE32760",
          "EXFACTORY | AXE32085",
          "EXFACTORY | AXE31908",
          "EXFACTORY | AXE31282",
          "EXFACTORY | AXE32095",
          "EXFACTORY | AXE31759",
          "EXFACTORY | AXE30764",
          "EXFACTORY | AXE31502",
          "EXFACTORY | AXE32865",
          "EXFACTORY | AXE33083",
          "EXFACTORY | AXE31030",
          "EXFACTORY | AXE31681",
          "EXFACTORY | AXE31643",
          "EXFACTORY | AXE32808",
          "EXFACTORY | AXE30953",
          "EXFACTORY | AXE31714",
          "EXFACTORY | AXE31035",
          "EXFACTORY | AXE33161",
          "EXFACTORY | AXE32940",
          "EXFACTORY | AXE31986",
          "EXFACTORY | AXE27682",
          "EXFACTORY | AXE32954",
          "EXFACTORY | AXE30960",
          "EXFACTORY | AXE27785",
          "EXFACTORY | AXE32094",
          "EXFACTORY | AXE31471",
          "EXFACTORY | AXE31687",
          "EXFACTORY | AXE31151",
          "EXFACTORY | AXE33589",
          "EXFACTORY | AXE33359",
          "EXFACTORY | AXE32475",
          "EXFACTORY | AXE32335",
          "EXFACTORY | AXE30745",
          "EXFACTORY | AXE31181",
          "EXFACTORY | AXE31130",
          "EXFACTORY | AXE32089",
          "EXFACTORY | AXE22032",
          "EXFACTORY | AXE32630",
          "EXFACTORY | AXE31450",
          "EXFACTORY | AXE33388",
          "EXFACTORY | AXE30863",
          "EXFACTORY | AXE33428",
          "EXFACTORY | AXE31228",
          "EXFACTORY | AXE33062",
          "EXFACTORY | AXE31291",
          "EXFACTORY | AXE31731",
          "EXFACTORY | AXE32845",
          "EXFACTORY | AXE31947",
          "EXFACTORY | AXE31209",
          "EXFACTORY | AXE23041",
          "EXFACTORY | AXE31775",
          "EXFACTORY | AXE33097",
          "EXFACTORY | AXE32984",
          "EXFACTORY | AXE30004",
          "EXFACTORY | AXE30988",
          "EXFACTORY | AXE32082",
          "EXFACTORY | AXE32469",
          "EXFACTORY | AXE32619",
          "EXFACTORY | AXE32028",
          "EXFACTORY | AXE31704",
          "EXFACTORY | AXE32029",
          "EXFACTORY | AXE30710",
          "EXFACTORY | AXE31160",
          "EXFACTORY | AXE33044",
          "EXFACTORY | AXE31140",
          "EXFACTORY | AXE32034",
          "EXFACTORY | AXE30815",
          "EXFACTORY | AXE31554",
          "EXFACTORY | AXE30967",
          "EXFACTORY | AXE31614",
          "EXFACTORY | AXE32362",
          "EXFACTORY | AXE30757",
          "EXFACTORY | AXE31514",
          "EXFACTORY | AX18821",
          "EXFACTORY | AXE31952",
          "EXFACTORY | AXE33426",
          "EXFACTORY | AXE31405",
          "EXFACTORY | AXE30941",
          "EXFACTORY | AXE31862",
          "EXFACTORY | AXE26312",
          "EXFACTORY | AXE31844",
          "EXFACTORY | AXE32366",
          "EXFACTORY | AXE32828",
          "EXFACTORY | AXE30939",
          "EXFACTORY | AXE33179",
          "EXFACTORY | AXE32949",
          "EXFACTORY | AXE33181",
          "EXFACTORY | AXE32869",
          "EXFACTORY | AXE31783",
          "EXFACTORY | AXE33103",
          "EXFACTORY | AX18769",
          "EXFACTORY | AXE31973",
          "EXFACTORY | AXE30840",
          "EXFACTORY | AXE32462",
          "EXFACTORY | AXE32069",
          "EXFACTORY | AXE31987",
          "EXFACTORY | AXE32151",
          "EXFACTORY | AXE31970",
          "EXFACTORY | AXE31217",
          "EXFACTORY | AXE31990",
          "EXFACTORY | AXE22978",
          "EXFACTORY | AXE32927",
          "EXFACTORY | AX18781",
          "EXFACTORY | AXE30994",
          "EXFACTORY | AXE32975",
          "EXFACTORY | AXE30933",
          "EXFACTORY | AXE32838",
          "EXFACTORY | AXE31401",
          "EXFACTORY | AXE32408",
          "EXFACTORY | AXE30837",
          "EXFACTORY | AXE11572",
          "EXFACTORY | AXE31735",
          "EXFACTORY | AXE33403",
          "EXFACTORY | AXE32974",
          "EXFACTORY | AXE31743",
          "EXFACTORY | AXE32417",
          "EXFACTORY | AXE32993",
          "EXFACTORY | AXE32602",
          "EXFACTORY | AXE32129",
          "EXFACTORY | AXE32673",
          "EXFACTORY | AXE31310",
          "EXFACTORY | AXE33022",
          "EXFACTORY | AXE31158",
          "EXFACTORY | AXE32106",
          "EXFACTORY | AXE33077",
          "EXFACTORY | AXE31195",
          "EXFACTORY | AXE30959",
          "EXFACTORY | AXE30806",
          "EXFACTORY | AXE33383",
          "EXFACTORY | AXE30859",
          "EXFACTORY | AXE32979",
          "EXFACTORY | AXE33357",
          "EXFACTORY | AXE32946",
          "EXFACTORY | AXE32939",
          "EXFACTORY | AXE32728",
          "EXFACTORY | AXE33488",
          "EXFACTORY | AXE32150",
          "EXFACTORY | AXE33109",
          "EXFACTORY | AXE33409",
          "EXFACTORY | AXE32145",
          "EXFACTORY | AXE32928",
          "EXFACTORY | AXE32280",
          "EXFACTORY | AXE32811",
          "EXFACTORY | AXE31898",
          "EXFACTORY | AXE31146",
          "EXFACTORY | AXE33026",
          "EXFACTORY | AXE31580",
          "EXFACTORY | AXE32724",
          "EXFACTORY | AXE30761",
          "EXFACTORY | AXE31519",
          "EXFACTORY | AXE33013",
          "EXFACTORY | AXE33151",
          "EXFACTORY | AX18822",
          "EXFACTORY | AXE31737",
          "EXFACTORY | AXE32027",
          "EXFACTORY | AXE32641",
          "EXFACTORY | AXE33401",
          "EXFACTORY | AXE19890",
          "EXFACTORY | AXE31224",
          "EXFACTORY | AXE33283",
          "EXFACTORY | AXE21259",
          "EXFACTORY | AXE31292",
          "EXFACTORY | AXE33132",
          "EXFACTORY | AXE30854",
          "EXFACTORY | AXE30342",
          "EXFACTORY | AXE30839",
          "EXFACTORY | AXE32395",
          "EXFACTORY | AXE32814",
          "EXFACTORY | AXE32556",
          "EXFACTORY | AXE30879",
          "EXFACTORY | AXE33018",
          "EXFACTORY | AXE33393",
          "EXFACTORY | AXE31939",
          "EXFACTORY | AXE32301",
          "EXFACTORY | AXE33554",
          "EXFACTORY | AXE33458",
          "EXFACTORY | AXE30763",
          "EXFACTORY | AXE30918",
          "EXFACTORY | AXE33363",
          "EXFACTORY | AXE32392",
          "EXFACTORY | AXE31705",
          "EXFACTORY | AXE31099",
          "EXFACTORY | AXE31244",
          "EXFACTORY | AXE32744",
          "EXFACTORY | AXE33640",
          "EXFACTORY | AXE30732",
          "EXFACTORY | AXE31225",
          "EXFACTORY | AXE31141",
          "EXFACTORY | AXE32001",
          "EXFACTORY | AXE31307",
          "EXFACTORY | AXE31178",
          "EXFACTORY | AXE31734",
          "EXFACTORY | AXE33392",
          "EXFACTORY | AXE0009126",
          "EXFACTORY | AXE32487",
          "EXFACTORY | AXE30867",
          "EXFACTORY | AXE31605",
          "EXFACTORY | AXE32877",
          "EXFACTORY | AXE32372",
          "EXFACTORY | AXE32941",
          "EXFACTORY | AXE31033",
          "EXFACTORY | AXE31778",
          "EXFACTORY | AXE32414",
          "EXFACTORY | AXE31506",
          "EXFACTORY | AXE32428",
          "EXFACTORY | AXE32998",
          "EXFACTORY | AXE31324",
          "EXFACTORY | AXE32741",
          "EXFACTORY | AXE32631",
          "EXFACTORY | AXE31555",
          "EXFACTORY | AXE32842",
          "EXFACTORY | AXE31797",
          "EXFACTORY | AXE30753",
          "EXFACTORY | AXE33113",
          "EXFACTORY | AXE31584",
          "EXFACTORY | AXE25743",
          "EXFACTORY | AXE32881",
          "EXFACTORY | AXE33564",
          "EXFACTORY | AXE32248",
          "EXFACTORY | AXE31220",
          "EXFACTORY | AXE29899",
          "EXFACTORY | AXE33142",
          "EXFACTORY | AXE31114",
          "EXFACTORY | AXE33119",
          "EXFACTORY | AXE33211",
          "EXFACTORY | AXE32481",
          "EXFACTORY | AXE32378",
          "EXFACTORY | AXE33361",
          "EXFACTORY | AXE29986",
          "EXFACTORY | AXE20824",
          "EXFACTORY | AXE33661",
          "EXFACTORY | AXE30341",
          "EXFACTORY | AXE32431",
          "EXFACTORY | AXE31245",
          "EXFACTORY | AXE33182",
          "EXFACTORY | AXE32007",
          "EXFACTORY | AXE31425",
          "EXFACTORY | AXE30760",
          "EXFACTORY | AXE33012",
          "EXFACTORY | AXE30917",
          "EXFACTORY | AXE32369",
          "EXFACTORY | AXE31847",
          "EXFACTORY | AXE33376",
          "EXFACTORY | AXE30744",
          "EXFACTORY | AXE33025",
          "EXFACTORY | AXE31733",
          "EXFACTORY | AXE32031",
          "EXFACTORY | AXE31427",
          "EXFACTORY | AXE31982",
          "EXFACTORY | AXE31721",
          "EXFACTORY | AXE32749",
          "EXFACTORY | AXE32584",
          "EXFACTORY | AXE32966",
          "EXFACTORY | AXE32139",
          "EXFACTORY | AXE31626",
          "EXFACTORY | AXE31523",
          "EXFACTORY | AXE30925",
          "EXFACTORY | AXE30924",
          "EXFACTORY | AXE32729",
          "EXFACTORY | AXE30940",
          "EXFACTORY | AXE31974",
          "EXFACTORY | AXE31972",
          "EXFACTORY | AXE31161",
          "EXFACTORY | AXE31162",
          "EXFACTORY | AXE31969",
          "EXFACTORY | AXE32871",
          "EXFACTORY | AXE31174",
          "EXFACTORY | AXE32472",
          "EXFACTORY | AXE31992",
          "EXFACTORY | AXE31386",
          "EXFACTORY | AXE33172",
          "EXFACTORY | AXE33556",
          "EXFACTORY | AXE31740",
          "EXFACTORY | AX18768",
          "EXFACTORY | AXE33023",
          "EXFACTORY | AXE31652",
          "EXFACTORY | AXE32464",
          "EXFACTORY | AXE31246",
          "EXFACTORY | AXE32058",
          "EXFACTORY | AXE31837",
          "EXFACTORY | AXE31094",
          "EXFACTORY | AXE31968",
          "EXFACTORY | AXE32868",
          "EXFACTORY | AXE32821",
          "EXFACTORY | AXE31760",
          "EXFACTORY | AXE32042",
          "EXFACTORY | AXE32283",
          "EXFACTORY | AXE20428",
          "EXFACTORY | AXE33112",
          "EXFACTORY | AXE28227",
          "EXFACTORY | AXE31895",
          "EXFACTORY | AXE31026",
          "EXFACTORY | AXE31544",
          "EXFACTORY | AXE31955",
          "EXFACTORY | AXE31315",
          "EXFACTORY | AXE30712",
          "EXFACTORY | AXE31653",
          "EXFACTORY | AXE32964",
          "EXFACTORY | AXE32066",
          "EXFACTORY | AXE33662",
          "EXFACTORY | AXE32284",
          "EXFACTORY | AXE33342",
          "EXFACTORY | AXE33444",
          "EXFACTORY | AXE31156",
          "EXFACTORY | AXE23298",
          "EXFACTORY | AXE31100",
          "EXFACTORY | AXE31408",
          "EXFACTORY | AXE32924",
          "EXFACTORY | AXE32803",
          "EXFACTORY | AXE30915",
          "EXFACTORY | AXE31134",
          "EXFACTORY | AXE31172",
          "EXFACTORY | AXE31102",
          "EXFACTORY | AXE31319",
          "EXFACTORY | AXE32459",
          "EXFACTORY | AXE31627",
          "EXFACTORY | AXE33282",
          "EXFACTORY | AXE31547",
          "EXFACTORY | AXE32254",
          "EXFACTORY | AXE31647",
          "EXFACTORY | AXE30713",
          "EXFACTORY | AXE32564",
          "EXFACTORY | AXE32242",
          "EXFACTORY | AXE31208",
          "EXFACTORY | AXE32700",
          "EXFACTORY | AXE32800",
          "EXFACTORY | AXE30708",
          "EXFACTORY | AXE30901",
          "EXFACTORY | AXE31096",
          "EXFACTORY | AXE31191",
          "EXFACTORY | AXE30749",
          "EXFACTORY | AXE32279",
          "EXFACTORY | AXE31587",
          "EXFACTORY | AXE32983",
          "EXFACTORY | AXE32130",
          "EXFACTORY | AXE32477",
          "EXFACTORY | AXE29484",
          "EXFACTORY | AXE32758",
          "EXFACTORY | AXE30859",
          "EXFACTORY | AXE30942",
          "EXFACTORY | AXE31616",
          "EXFACTORY | AXE30836",
          "EXFACTORY | AXE31419",
          "EXFACTORY | AXE31790",
          "EXFACTORY | AXE32662",
          "EXFACTORY | AXE31894",
          "EXFACTORY | AXE32810",
          "EXFACTORY | AXE33074",
          "EXFACTORY | AXE31014",
          "EXFACTORY | AXE31187",
          "EXFACTORY | AXE30148",
          "EXFACTORY | AXE32364",
          "EXFACTORY | AXE32055",
          "EXFACTORY | AXE33162",
          "EXFACTORY | AXE31893",
          "EXFACTORY | AXE31289",
          "EXFACTORY | AXE31529",
          "EXFACTORY | AXE31742",
          "EXFACTORY | AXE30931",
          "EXFACTORY | AXE32489",
          "EXFACTORY | AXE30747",
          "EXFACTORY | AXE33222",
          "EXFACTORY | AXE32551",
          "EXFACTORY | AXE32320",
          "EXFACTORY | AXE30719",
          "EXFACTORY | AXE33166",
          "EXFACTORY | AXE33002",
          "EXFACTORY | AXE30906",
          "EXFACTORY | AXE31395",
          "EXFACTORY | AXE31460",
          "EXFACTORY | AXE32141",
          "EXFACTORY | AXE31981",
          "EXFACTORY | AXE33016",
          "EXFACTORY | AXE31126",
          "EXFACTORY | AX18742",
          "EXFACTORY | AXE33115",
          "EXFACTORY | AXE31383",
          "EXFACTORY | AX18761",
          "EXFACTORY | AXE32836",
          "EXFACTORY | AXE31083",
          "EXFACTORY | AXE32371",
          "EXFACTORY | AXE33301",
          "EXFACTORY | AXE30980",
          "EXFACTORY | AXE32985",
          "EXFACTORY | AXE31171",
          "EXFACTORY | AXE32721",
          "EXFACTORY | AXE33299",
          "EXFACTORY | AXE30869",
          "EXFACTORY | AXE31193",
          "EXFACTORY | AXE30926",
          "EXFACTORY | AXE33125",
          "EXFACTORY | AXE32295",
          "EXFACTORY | AXE30904",
          "EXFACTORY | AXE32123",
          "EXFACTORY | AXE32566",
          "EXFACTORY | AXE32493",
          "EXFACTORY | AXE31859",
          "EXFACTORY | AXE32247",
          "EXFACTORY | AXE31166",
          "EXFACTORY | AXE33091",
          "EXFACTORY | AXE32240",
          "EXFACTORY | AXE33557",
          "EXFACTORY | AXE32103",
          "EXFACTORY | AXE32874",
          "EXFACTORY | AXE29248",
          "EXFACTORY | AXE32332",
          "EXFACTORY | AXE33164",
          "EXFACTORY | AXE31352",
          "EXFACTORY | AXE31133",
          "EXFACTORY | AXE30905",
          "EXFACTORY | AXE30998",
          "EXFACTORY | AXE31585",
          "EXFACTORY | AXE32841",
          "EXFACTORY | AXE32661",
          "EXFACTORY | AXE31167",
          "EXFACTORY | AXE31112",
          "EXFACTORY | AXE32436",
          "EXFACTORY | AXE33090",
          "EXFACTORY | AXE31474",
          "EXFACTORY | AXE32478",
          "EXFACTORY | AXE31210",
          "EXFACTORY | AXE31726",
          "EXFACTORY | AXE32934",
          "EXFACTORY | AXE32260",
          "EXFACTORY | AXE32052",
          "EXFACTORY | AXE29488",
          "EXFACTORY | AXE31216",
          "EXFACTORY | AXE30844",
          "EXFACTORY | AXE32943",
          "EXFACTORY | AXE32817",
          "EXFACTORY | AXE33582",
          "EXFACTORY | AXE29297",
          "EXFACTORY | AXE31416",
          "EXFACTORY | AXE32726",
          "EXFACTORY | AXE32483",
          "EXFACTORY | AXE32733",
          "EXFACTORY | AXE33072",
          "EXFACTORY | AXE32406",
          "EXFACTORY | AXE32861",
          "EXFACTORY | AXE33108",
          "EXFACTORY | AXE31838",
          "EXFACTORY | AXE32059",
          "EXFACTORY | AX18759",
          "EXFACTORY | AXE30889",
          "EXFACTORY | AXE33118",
          "EXFACTORY | AXE33558",
          "EXFACTORY | AXE32822",
          "EXFACTORY | AXE32003",
          "EXFACTORY | AXE30721",
          "EXFACTORY | AXE30740",
          "EXFACTORY | AXE33154",
          "EXFACTORY | AXE31349",
          "EXFACTORY | AXE31582",
          "EXFACTORY | AXE32925",
          "EXFACTORY | AXE32072",
          "EXFACTORY | AXE33442",
          "EXFACTORY | AXE32830",
          "EXFACTORY | AXE32261",
          "EXFACTORY | AXE33341",
          "EXFACTORY | AXE32751",
          "EXFACTORY | AXE33424",
          "EXFACTORY | AXE32157",
          "EXFACTORY | AXE32734",
          "EXFACTORY | AXE33136",
          "EXFACTORY | AXE32746",
          "EXFACTORY | AXE33160",
          "EXFACTORY | AXE31984",
          "EXFACTORY | AXE32400",
          "EXFACTORY | AXE32148",
          "EXFACTORY | AXE31430",
          "EXFACTORY | AXE32847",
          "EXFACTORY | AXE32109",
          "EXFACTORY | AXE22865",
          "EXFACTORY | AXE29460",
          "EXFACTORY | AXE32153",
          "EXFACTORY | AXE31841",
          "EXFACTORY | AXE30623",
          "EXFACTORY | AXE33110",
          "EXFACTORY | AXE33360",
          "EXFACTORY | AXE33079",
          "EXFACTORY | AXE27043",
          "EXFACTORY | AXE33035",
          "EXFACTORY | AXE31426",
          "EXFACTORY | AXE30830",
          "EXFACTORY | AXE33653",
          "EXFACTORY | AXE30742",
          "EXFACTORY | AXE31680",
          "EXFACTORY | AXE33069",
          "EXFACTORY | AXE31991",
          "EXFACTORY | AXE32360",
          "EXFACTORY | AXE30875",
          "EXFACTORY | AXE31309",
          "EXFACTORY | AXE32929",
          "EXFACTORY | AXE32977",
          "EXFACTORY | AXE31977",
          "EXFACTORY | AX18786",
          "EXFACTORY | AXE32930",
          "EXFACTORY | AXE30932",
          "EXFACTORY | AXE31203",
          "EXFACTORY | AXE32331",
          "EXFACTORY | AXE33590",
          "EXFACTORY | AXE31722",
          "EXFACTORY | AXE30752",
          "EXFACTORY | AXE31966",
          "EXFACTORY | AXE30369",
          "EXFACTORY | AX18790",
          "EXFACTORY | AXE28438",
          "EXFACTORY | AXE30843",
          "EXFACTORY | AXE31285",
          "EXFACTORY | AXE31353",
          "EXFACTORY | AX18806",
          "EXFACTORY | AXE33650",
          "EXFACTORY | AXE32781",
          "EXFACTORY | AXE32401",
          "EXFACTORY | AXE32991",
          "EXFACTORY | AXE33061",
          "EXFACTORY | AXE31142",
          "EXFACTORY | AXE31845",
          "EXFACTORY | AXE31036",
          "EXFACTORY | AXE31592",
          "EXFACTORY | AXE31995",
          "EXFACTORY | AXE32060",
          "EXFACTORY | AXE30991",
          "EXFACTORY | AXE33453",
          "EXFACTORY | AXE31739",
          "EXFACTORY | AXE32634",
          "EXFACTORY | AXE31988",
          "EXFACTORY | AXE32660",
          "EXFACTORY | AXE29766",
          "EXFACTORY | AXE30946",
          "EXFACTORY | AXE33014",
          "EXFACTORY | AXE32831",
          "EXFACTORY | AXE28440",
          "EXFACTORY | AXE31534",
          "EXFACTORY | AXE32081",
          "EXFACTORY | AXE33367",
          "EXFACTORY | AXE31798",
          "EXFACTORY | AXE30853",
          "EXFACTORY | AXE31603",
          "EXFACTORY | AXE30770",
          "EXFACTORY | AXE31857",
          "EXFACTORY | AXE32997",
          "EXFACTORY | AXE33645",
          "EXFACTORY | AXE31942",
          "EXFACTORY | AXE30866",
          "EXFACTORY | AXE30809",
          "EXFACTORY | AXE33056",
          "EXFACTORY | AXE32835",
          "EXFACTORY | AXE32757",
          "EXFACTORY | AXE31892",
          "EXFACTORY | AXE33290",
          "EXFACTORY | AXE31615",
          "EXFACTORY | AXE32079",
          "EXFACTORY | AXE15923",
          "EXFACTORY | AXE32645",
          "EXFACTORY | AXE32051",
          "EXFACTORY | AXE33015",
          "EXFACTORY | AXE31588",
          "EXFACTORY | AXE29913",
          "EXFACTORY | AXE31168",
          "EXFACTORY | AXE31113",
          "EXFACTORY | AX18741",
          "EXFACTORY | AXE32367",
          "EXFACTORY | AX18818",
          "EXFACTORY | AXE30880",
          "EXFACTORY | AXE33058",
          "EXFACTORY | AXE30715",
          "EXFACTORY | AXE33545",
          "EXFACTORY | AXE32819",
          "EXFACTORY | AXE33356",
          "EXFACTORY | AXE22183",
          "EXFACTORY | AXE30923",
          "EXFACTORY | AXE31204",
          "EXFACTORY | AXE32056",
          "EXFACTORY | AXE32920",
          "EXFACTORY | AXE31449",
          "EXFACTORY | AXE30886",
          "EXFACTORY | AXE33045",
          "EXFACTORY | AXE31176",
          "EXFACTORY | AXE31322",
          "EXFACTORY | AXE31888",
          "EXFACTORY | AXE31021",
          "EXFACTORY | AXE31782",
          "EXFACTORY | AXE32957",
          "EXFACTORY | AXE33522",
          "EXFACTORY | AXE31556",
          "EXFACTORY | AXE31950",
          "EXFACTORY | AXE30970",
          "EXFACTORY | AX18779",
          "EXFACTORY | AXE17338",
          "EXFACTORY | AXE32334",
          "EXFACTORY | AXE33082",
          "EXFACTORY | AXE32956",
          "EXFACTORY | AXE31503",
          "EXFACTORY | AXE30811",
          "EXFACTORY | AXE33659",
          "EXFACTORY | AXE32420",
          "EXFACTORY | AX18780",
          "EXFACTORY | AXE33459",
          "EXFACTORY | AXE32030",
          "EXFACTORY | AXE30849",
          "EXFACTORY | AXE33005",
          "EXFACTORY | AXE33292",
          "EXFACTORY | AXE30929",
          "EXFACTORY | AXE32980",
          "EXFACTORY | AXE30717",
          "EXFACTORY | AXE33385",
          "EXFACTORY | AXE32745",
          "EXFACTORY | AX18804",
          "EXFACTORY | AXE33544",
          "EXFACTORY | AXE31443",
          "EXFACTORY | AXE30864",
          "EXFACTORY | AXE31905",
          "EXFACTORY | AXE30884",
          "EXFACTORY | AXE30716",
          "EXFACTORY | AXE31305",
          "EXFACTORY | AXE31391",
          "EXFACTORY | AXE33663",
          "EXFACTORY | AXE33291",
          "EXFACTORY | AXE30720",
          "EXFACTORY | AXE30877",
          "EXFACTORY | AXE33293",
          "EXFACTORY | AXE31251",
          "EXFACTORY | AXE30857",
          "EXFACTORY | AXE32782",
          "EXFACTORY | AXE32009",
          "EXFACTORY | AXE33355",
          "EXFACTORY | AXE31768",
          "EXFACTORY | AXE32672",
          "EXFACTORY | AXE31738",
          "EXFACTORY | AXE33030",
          "EXFACTORY | AXE33539",
          "EXFACTORY | AXE31708",
          "EXFACTORY | AXE30777",
          "EXFACTORY | AXE33068",
          "EXFACTORY | AXE32837",
          "EXFACTORY | AXE31451",
          "EXFACTORY | AXE31456",
          "EXFACTORY | AXE32282",
          "EXFACTORY | AXE31428",
          "EXFACTORY | AXE31831",
          "EXFACTORY | AXE24394",
          "EXFACTORY | AXE32396",
          "EXFACTORY | AXE31719",
          "EXFACTORY | AXE31607",
          "EXFACTORY | AXE32754",
          "EXFACTORY | AXE33223",
          "EXFACTORY | AXE32418",
          "EXFACTORY | AXE31946",
          "EXFACTORY | AXE31018",
          "EXFACTORY | AXE33144",
          "EXFACTORY | AXE30945",
          "EXFACTORY | AXE33462",
          "EXFACTORY | AXE02104",
          "EXFACTORY | AXE28467",
          "EXFACTORY | AX18807",
          "EXFACTORY | AXE29765",
          "EXFACTORY | AXE31785",
          "EXFACTORY | AXE31218",
          "EXFACTORY | AXE30327",
          "EXFACTORY | AXE31999",
          "EXFACTORY | AXE31887",
          "EXFACTORY | AXE31397",
          "EXFACTORY | AXE33111",
          "EXFACTORY | AXE33080",
          "EXFACTORY | AXE24199",
          "EXFACTORY | AXE32262",
          "EXFACTORY | AXE32555",
          "EXFACTORY | AXE32552",
          "EXFACTORY | AXE30832",
          "EXFACTORY | AXE33104",
          "EXFACTORY | AXE33089",
          "EXFACTORY | AXE31299",
          "EXFACTORY | AXE32736",
          "EXFACTORY | AXE33349",
          "EXFACTORY | AXE33107",
          "EXFACTORY | AXE30453",
          "EXFACTORY | AXE31608",
          "EXFACTORY | AXE31179",
          "EXFACTORY | AXE31772",
          "EXFACTORY | AXE33584",
          "EXFACTORY | AXE32379",
          "EXFACTORY | AXE29834",
          "EXFACTORY | AXE32407",
          "EXFACTORY | AXE33489",
          "EXFACTORY | AXE32981",
          "EXFACTORY | AXE31202",
          "EXFACTORY | AXE32636",
          "EXFACTORY | AXE32444",
          "EXFACTORY | AXE31257",
          "EXFACTORY | AXE31429",
          "EXFACTORY | AXE30965",
          "EXFACTORY | AXE31119",
          "EXFACTORY | AXE31606",
          "EXFACTORY | AXE33031",
          "EXFACTORY | AXE31354",
          "EXFACTORY | AXE32872",
          "EXFACTORY | AXE33059",
          "EXFACTORY | AXE32730",
          "EXFACTORY | AXE32970",
          "EXFACTORY | AXE31943",
          "EXFACTORY | AXE31293",
          "EXFACTORY | AXE30937",
          "EXFACTORY | AXE31838",
          "EXFACTORY | AXE33523",
          "EXFACTORY | AXE32002",
          "EXFACTORY | AXE30979",
          "EXFACTORY | AXE32078",
          "EXFACTORY | AXE30964",
          "EXFACTORY | AXE32016",
          "EXFACTORY | AXE31122",
          "EXFACTORY | AXE31317",
          "EXFACTORY | AXE28432",
          "EXFACTORY | AXE33339",
          "EXFACTORY | AXE31182",
          "EXFACTORY | AXE33173",
          "EXFACTORY | AXE33407",
          "EXFACTORY | AXE31098",
          "EXFACTORY | AXE31127",
          "EXFACTORY | AXE32725",
          "EXFACTORY | AXE32955",
          "EXFACTORY | AXE32853",
          "EXFACTORY | AXE32397",
          "EXFACTORY | AXE32482",
          "EXFACTORY | AXE30914",
          "EXFACTORY | AXE33400",
          "EXFACTORY | AXE31461",
          "EXFACTORY | AXE32159",
          "EXFACTORY | AXE33591",
          "EXFACTORY | AXE32380",
          "EXFACTORY | AXE31440",
          "EXFACTORY | AXE32125",
          "EXFACTORY | AXE31396",
          "EXFACTORY | AXE31993",
          "EXFACTORY | AXE31155",
          "EXFACTORY | AXE31998",
          "EXFACTORY | AXE31545",
          "EXFACTORY | AXE31978",
          "EXFACTORY | AXE31822",
          "EXFACTORY | AXE31553",
          "EXFACTORY | AXE31124",
          "EXFACTORY | AXE33541",
          "EXFACTORY | AXE32978",
          "EXFACTORY | AXE31579",
          "EXFACTORY | AXE33651",
          "EXFACTORY | AXE32287",
          "EXFACTORY | AXE30881",
          "EXFACTORY | AXE33087",
          "EXFACTORY | AXE29317",
          "EXFACTORY | AXE31147",
          "EXFACTORY | AXE32740",
          "EXFACTORY | AXE28429",
          "EXFACTORY | AXE31186",
          "EXFACTORY | AXE31686",
          "EXFACTORY | AXE30867",
          "EXFACTORY | AXE31646",
          "EXFACTORY | AXE31524",
          "EXFACTORY | AXE31180",
          "EXFACTORY | AXE32604",
          "EXFACTORY | AXE33364",
          "EXFACTORY | AXE32629",
          "EXFACTORY | AXE32080",
          "EXFACTORY | AXE32484",
          "EXFACTORY | AXE30935",
          "EXFACTORY | AXE32880",
          "EXFACTORY | AXE32780",
          "EXFACTORY | AXE33440",
          "EXFACTORY | AXE31241",
          "EXFACTORY | AXE26896",
          "EXFACTORY | AX18760",
          "EXFACTORY | AXE32494",
          "EXFACTORY | AXE31858",
          "EXFACTORY | AXE33655",
          "EXFACTORY | AXE32377",
          "EXFACTORY | AXE32243",
          "EXFACTORY | AXE33287",
          "EXFACTORY | AXE31255",
          "EXFACTORY | AXE32252",
          "EXFACTORY | AXE32753",
          "EXFACTORY | AXE31473",
          "EXFACTORY | AXE32441",
          "EXFACTORY | AXE32381",
          "EXFACTORY | AXE30766",
          "EXFACTORY | AXE31087",
          "EXFACTORY | AXE30865",
          "EXFACTORY | AXE26785",
          "EXFACTORY | AX18817",
          "EXFACTORY | AXE30705",
          "EXFACTORY | AXE32010",
          "EXFACTORY | AXE32068",
          "EXFACTORY | AXE31201",
          "EXFACTORY | AXE30801",
          "EXFACTORY | AXE33303",
          "EXFACTORY | AXE31594",
          "EXFACTORY | AXE31856",
          "EXFACTORY | AXE30750",
          "EXFACTORY | AXE33152",
          "EXFACTORY | AXE30862",
          "EXFACTORY | AXE32093",
          "EXFACTORY | AXE31732",
          "EXFACTORY | AXE30887",
          "EXFACTORY | AXE32324",
          "EXFACTORY | AXE32246",
          "EXFACTORY | AXE31457",
          "EXFACTORY | AXE30831",
          "EXFACTORY | AXE31152",
          "EXFACTORY | AXE30941",
          "EXFACTORY | AXE33155",
          "EXFACTORY | AXE30927",
          "EXFACTORY | AXE32520",
          "EXFACTORY | AXE33480",
          "EXFACTORY | AXE30958",
          "EXFACTORY | AXE33410",
          "EXFACTORY | AXE31853",
          "EXFACTORY | AXE30885",
          "EXFACTORY | AXE33131",
          "EXFACTORY | AX18787",
          "EXFACTORY | AXE31380",
          "EXFACTORY | AXE32433",
          "EXFACTORY | AXE31784",
          "EXFACTORY | AXE31764",
          "EXFACTORY | AXE32923",
          "EXFACTORY | AXE31622",
          "EXFACTORY | AXE32823",
          "EXFACTORY | AXE32763",
          "EXFACTORY | AXE30735",
          "EXFACTORY | AXE30842",
          "EXFACTORY | AXE32135",
          "EXFACTORY | AXE31645",
          "EXFACTORY | AXE33047",
          "EXFACTORY | AXE33399",
          "EXFACTORY | AXE31414",
          "EXFACTORY | AXE30496",
          "EXFACTORY | AXE31283",
          "EXFACTORY | AXE32834",
          "EXFACTORY | AXE31120",
          "EXFACTORY | AXE30778",
          "EXFACTORY | AXE33482",
          "EXFACTORY | AXE32415",
          "EXFACTORY | AXE32438",
          "EXFACTORY | AXE30756",
          "EXFACTORY | AXE33455",
          "EXFACTORY | AXE33658",
          "EXFACTORY | AXE24428",
          "EXFACTORY | AXE30878",
          "EXFACTORY | AXE33521",
          "EXFACTORY | AXE30751",
          "EXFACTORY | AXE32750",
          "EXFACTORY | AXE32827",
          "EXFACTORY | AXE32105",
          "EXFACTORY | AXE31101",
          "EXFACTORY | AXE31350",
          "EXFACTORY | AXE33365",
          "EXFACTORY | AXE30722",
          "EXFACTORY | AXE23770",
          "EXFACTORY | AXE30723",
          "EXFACTORY | AXE31121",
          "EXFACTORY | AXE31025",
          "EXFACTORY | AXE33446",
          "EXFACTORY | AXE32041",
          "EXFACTORY | AXE33358",
          "EXFACTORY | AXE31215",
          "EXFACTORY | AXE30956",
          "EXFACTORY | AXE32143",
          "EXFACTORY | AXE31239",
          "EXFACTORY | AXE33402",
          "EXFACTORY | AXE31199",
          "EXFACTORY | AXE31084",
          "EXFACTORY | AXE32879",
          "EXFACTORY | AX18816",
          "EXFACTORY | AXE31448",
          "EXFACTORY | AXE32251",
          "EXFACTORY | AXE33032",
          "EXFACTORY | AXE32609",
          "EXFACTORY | AX18773",
          "EXFACTORY | AXE31301",
          "EXFACTORY | AXE30499",
          "EXFACTORY | AXE32675",
          "EXFACTORY | AXE31032",
          "EXFACTORY | AXE33386",
          "EXFACTORY | AXE26546",
          "EXFACTORY | AXE30910",
          "EXFACTORY | AXE33592",
          "EXFACTORY | AXE31392",
          "EXFACTORY | AXE32826",
          "EXFACTORY | AXE30739",
          "EXFACTORY | AXE33010",
          "EXFACTORY | AXE33050",
          "EXFACTORY | AXE31792",
          "EXFACTORY | AXE30733",
          "EXFACTORY | AXE30783",
          "EXFACTORY | AXE31780",
          "EXFACTORY | AX18788",
          "EXFACTORY | AXE29639",
          "EXFACTORY | AXE30909",
          "EXFACTORY | AXE30807",
          "EXFACTORY | AXE31287",
          "EXFACTORY | AXE32296",
          "EXFACTORY | AXE31297",
          "EXFACTORY | AXE30984",
          "EXFACTORY | AXE33088",
          "EXFACTORY | AXE33345",
          "EXFACTORY | AXE33075",
          "EXFACTORY | AXE32368",
          "EXFACTORY | AXE31789",
          "EXFACTORY | AXE31406",
          "EXFACTORY | AXE32430",
          "EXFACTORY | AXE31909",
          "EXFACTORY | AXE31825",
          "EXFACTORY | AXE30381",
          "EXFACTORY | AXE31123",
          "EXFACTORY | AXE31186",
          "EXFACTORY | AXE32747",
          "EXFACTORY | AXE31214",
          "EXFACTORY | AXE31189",
          "EXFACTORY | AXE33065",
          "EXFACTORY | AXE30881",
          "EXFACTORY | AXE30823",
          "EXFACTORY | AXE32722",
          "EXFACTORY | AXE32183",
          "EXFACTORY | AXE33543",
          "EXFACTORY | AXE11609",
          "EXFACTORY | AXE32942",
          "EXFACTORY | AXE01160",
          "EXFACTORY | AXE31019",
          "EXFACTORY | AXE30776",
          "EXFACTORY | AXE32012",
          "EXFACTORY | AXE32442",
          "EXFACTORY | AXE31472",
          "EXFACTORY | AXE30955",
          "EXFACTORY | AXE32664",
          "EXFACTORY | AXE31501",
          "EXFACTORY | AXE31303",
          "EXFACTORY | AXE32076",
          "EXFACTORY | AXE31551",
          "EXFACTORY | AXE33066",
          "EXFACTORY | AXE32053",
          "EXFACTORY | AXE31711",
          "EXFACTORY | AXE32639",
          "EXFACTORY | AXE31388",
          "EXFACTORY | AXE30841",
          "EXFACTORY | AXE32047",
          "EXFACTORY | AXE33644",
          "EXFACTORY | AXE33450",
          "EXFACTORY | AXE30840",
          "EXFACTORY | AXE30347",
          "EXFACTORY | AXE30876",
          "EXFACTORY | AXE32486",
          "EXFACTORY | AXE33027",
          "EXFACTORY | AXE31736",
          "EXFACTORY | AXE32948",
          "EXFACTORY | AXE30921",
          "EXFACTORY | AXE31409",
          "EXFACTORY | AXE31138",
          "EXFACTORY | AXE31316",
          "EXFACTORY | AXE32988",
          "EXFACTORY | AXE31321",
          "EXFACTORY | AXE32427",
          "EXFACTORY | AXE32719",
          "EXFACTORY | AXE31439",
          "EXFACTORY | AXE33560",
          "EXFACTORY | AXE31256",
          "EXFACTORY | AXE14757",
          "EXFACTORY | AXE31196",
          "EXFACTORY | AXE31531",
          "EXFACTORY | AXE32127",
          "EXFACTORY | AXE31839",
          "EXFACTORY | AXE31515",
          "EXFACTORY | AXE30768",
          "EXFACTORY | AXE30779",
          "EXFACTORY | AXE31095",
          "EXFACTORY | AXE30781",
          "EXFACTORY | AXE31959",
          "EXFACTORY | AXE31192",
          "EXFACTORY | AXE31296",
          "EXFACTORY | AXE33055",
          "EXFACTORY | AXE33433",
          "EXFACTORY | AX18777",
          "EXFACTORY | AXE33141",
          "EXFACTORY | AXE32990",
          "EXFACTORY | AXE30754",
          "EXFACTORY | AXE32131",
          "EXFACTORY | AXE29899",
          "EXFACTORY | AXE30868",
          "EXFACTORY | AXE31586",
          "EXFACTORY | AXE30848",
          "EXFACTORY | AXE31188",
          "EXFACTORY | AXE30748",
          "EXFACTORY | AXE31599",
          "EXFACTORY | AXE30968",
          "EXFACTORY | AXE32582",
          "EXFACTORY | AXE32128",
          "EXFACTORY | AXE31776",
          "EXFACTORY | AXE33481",
          "EXFACTORY | AXE31897",
          "EXFACTORY | AXE31111",
          "EXFACTORY | AXE32492",
          "EXFACTORY | AXE31651",
          "EXFACTORY | AXE30731",
          "EXFACTORY | AXE31105",
          "EXFACTORY | AXE32019",
          "EXFACTORY | AXE32720",
          "EXFACTORY | AXE32632",
          "EXFACTORY | AXE32330",
          "EXFACTORY | AXE32565",
          "EXFACTORY | AXE31314",
          "EXFACTORY | AXE32947",
          "EXFACTORY | AXE31170",
          "EXFACTORY | AXE30833",
          "EXFACTORY | AXE27179",
          "EXFACTORY | AXE32933",
          "EXFACTORY | AXE33099",
          "EXFACTORY | AXE31965",
          "EXFACTORY | AXE30855",
          "EXFACTORY | AXE31088",
          "EXFACTORY | AXE31360",
          "EXFACTORY | AXE26066",
          "EXFACTORY | AXE32640",
          "EXFACTORY | AXE33157",
          "EXFACTORY | AXE31997",
          "EXFACTORY | AXE32437",
          "EXFACTORY | AXE32099",
          "EXFACTORY | AXE33048",
          "EXFACTORY | AXE24430",
          "EXFACTORY | AXE33117",
          "EXFACTORY | AXE32644",
          "EXFACTORY | AXE32343",
          "EXFACTORY | AXE30962",
          "EXFACTORY | AXE32601",
          "EXFACTORY | AXE32476",
          "EXFACTORY | AXE32833",
          "EXFACTORY | AXE33519",
          "EXFACTORY | AXE31447",
          "EXFACTORY | AXE32960",
          "EXFACTORY | AXE32519",
          "EXFACTORY | AX18805",
          "EXFACTORY | AXE32327",
          "EXFACTORY | AXE33102",
          "EXFACTORY | AXE33159",
          "EXFACTORY | AXE31227",
          "EXFACTORY | AXE31979",
          "EXFACTORY | AXE33641",
          "EXFACTORY | AXE31194",
          "EXFACTORY | AXE31963",
          "EXFACTORY | AXE31422",
          "EXFACTORY | AXE32873",
          "EXFACTORY | AXE31469",
          "EXFACTORY | AXE31703",
          "EXFACTORY | AXE32557",
          "EXFACTORY | AXE31298",
          "EXFACTORY | AXE32488",
          "EXFACTORY | AXE32162",
          "EXFACTORY | AXE31200",
          "EXFACTORY | AXE32851",
          "EXFACTORY | AXE31415",
          "EXFACTORY | AXE31446",
          "EXFACTORY | AXE33020",
          "EXFACTORY | AXE30957",
          "EXFACTORY | AXE33040",
          "EXFACTORY | AXE31154",
          "EXFACTORY | AXE30711",
          "EXFACTORY | AXE33660",
          "EXFACTORY | AXE26784"
         ],
         "xaxis": "x",
         "yaxis": "y"
        }
       ],
       "layout": {
        "barmode": "overlay",
        "legend": {
         "title": {
          "text": "Source"
         },
         "tracegroupgap": 0
        },
        "margin": {
         "t": 60
        },
        "template": {
         "data": {
          "bar": [
           {
            "error_x": {
             "color": "#2a3f5f"
            },
            "error_y": {
             "color": "#2a3f5f"
            },
            "marker": {
             "line": {
              "color": "#E5ECF6",
              "width": 0.5
             },
             "pattern": {
              "fillmode": "overlay",
              "size": 10,
              "solidity": 0.2
             }
            },
            "type": "bar"
           }
          ],
          "barpolar": [
           {
            "marker": {
             "line": {
              "color": "#E5ECF6",
              "width": 0.5
             },
             "pattern": {
              "fillmode": "overlay",
              "size": 10,
              "solidity": 0.2
             }
            },
            "type": "barpolar"
           }
          ],
          "carpet": [
           {
            "aaxis": {
             "endlinecolor": "#2a3f5f",
             "gridcolor": "white",
             "linecolor": "white",
             "minorgridcolor": "white",
             "startlinecolor": "#2a3f5f"
            },
            "baxis": {
             "endlinecolor": "#2a3f5f",
             "gridcolor": "white",
             "linecolor": "white",
             "minorgridcolor": "white",
             "startlinecolor": "#2a3f5f"
            },
            "type": "carpet"
           }
          ],
          "choropleth": [
           {
            "colorbar": {
             "outlinewidth": 0,
             "ticks": ""
            },
            "type": "choropleth"
           }
          ],
          "contour": [
           {
            "colorbar": {
             "outlinewidth": 0,
             "ticks": ""
            },
            "colorscale": [
             [
              0,
              "#0d0887"
             ],
             [
              0.1111111111111111,
              "#46039f"
             ],
             [
              0.2222222222222222,
              "#7201a8"
             ],
             [
              0.3333333333333333,
              "#9c179e"
             ],
             [
              0.4444444444444444,
              "#bd3786"
             ],
             [
              0.5555555555555556,
              "#d8576b"
             ],
             [
              0.6666666666666666,
              "#ed7953"
             ],
             [
              0.7777777777777778,
              "#fb9f3a"
             ],
             [
              0.8888888888888888,
              "#fdca26"
             ],
             [
              1,
              "#f0f921"
             ]
            ],
            "type": "contour"
           }
          ],
          "contourcarpet": [
           {
            "colorbar": {
             "outlinewidth": 0,
             "ticks": ""
            },
            "type": "contourcarpet"
           }
          ],
          "heatmap": [
           {
            "colorbar": {
             "outlinewidth": 0,
             "ticks": ""
            },
            "colorscale": [
             [
              0,
              "#0d0887"
             ],
             [
              0.1111111111111111,
              "#46039f"
             ],
             [
              0.2222222222222222,
              "#7201a8"
             ],
             [
              0.3333333333333333,
              "#9c179e"
             ],
             [
              0.4444444444444444,
              "#bd3786"
             ],
             [
              0.5555555555555556,
              "#d8576b"
             ],
             [
              0.6666666666666666,
              "#ed7953"
             ],
             [
              0.7777777777777778,
              "#fb9f3a"
             ],
             [
              0.8888888888888888,
              "#fdca26"
             ],
             [
              1,
              "#f0f921"
             ]
            ],
            "type": "heatmap"
           }
          ],
          "heatmapgl": [
           {
            "colorbar": {
             "outlinewidth": 0,
             "ticks": ""
            },
            "colorscale": [
             [
              0,
              "#0d0887"
             ],
             [
              0.1111111111111111,
              "#46039f"
             ],
             [
              0.2222222222222222,
              "#7201a8"
             ],
             [
              0.3333333333333333,
              "#9c179e"
             ],
             [
              0.4444444444444444,
              "#bd3786"
             ],
             [
              0.5555555555555556,
              "#d8576b"
             ],
             [
              0.6666666666666666,
              "#ed7953"
             ],
             [
              0.7777777777777778,
              "#fb9f3a"
             ],
             [
              0.8888888888888888,
              "#fdca26"
             ],
             [
              1,
              "#f0f921"
             ]
            ],
            "type": "heatmapgl"
           }
          ],
          "histogram": [
           {
            "marker": {
             "pattern": {
              "fillmode": "overlay",
              "size": 10,
              "solidity": 0.2
             }
            },
            "type": "histogram"
           }
          ],
          "histogram2d": [
           {
            "colorbar": {
             "outlinewidth": 0,
             "ticks": ""
            },
            "colorscale": [
             [
              0,
              "#0d0887"
             ],
             [
              0.1111111111111111,
              "#46039f"
             ],
             [
              0.2222222222222222,
              "#7201a8"
             ],
             [
              0.3333333333333333,
              "#9c179e"
             ],
             [
              0.4444444444444444,
              "#bd3786"
             ],
             [
              0.5555555555555556,
              "#d8576b"
             ],
             [
              0.6666666666666666,
              "#ed7953"
             ],
             [
              0.7777777777777778,
              "#fb9f3a"
             ],
             [
              0.8888888888888888,
              "#fdca26"
             ],
             [
              1,
              "#f0f921"
             ]
            ],
            "type": "histogram2d"
           }
          ],
          "histogram2dcontour": [
           {
            "colorbar": {
             "outlinewidth": 0,
             "ticks": ""
            },
            "colorscale": [
             [
              0,
              "#0d0887"
             ],
             [
              0.1111111111111111,
              "#46039f"
             ],
             [
              0.2222222222222222,
              "#7201a8"
             ],
             [
              0.3333333333333333,
              "#9c179e"
             ],
             [
              0.4444444444444444,
              "#bd3786"
             ],
             [
              0.5555555555555556,
              "#d8576b"
             ],
             [
              0.6666666666666666,
              "#ed7953"
             ],
             [
              0.7777777777777778,
              "#fb9f3a"
             ],
             [
              0.8888888888888888,
              "#fdca26"
             ],
             [
              1,
              "#f0f921"
             ]
            ],
            "type": "histogram2dcontour"
           }
          ],
          "mesh3d": [
           {
            "colorbar": {
             "outlinewidth": 0,
             "ticks": ""
            },
            "type": "mesh3d"
           }
          ],
          "parcoords": [
           {
            "line": {
             "colorbar": {
              "outlinewidth": 0,
              "ticks": ""
             }
            },
            "type": "parcoords"
           }
          ],
          "pie": [
           {
            "automargin": true,
            "type": "pie"
           }
          ],
          "scatter": [
           {
            "fillpattern": {
             "fillmode": "overlay",
             "size": 10,
             "solidity": 0.2
            },
            "type": "scatter"
           }
          ],
          "scatter3d": [
           {
            "line": {
             "colorbar": {
              "outlinewidth": 0,
              "ticks": ""
             }
            },
            "marker": {
             "colorbar": {
              "outlinewidth": 0,
              "ticks": ""
             }
            },
            "type": "scatter3d"
           }
          ],
          "scattercarpet": [
           {
            "marker": {
             "colorbar": {
              "outlinewidth": 0,
              "ticks": ""
             }
            },
            "type": "scattercarpet"
           }
          ],
          "scattergeo": [
           {
            "marker": {
             "colorbar": {
              "outlinewidth": 0,
              "ticks": ""
             }
            },
            "type": "scattergeo"
           }
          ],
          "scattergl": [
           {
            "marker": {
             "colorbar": {
              "outlinewidth": 0,
              "ticks": ""
             }
            },
            "type": "scattergl"
           }
          ],
          "scattermapbox": [
           {
            "marker": {
             "colorbar": {
              "outlinewidth": 0,
              "ticks": ""
             }
            },
            "type": "scattermapbox"
           }
          ],
          "scatterpolar": [
           {
            "marker": {
             "colorbar": {
              "outlinewidth": 0,
              "ticks": ""
             }
            },
            "type": "scatterpolar"
           }
          ],
          "scatterpolargl": [
           {
            "marker": {
             "colorbar": {
              "outlinewidth": 0,
              "ticks": ""
             }
            },
            "type": "scatterpolargl"
           }
          ],
          "scatterternary": [
           {
            "marker": {
             "colorbar": {
              "outlinewidth": 0,
              "ticks": ""
             }
            },
            "type": "scatterternary"
           }
          ],
          "surface": [
           {
            "colorbar": {
             "outlinewidth": 0,
             "ticks": ""
            },
            "colorscale": [
             [
              0,
              "#0d0887"
             ],
             [
              0.1111111111111111,
              "#46039f"
             ],
             [
              0.2222222222222222,
              "#7201a8"
             ],
             [
              0.3333333333333333,
              "#9c179e"
             ],
             [
              0.4444444444444444,
              "#bd3786"
             ],
             [
              0.5555555555555556,
              "#d8576b"
             ],
             [
              0.6666666666666666,
              "#ed7953"
             ],
             [
              0.7777777777777778,
              "#fb9f3a"
             ],
             [
              0.8888888888888888,
              "#fdca26"
             ],
             [
              1,
              "#f0f921"
             ]
            ],
            "type": "surface"
           }
          ],
          "table": [
           {
            "cells": {
             "fill": {
              "color": "#EBF0F8"
             },
             "line": {
              "color": "white"
             }
            },
            "header": {
             "fill": {
              "color": "#C8D4E3"
             },
             "line": {
              "color": "white"
             }
            },
            "type": "table"
           }
          ]
         },
         "layout": {
          "annotationdefaults": {
           "arrowcolor": "#2a3f5f",
           "arrowhead": 0,
           "arrowwidth": 1
          },
          "autotypenumbers": "strict",
          "coloraxis": {
           "colorbar": {
            "outlinewidth": 0,
            "ticks": ""
           }
          },
          "colorscale": {
           "diverging": [
            [
             0,
             "#8e0152"
            ],
            [
             0.1,
             "#c51b7d"
            ],
            [
             0.2,
             "#de77ae"
            ],
            [
             0.3,
             "#f1b6da"
            ],
            [
             0.4,
             "#fde0ef"
            ],
            [
             0.5,
             "#f7f7f7"
            ],
            [
             0.6,
             "#e6f5d0"
            ],
            [
             0.7,
             "#b8e186"
            ],
            [
             0.8,
             "#7fbc41"
            ],
            [
             0.9,
             "#4d9221"
            ],
            [
             1,
             "#276419"
            ]
           ],
           "sequential": [
            [
             0,
             "#0d0887"
            ],
            [
             0.1111111111111111,
             "#46039f"
            ],
            [
             0.2222222222222222,
             "#7201a8"
            ],
            [
             0.3333333333333333,
             "#9c179e"
            ],
            [
             0.4444444444444444,
             "#bd3786"
            ],
            [
             0.5555555555555556,
             "#d8576b"
            ],
            [
             0.6666666666666666,
             "#ed7953"
            ],
            [
             0.7777777777777778,
             "#fb9f3a"
            ],
            [
             0.8888888888888888,
             "#fdca26"
            ],
            [
             1,
             "#f0f921"
            ]
           ],
           "sequentialminus": [
            [
             0,
             "#0d0887"
            ],
            [
             0.1111111111111111,
             "#46039f"
            ],
            [
             0.2222222222222222,
             "#7201a8"
            ],
            [
             0.3333333333333333,
             "#9c179e"
            ],
            [
             0.4444444444444444,
             "#bd3786"
            ],
            [
             0.5555555555555556,
             "#d8576b"
            ],
            [
             0.6666666666666666,
             "#ed7953"
            ],
            [
             0.7777777777777778,
             "#fb9f3a"
            ],
            [
             0.8888888888888888,
             "#fdca26"
            ],
            [
             1,
             "#f0f921"
            ]
           ]
          },
          "colorway": [
           "#636efa",
           "#EF553B",
           "#00cc96",
           "#ab63fa",
           "#FFA15A",
           "#19d3f3",
           "#FF6692",
           "#B6E880",
           "#FF97FF",
           "#FECB52"
          ],
          "font": {
           "color": "#2a3f5f"
          },
          "geo": {
           "bgcolor": "white",
           "lakecolor": "white",
           "landcolor": "#E5ECF6",
           "showlakes": true,
           "showland": true,
           "subunitcolor": "white"
          },
          "hoverlabel": {
           "align": "left"
          },
          "hovermode": "closest",
          "mapbox": {
           "style": "light"
          },
          "paper_bgcolor": "white",
          "plot_bgcolor": "#E5ECF6",
          "polar": {
           "angularaxis": {
            "gridcolor": "white",
            "linecolor": "white",
            "ticks": ""
           },
           "bgcolor": "#E5ECF6",
           "radialaxis": {
            "gridcolor": "white",
            "linecolor": "white",
            "ticks": ""
           }
          },
          "scene": {
           "xaxis": {
            "backgroundcolor": "#E5ECF6",
            "gridcolor": "white",
            "gridwidth": 2,
            "linecolor": "white",
            "showbackground": true,
            "ticks": "",
            "zerolinecolor": "white"
           },
           "yaxis": {
            "backgroundcolor": "#E5ECF6",
            "gridcolor": "white",
            "gridwidth": 2,
            "linecolor": "white",
            "showbackground": true,
            "ticks": "",
            "zerolinecolor": "white"
           },
           "zaxis": {
            "backgroundcolor": "#E5ECF6",
            "gridcolor": "white",
            "gridwidth": 2,
            "linecolor": "white",
            "showbackground": true,
            "ticks": "",
            "zerolinecolor": "white"
           }
          },
          "shapedefaults": {
           "line": {
            "color": "#2a3f5f"
           }
          },
          "ternary": {
           "aaxis": {
            "gridcolor": "white",
            "linecolor": "white",
            "ticks": ""
           },
           "baxis": {
            "gridcolor": "white",
            "linecolor": "white",
            "ticks": ""
           },
           "bgcolor": "#E5ECF6",
           "caxis": {
            "gridcolor": "white",
            "linecolor": "white",
            "ticks": ""
           }
          },
          "title": {
           "x": 0.05
          },
          "xaxis": {
           "automargin": true,
           "gridcolor": "white",
           "linecolor": "white",
           "ticks": "",
           "title": {
            "standoff": 15
           },
           "zerolinecolor": "white",
           "zerolinewidth": 2
          },
          "yaxis": {
           "automargin": true,
           "gridcolor": "white",
           "linecolor": "white",
           "ticks": "",
           "title": {
            "standoff": 15
           },
           "zerolinecolor": "white",
           "zerolinewidth": 2
          }
         }
        },
        "title": {
         "text": "Histogram of Unique Accounts by Source"
        },
        "xaxis": {
         "anchor": "y",
         "domain": [
          0,
          1
         ],
         "title": {
          "text": "Unique Accounts"
         }
        },
        "yaxis": {
         "anchor": "x",
         "domain": [
          0,
          1
         ],
         "title": {
          "text": "Count"
         }
        }
       }
      }
     },
     "metadata": {},
     "output_type": "display_data"
    }
   ],
   "source": [
    "# Create a histogram\n",
    "fig = px.histogram(combined_new_accounts,\n",
    "                   x='Q_ID',  # Assuming Q_ID_Num is a numerical representation of Q_ID\n",
    "                   color='Source',\n",
    "                   barmode='overlay',  # Group bars for different sources\n",
    "                   hover_data=combined_new_accounts.columns.tolist())\n",
    "\n",
    "fig.update_layout(\n",
    "    title='Histogram of Unique Accounts by Source',\n",
    "    xaxis_title='Unique Accounts',\n",
    "    yaxis_title='Count')\n",
    "\n",
    "fig.show()"
   ]
  },
  {
   "cell_type": "code",
   "execution_count": null,
   "metadata": {},
   "outputs": [],
   "source": [
    "#Create a current date and time suffix to add to end of file name\n",
    "current_datetime_suffix = datetime.now().strftime(\"%Y%m%d_%H%M%S\")\n",
    "\n",
    "# Save the new accounts to a excel file , with separate tabs for new accounts now found previously and accounts previously analyzed but having no associated SF_ID\n",
    "with pd.ExcelWriter(os.path.join(input2_base_path, subdirectory, f'New_account_analysis_TEST_{current_datetime_suffix}.xlsx')) as writer:\n",
    "    new_accounts.to_excel(writer, sheet_name='New Q_ID Accounts', index= False)\n",
    "    not_found_accounts.to_excel(writer, sheet_name= 'Previous Q_ID SF_ID Not Found', index=False)\n",
    "\n",
    "print('Analysis completed and  new accounts saved')"
   ]
  },
  {
   "cell_type": "markdown",
   "metadata": {},
   "source": [
    "### Save file to excel: Append to workbook with existing log of accounts"
   ]
  },
  {
   "cell_type": "code",
   "execution_count": 89,
   "metadata": {},
   "outputs": [],
   "source": [
    "# Assuming new_ExFactory_accounts and new_SpecDistr_accounts are your DataFrames\n",
    "# Comment out if you already Concatenated the two DataFrames : combined_new_accounts = pd.concat([new_ExFactory_accounts, new_SpecDistr_accounts], ignore_index=True)\n",
    "\n",
    "# Define the file name and the new sheet name\n",
    "file_name = r'C:\\Users\\beste\\OneDrive - Qral Group\\01 Narcan\\08 Mastering\\00 Logbook\\Customer Mastering LogBook v0.3.xlsx'\n",
    "new_sheet_name = 'New Accounts_1208'  # Name of the new sheet\n",
    "\n",
    "# Create a pandas Excel writer using openpyxl as the engine\n",
    "with pd.ExcelWriter(file_name, engine='openpyxl', mode='a') as writer:\n",
    "    # Write the combined_new_accounts DataFrame to a new sheet in the workbook\n",
    "    combined_new_accounts.to_excel(writer, sheet_name=new_sheet_name, index=False)"
   ]
  },
  {
   "cell_type": "markdown",
   "metadata": {},
   "source": [
    "### Save file to excel: create a new excel file with separate sheets"
   ]
  }
 ],
 "metadata": {
  "kernelspec": {
   "display_name": "dedupe-examples",
   "language": "python",
   "name": "python3"
  },
  "language_info": {
   "codemirror_mode": {
    "name": "ipython",
    "version": 3
   },
   "file_extension": ".py",
   "mimetype": "text/x-python",
   "name": "python",
   "nbconvert_exporter": "python",
   "pygments_lexer": "ipython3",
   "version": "3.8.10"
  }
 },
 "nbformat": 4,
 "nbformat_minor": 2
}
